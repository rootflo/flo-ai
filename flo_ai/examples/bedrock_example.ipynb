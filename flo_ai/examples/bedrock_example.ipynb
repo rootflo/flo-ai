{
 "cells": [
  {
   "cell_type": "code",
   "execution_count": 1,
   "metadata": {},
   "outputs": [],
   "source": [
    "import os\n",
    "import boto3\n",
    "import yaml\n",
    "import json\n",
    "from pydantic import Field, BaseModel\n",
    "from langchain_aws import ChatBedrock\n",
    "from langchain_openai import ChatOpenAI"
   ]
  },
  {
   "cell_type": "code",
   "execution_count": 2,
   "metadata": {},
   "outputs": [],
   "source": [
    "from flo_ai.tools import flotool\n",
    "from flo_ai import FloSession, Flo\n",
    "from flo_ai_tools import RedshiftConnector, RedshiftConfig"
   ]
  },
  {
   "cell_type": "code",
   "execution_count": 3,
   "metadata": {},
   "outputs": [],
   "source": [
    "redshift = RedshiftConnector(RedshiftConfig(\n",
    "    username=os.getenv(\"REDSHIFT_USERNAME\"),\n",
    "    password=os.getenv(\"REDSHIFT_PASSWORD\"),\n",
    "    host=os.getenv(\"REDSHIFT_HOST\"),\n",
    "    port=os.getenv(\"REDSHIFT_PORT\"),\n",
    "    db_name=os.getenv(\"REDSHIFT_DB\"),\n",
    "))"
   ]
  },
  {
   "cell_type": "code",
   "execution_count": 4,
   "metadata": {},
   "outputs": [],
   "source": [
    "AWS_REGION = os.getenv(\"AWS_REGION\")\n",
    "AWS_BEDROCK_MODEL_ID = os.getenv(\"AWS_BEDROCK_MODEL_ID\")"
   ]
  },
  {
   "cell_type": "code",
   "execution_count": 5,
   "metadata": {},
   "outputs": [],
   "source": [
    "\n",
    "bedrock_client = boto3.client(\n",
    "    service_name=\"bedrock-runtime\",\n",
    "    region_name=AWS_REGION\n",
    ")"
   ]
  },
  {
   "cell_type": "code",
   "execution_count": 6,
   "metadata": {},
   "outputs": [],
   "source": [
    "with open('./data/schema.yaml') as f:\n",
    "    schema = yaml.safe_load(f)\n",
    "\n",
    "columns = schema['columns']\n",
    "columns_with_desc = [col for col in columns if col['description'] is not None]\n",
    "schema['columns'] = columns_with_desc"
   ]
  },
  {
   "cell_type": "code",
   "execution_count": 7,
   "metadata": {},
   "outputs": [],
   "source": [
    "bedrock_chat = ChatBedrock(\n",
    "    client=bedrock_client,\n",
    "    provider=\"anthropic\",\n",
    "    model_id=AWS_BEDROCK_MODEL_ID,\n",
    "    region_name=AWS_REGION,\n",
    "    \n",
    "    model_kwargs= {\n",
    "        \"temperature\": 0.2,\n",
    "        \"max_tokens\": 4000\n",
    "    }\n",
    ")\n",
    "\n",
    "gpt = ChatOpenAI(temperature=0.2)\n"
   ]
  },
  {
   "cell_type": "code",
   "execution_count": 8,
   "metadata": {},
   "outputs": [],
   "source": [
    "class RedshiftQueryToolInput(BaseModel):\n",
    "    query: str = Field(\n",
    "        ..., \n",
    "        description='The query to be run on reshift db. All queries should use proper column projections to use only the minimum required columns'\n",
    "    )\n",
    "\n",
    "@flotool(\n",
    "    name='RedshiftQueryTool', \n",
    "    description='This tool has the ability to run queries on Redshift DB', \n",
    "    argument_contract=RedshiftQueryToolInput\n",
    ")\n",
    "def redshift_execution_tool(query: str):\n",
    "    results, column_names = redshift.execute_query(query=query)\n",
    "    output = []\n",
    "    for result in results:\n",
    "        row = []\n",
    "        for i, column in enumerate(column_names):\n",
    "            row.append(f\"{column}: {result[i]}\")\n",
    "        output.append(\"\\n\".join(row))\n",
    "    full_text = \"\\n ---- \\n\".join(output)\n",
    "    print(f\"Here is the response fro the db: {full_text}\")\n",
    "    return f\"Here is the response fro the db: {full_text}\""
   ]
  },
  {
   "cell_type": "code",
   "execution_count": null,
   "metadata": {},
   "outputs": [],
   "source": [
    "yaml_data = f\"\"\"\n",
    "apiVersion: flo/alpha-v1\n",
    "kind: FloRoutedTeam\n",
    "name: analytics-flo\n",
    "team:\n",
    "    name: AnalyticsTeam\n",
    "    agents:\n",
    "      - name: AnalyticsDelegator\n",
    "        kind: delegator\n",
    "        role: analytics team manager\n",
    "        to:\n",
    "          - name: Analyst\n",
    "          - name: __end__\n",
    "        job: >\n",
    "          Your job is to understand the users question and delegate to the right agent\n",
    "          If the question is very generic, ask the AnalyticsPresenter to ask the user about more specific details, \n",
    "          to clarify the question.\n",
    "          If the question can be answered from the database, ask the Analyst\n",
    "\n",
    "          eg:\n",
    "          \"How did we perform this week compared to last week\" - then the you should confirm the understanding of \"performance\" before going forward - \"By performance, do you mean First Call Resolution, Average Handler Time or something else?\"\n",
    "\n",
    "      - name: Analyst\n",
    "        kind: agentic\n",
    "        role: expert in writing and executing Redshift Queries\n",
    "        job: >\n",
    "          Your job is to understand the human question, and answer the question.\n",
    "          You can use the given tools to query data from the redshift.\n",
    "          Always use aggregration queries, never fetch row queries and optimize the query for minimal output\n",
    "        tools:\n",
    "            - name: RedshiftQueryTool\n",
    "\n",
    "      - name: AnalyticsPresenter\n",
    "        kind: llm\n",
    "        role: expert product manager\n",
    "        job: >\n",
    "          If the assistant has given an answer, summarize it and return the answer as if you are talking to a product manager\n",
    "          If you needs more information, ask for the same. Always produce a good answer, this output will be show on the UI\n",
    "    router:\n",
    "      name: router\n",
    "      kind: linear\n",
    "\"\"\""
   ]
  },
  {
   "cell_type": "code",
   "execution_count": 10,
   "metadata": {},
   "outputs": [],
   "source": [
    "session = FloSession(bedrock_chat).register_tool(\n",
    "    name=\"RedshiftQueryTool\", \n",
    "    tool=redshift_execution_tool\n",
    ")"
   ]
  },
  {
   "cell_type": "code",
   "execution_count": 11,
   "metadata": {},
   "outputs": [
    {
     "data": {
      "image/png": "[encoded data removed]",
      "text/plain": [
       "<IPython.core.display.Image object>"
      ]
     },
     "metadata": {},
     "output_type": "display_data"
    }
   ],
   "source": [
    "flo: Flo = Flo.build(session, yaml=yaml_data)\n",
    "flo.draw()"
   ]
  },
  {
   "cell_type": "code",
   "execution_count": 13,
   "metadata": {},
   "outputs": [],
   "source": [
    "input_prompt = f\"\"\"\n",
    "Find me products which has high escalations percentages:\n",
    "\n",
    "Below is the schema of the table:\n",
    "{json.dumps(schema)}\n",
    "\"\"\""
   ]
  },
  {
   "cell_type": "code",
   "execution_count": 14,
   "metadata": {},
   "outputs": [
    {
     "name": "stdout",
     "output_type": "stream",
     "text": [
      "{'AnalyticsDelegator': {'messages': ['Please find the products with high escalation percentages by calculating the percentage of escalated calls for each product and sorting them in descending order.'], 'next': 'Analyst'}}\n",
      "----\n",
      "Here is the response fro the db: product: branch_complaint\n",
      "total_calls: 1\n",
      "escalated_calls: 1\n",
      "escalation_percentage: 100.00\n",
      " ---- \n",
      "product: home_loan\n",
      "total_calls: 10\n",
      "escalated_calls: 1\n",
      "escalation_percentage: 10.00\n",
      " ---- \n",
      "product: savings_account\n",
      "total_calls: 20\n",
      "escalated_calls: 1\n",
      "escalation_percentage: 5.00\n",
      " ---- \n",
      "product: personal_loan\n",
      "total_calls: 216\n",
      "escalated_calls: 7\n",
      "escalation_percentage: 3.24\n",
      " ---- \n",
      "product: gold_loan\n",
      "total_calls: 1278\n",
      "escalated_calls: 9\n",
      "escalation_percentage: 0.70\n",
      " ---- \n",
      "product: transaction\n",
      "total_calls: 30\n",
      "escalated_calls: 0\n",
      "escalation_percentage: 0.00\n",
      " ---- \n",
      "product: insurance\n",
      "total_calls: 3\n",
      "escalated_calls: 0\n",
      "escalation_percentage: 0.00\n",
      " ---- \n",
      "product: top_up_request\n",
      "total_calls: 1\n",
      "escalated_calls: 0\n",
      "escalation_percentage: 0.00\n",
      " ---- \n",
      "product: fixed_deposits\n",
      "total_calls: 3\n",
      "escalated_calls: 0\n",
      "escalation_percentage: 0.00\n",
      " ---- \n",
      "product: balance_transfer\n",
      "total_calls: 1\n",
      "escalated_calls: 0\n",
      "escalation_percentage: 0.00\n",
      "{'Analyst': {'messages': [HumanMessage(content=[{'type': 'text', 'text': '\\n\\nLet me break down the results for you:\\n\\n1. Branch Complaint: 100% escalation rate (1 out of 1 call escalated)\\n2. Home Loan: 10% escalation rate (1 out of 10 calls escalated)\\n3. Savings Account: 5% escalation rate (1 out of 20 calls escalated)\\n4. Personal Loan: 3.24% escalation rate (7 out of 216 calls escalated)\\n5. Gold Loan: 0.70% escalation rate (9 out of 1,278 calls escalated)\\n\\nSome observations:\\n- Branch Complaint has the highest escalation percentage, but this is based on a very small sample size (only 1 call)\\n- Home Loan and Savings Account have relatively high escalation percentages\\n- Personal Loan has a moderate escalation percentage\\n- Gold Loan, despite having the most calls, has a low escalation percentage\\n\\nA few caveats:\\n1. The results are heavily influenced by the sample size\\n2. For products with very few calls (like branch_complaint), the percentage might not be statistically significant\\n3. I recommend focusing on products with a larger number of total calls for more reliable insights\\n\\nWould you like me to refine the analysis further, such as filtering for products with a minimum number of calls?', 'index': 0}], additional_kwargs={}, response_metadata={}, name='Analyst')]}}\n",
      "----\n",
      "{'AnalyticsPresenter': {'messages': [HumanMessage(content='Product Escalation Analysis Summary for Leadership:\\n\\n🔍 Key Insights:\\n\\nProduct Escalation Breakdown:\\n1. Branch Complaint: 100% (Caution: Very small sample size)\\n2. Home Loan: 10% Escalation Rate\\n3. Savings Account: 5% Escalation Rate\\n4. Personal Loan: 3.24% Escalation Rate\\n5. Gold Loan: 0.70% Escalation Rate\\n\\nStrategic Recommendations:\\n- Prioritize investigation into Home Loan and Savings Account processes\\n- Conduct deeper root cause analysis for high escalation products\\n- Develop targeted agent training for these specific product lines\\n- Implement process improvements based on escalation patterns\\n\\nRisk Mitigation:\\n- For products with high escalation rates, create specialized support protocols\\n- Review current customer interaction workflows\\n- Enhance first-call resolution strategies\\n\\nLimitations:\\n- Some results might be statistically insignificant due to small sample sizes\\n- Recommend continuous monitoring and larger data collection\\n\\nNext Steps:\\n1. Validate findings with additional data points\\n2. Develop targeted intervention strategies\\n3. Monitor escalation trends quarterly\\n\\nWould you like a more detailed breakdown or specific recommendations for reducing escalations?', additional_kwargs={}, response_metadata={}, name='AnalyticsPresenter')]}}\n",
      "----\n"
     ]
    }
   ],
   "source": [
    "for s in flo.stream(input_prompt):\n",
    "    if '__end__' not in s:\n",
    "        print(s)\n",
    "        print('----')"
   ]
  }
 ],
 "metadata": {
  "kernelspec": {
   "display_name": ".venv",
   "language": "python",
   "name": "python3"
  },
  "language_info": {
   "codemirror_mode": {
    "name": "ipython",
    "version": 3
   },
   "file_extension": ".py",
   "mimetype": "text/x-python",
   "name": "python",
   "nbconvert_exporter": "python",
   "pygments_lexer": "ipython3",
   "version": "3.10.10"
  }
 },
 "nbformat": 4,
 "nbformat_minor": 2
}
