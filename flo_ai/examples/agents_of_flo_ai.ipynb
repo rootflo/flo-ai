{
 "cells": [
  {
   "cell_type": "markdown",
   "metadata": {},
   "source": [
    "# The Agents of FloAI\n",
    "\n",
    "This notebook shows different kinds of agents that can be built using flo-ai. These agents have their own specialities, and this notebook tries to explain them.\n",
    "\n",
    "Here are the major types of agents:\n",
    "\n",
    "1. Agentic Agents (`kind: agentic`): Any agent created in flo-ai by default tries to be an agentic agent. This agent always needs a tool, meaning an agent without a tool if specified as agentic agent whill throw an exception\n",
    "\n",
    "2. LLM Agents (`kind: llm`): These agents are simply an LLM which can answer any questions asked to it. The agents dont except tools. If tool is passed to an agent of type llm, they are ignored.\n",
    "\n",
    "3. Tool Agents (`kind: tool`): These agents are just tools or functions that can be executed on the current state. Within the tool will be given the current state as the input, meaning the history of what happened in the flo until now\n",
    "\n",
    "4. Reflection Agents (`kind: reflection`): These agents can help in reflecting on the current answer and retrying an exisitng flow. This is useful when you want to re-evaluate an answer with better model for example.\n",
    "\n",
    "5. Delegator Agent (`kind: delegator`): These agents can delegate to any other agent with the workflow based on a prompt. For example you want to delegate to different agents based on the user question"
   ]
  },
  {
   "cell_type": "code",
   "execution_count": 1,
   "metadata": {},
   "outputs": [
    {
     "data": {
      "text/plain": [
       "True"
      ]
     },
     "execution_count": 1,
     "metadata": {},
     "output_type": "execute_result"
    }
   ],
   "source": [
    "from flo_ai import Flo\n",
    "from flo_ai import FloSession\n",
    "from flo_ai.common.flo_logger import get_logger\n",
    "from flo_ai.common.flo_langchain_logger import FloLangchainLogger\n",
    "from langchain_openai import ChatOpenAI, OpenAIEmbeddings\n",
    "\n",
    "from dotenv import load_dotenv\n",
    "load_dotenv()"
   ]
  },
  {
   "cell_type": "markdown",
   "metadata": {},
   "source": [
    "## Setup\n",
    "Create the Flo session, setup tools"
   ]
  },
  {
   "cell_type": "code",
   "execution_count": 2,
   "metadata": {},
   "outputs": [
    {
     "data": {
      "text/plain": [
       "<flo_ai.state.flo_session.FloSession at 0x112672350>"
      ]
     },
     "execution_count": 2,
     "metadata": {},
     "output_type": "execute_result"
    }
   ],
   "source": [
    "from langchain_community.tools.tavily_search.tool import TavilySearchResults\n",
    "from flo_ai.common.flo_langchain_logger import FloLangchainLogger\n",
    "\n",
    "llm = ChatOpenAI(temperature=0, model_name='gpt-4o-mini')\n",
    "\n",
    "session = FloSession(\n",
    "    llm\n",
    ")\n",
    "\n",
    "session.register_tool(\n",
    "    name=\"InternetSearchTool\", \n",
    "    tool=TavilySearchResults()\n",
    ")"
   ]
  },
  {
   "cell_type": "markdown",
   "metadata": {},
   "source": [
    "## Agentic Agent (agentic)\n",
    "\n",
    "Here we are gonna create a simple weather assitant flo agent that can check the whether by an internet searching tool.\n",
    "\n",
    "As you can see the kind is `agentic`"
   ]
  },
  {
   "cell_type": "code",
   "execution_count": 3,
   "metadata": {},
   "outputs": [],
   "source": [
    "simple_weather_checking_agent = \"\"\"\n",
    "apiVersion: flo/alpha-v1\n",
    "kind: FloAgent\n",
    "name: weather-assistant\n",
    "agent:\n",
    "    name: WeatherAssistant\n",
    "    kind: agentic\n",
    "    job: >\n",
    "      Given the city name you are capable of answering the latest whether this time of the year by searching the internet\n",
    "    tools:\n",
    "      - name: InternetSearchTool\n",
    "\"\"\""
   ]
  },
  {
   "cell_type": "code",
   "execution_count": 4,
   "metadata": {},
   "outputs": [
    {
     "data": {
      "image/png": "[encoded data removed]",
      "text/plain": [
       "<IPython.core.display.Image object>"
      ]
     },
     "metadata": {},
     "output_type": "display_data"
    }
   ],
   "source": [
    "from IPython.display import Image, display\n",
    "flo = Flo.build(session, simple_weather_checking_agent)\n",
    "\n",
    "flo.draw(xray=True)"
   ]
  },
  {
   "cell_type": "code",
   "execution_count": 5,
   "metadata": {},
   "outputs": [
    {
     "name": "stdout",
     "output_type": "stream",
     "text": [
      "{'messages': [HumanMessage(content='Whats the whether in New Delhi, India ?', additional_kwargs={}, response_metadata={}), HumanMessage(content='As of now, the weather in New Delhi, India is as follows:\\n\\n- **Temperature**: 32.2°C (90°F)\\n- **Condition**: Mist\\n- **Humidity**: 46%\\n- **Wind**: 9.2 mph (14.8 kph) from the WSW\\n- **Visibility**: 4 km\\n- **Feels Like**: 30°C (86°F)\\n\\nFor more detailed forecasts and updates, you can check [Weather API](https://www.weatherapi.com/) or [World Weather Info](https://world-weather.info/forecast/india/delhi/october-2023/).', additional_kwargs={}, response_metadata={}, name='WeatherAssistant')]}\n"
     ]
    }
   ],
   "source": [
    "result = flo.invoke(\"Whats the whether in New Delhi, India ?\")\n",
    "print(result)"
   ]
  },
  {
   "cell_type": "markdown",
   "metadata": {},
   "source": [
    "Lets create the same agent but using code"
   ]
  },
  {
   "cell_type": "code",
   "execution_count": 5,
   "metadata": {},
   "outputs": [
    {
     "data": {
      "image/png": "[encoded data removed]",
      "text/plain": [
       "<IPython.core.display.Image object>"
      ]
     },
     "metadata": {},
     "output_type": "display_data"
    },
    {
     "data": {
      "text/plain": [
       "{'messages': [HumanMessage(content='Whats the whether in New Delhi, India ?', additional_kwargs={}, response_metadata={}),\n",
       "  HumanMessage(content='As of now, the weather in New Delhi, India is as follows:\\n\\n- **Temperature**: 32.2°C (90°F)\\n- **Condition**: Mist\\n- **Wind**: 9.2 mph (14.8 kph) from the WSW\\n- **Humidity**: 46%\\n- **Visibility**: 4 km\\n- **Feels Like**: 30°C (86°F)\\n\\nFor more detailed forecasts and updates, you can check [Weather API](https://www.weatherapi.com/) or [World Weather Info](https://world-weather.info/forecast/india/delhi/october-2023/).', additional_kwargs={}, response_metadata={}, name='WeatherAssistant')]}"
      ]
     },
     "execution_count": 5,
     "metadata": {},
     "output_type": "execute_result"
    }
   ],
   "source": [
    "from flo_ai import FloAgent\n",
    "\n",
    "weather_agent = FloAgent.create(\n",
    "    session=session,\n",
    "    name=\"WeatherAssistant\",\n",
    "    job=\"Given the city name you are capable of answering the latest whether this time of the year by searching the internet\",\n",
    "    tools=[TavilySearchResults()]\n",
    ")\n",
    "\n",
    "agent_flo: Flo = Flo.create(session, weather_agent)\n",
    "agent_flo.draw(xray=False)\n",
    "\n",
    "agent_flo.invoke(\"Whats the whether in New Delhi, India ?\")"
   ]
  },
  {
   "cell_type": "markdown",
   "metadata": {},
   "source": [
    "## LLM Agent (llm)\n",
    "\n",
    "Here we are gonna create a simple llm math assitant flo agent that can check answer any math question\n",
    "\n",
    "As you can see the kind is `llm`"
   ]
  },
  {
   "cell_type": "code",
   "execution_count": 6,
   "metadata": {},
   "outputs": [],
   "source": [
    "simple_llm_agent = \"\"\"\n",
    "apiVersion: flo/alpha-v1\n",
    "kind: FloAgent\n",
    "name: llm-assistant\n",
    "agent:\n",
    "    name: ask-llm-anything\n",
    "    kind: llm\n",
    "    job: >\n",
    "      You are a high school maths teacher. Answer any questions the students ask \n",
    "\"\"\""
   ]
  },
  {
   "cell_type": "code",
   "execution_count": 7,
   "metadata": {},
   "outputs": [
    {
     "data": {
      "image/png": "[encoded data removed]",
      "text/plain": [
       "<IPython.core.display.Image object>"
      ]
     },
     "metadata": {},
     "output_type": "display_data"
    }
   ],
   "source": [
    "flo = Flo.build(session, simple_llm_agent)\n",
    "\n",
    "flo.draw(xray=True)"
   ]
  },
  {
   "cell_type": "code",
   "execution_count": 11,
   "metadata": {},
   "outputs": [
    {
     "name": "stdout",
     "output_type": "stream",
     "text": [
      "{}\n",
      "---------g------\n"
     ]
    },
    {
     "data": {
      "text/plain": [
       "{'messages': [HumanMessage(content='What is pythagorus theorum, just give me the formula', additional_kwargs={}, response_metadata={}),\n",
       "  HumanMessage(content='The Pythagorean theorem states that in a right triangle, the square of the length of the hypotenuse (the side opposite the right angle) is equal to the sum of the squares of the lengths of the other two sides. The formula is:\\n\\n\\\\( a^2 + b^2 = c^2 \\\\)\\n\\nwhere \\\\( c \\\\) is the length of the hypotenuse, and \\\\( a \\\\) and \\\\( b \\\\) are the lengths of the other two sides.', additional_kwargs={}, response_metadata={}, name='ask-llm-anything')]}"
      ]
     },
     "execution_count": 11,
     "metadata": {},
     "output_type": "execute_result"
    }
   ],
   "source": [
    "flo.invoke(\"What is pythagorus theorum, just give me the formula\")"
   ]
  },
  {
   "cell_type": "markdown",
   "metadata": {},
   "source": [
    "Code implementation"
   ]
  },
  {
   "cell_type": "code",
   "execution_count": 12,
   "metadata": {},
   "outputs": [
    {
     "data": {
      "image/png": "[encoded data removed]",
      "text/plain": [
       "<IPython.core.display.Image object>"
      ]
     },
     "metadata": {},
     "output_type": "display_data"
    },
    {
     "name": "stdout",
     "output_type": "stream",
     "text": [
      "{}\n",
      "---------g------\n"
     ]
    },
    {
     "data": {
      "text/plain": [
       "{'messages': [HumanMessage(content='What is pythagorus theorum, just give me the formula', additional_kwargs={}, response_metadata={}),\n",
       "  HumanMessage(content='The Pythagorean theorem states that in a right triangle, the square of the length of the hypotenuse (the side opposite the right angle) is equal to the sum of the squares of the lengths of the other two sides. The formula is:\\n\\n\\\\[ c^2 = a^2 + b^2 \\\\]\\n\\nwhere \\\\( c \\\\) is the length of the hypotenuse, and \\\\( a \\\\) and \\\\( b \\\\) are the lengths of the other two sides.', additional_kwargs={}, response_metadata={}, name='WeatherAssistant')]}"
      ]
     },
     "execution_count": 12,
     "metadata": {},
     "output_type": "execute_result"
    }
   ],
   "source": [
    "from flo_ai import FloLLMAgent\n",
    "\n",
    "simple_llm_agent = FloLLMAgent.create(\n",
    "    session=session,\n",
    "    name=\"WeatherAssistant\",\n",
    "    job=\"You are a high school maths teacher. Answer any questions the students ask \",\n",
    ")\n",
    "\n",
    "agent_flo: Flo = Flo.create(session, simple_llm_agent)\n",
    "agent_flo.draw()\n",
    "\n",
    "agent_flo.invoke(\"What is pythagorus theorum, just give me the formula\")"
   ]
  },
  {
   "cell_type": "markdown",
   "metadata": {},
   "source": [
    "# Tool Agent (tool)\n",
    "\n",
    "Lets create a simple tool agent, which has just a tool and nothing else. The tool agent just executes a tool and nothing else. The tool can invoke llms within if in needs to"
   ]
  },
  {
   "cell_type": "markdown",
   "metadata": {},
   "source": [
    "#"
   ]
  },
  {
   "cell_type": "code",
   "execution_count": 8,
   "metadata": {},
   "outputs": [
    {
     "data": {
      "image/png": "[encoded data removed]",
      "text/plain": [
       "<IPython.core.display.Image object>"
      ]
     },
     "metadata": {},
     "output_type": "display_data"
    }
   ],
   "source": [
    "from flo_ai.tools import flotool\n",
    "from langchain.tools import BaseTool\n",
    "\n",
    "@flotool(\"print_tool\", \"To print the state\")\n",
    "def print_state(**kwargs):\n",
    "    print(kwargs)\n",
    "    return \"Print tool call success\"\n",
    "    \n",
    "session.register_tool(\n",
    "    name=\"printStateTool\", \n",
    "    tool=print_state\n",
    ")\n",
    "    \n",
    "simple_tool_agent = \"\"\"\n",
    "apiVersion: flo/alpha-v1\n",
    "kind: FloAgent\n",
    "name: llm-tool\n",
    "agent:\n",
    "    name: tool-to-print-state\n",
    "    kind: tool\n",
    "    tools:\n",
    "        - name: printStateTool\n",
    "\"\"\"\n",
    "\n",
    "flo = Flo.build(session, simple_tool_agent)\n",
    "\n",
    "flo.draw()"
   ]
  },
  {
   "cell_type": "code",
   "execution_count": 9,
   "metadata": {},
   "outputs": [
    {
     "name": "stdout",
     "output_type": "stream",
     "text": [
      "{}\n",
      "{'messages': [HumanMessage(content='Print what I am saying', additional_kwargs={}, response_metadata={}), HumanMessage(content='Print tool call success', additional_kwargs={}, response_metadata={}, name='tool-to-print-state')]}\n"
     ]
    }
   ],
   "source": [
    "print(flo.invoke(\"Print what I am saying\"))"
   ]
  },
  {
   "cell_type": "markdown",
   "metadata": {},
   "source": [
    "Building with code"
   ]
  },
  {
   "cell_type": "code",
   "execution_count": 14,
   "metadata": {},
   "outputs": [
    {
     "data": {
      "image/png": "[encoded data removed]",
      "text/plain": [
       "<IPython.core.display.Image object>"
      ]
     },
     "metadata": {},
     "output_type": "display_data"
    },
    {
     "name": "stdout",
     "output_type": "stream",
     "text": [
      "{}\n",
      "Print tool call success\n"
     ]
    }
   ],
   "source": [
    "from flo_ai import FloToolAgent\n",
    "\n",
    "simple_tool_agent = FloToolAgent.create(\n",
    "    session=session,\n",
    "    name=\"llm-tool\",\n",
    "    tool=print_state\n",
    ")\n",
    "\n",
    "agent_flo: Flo = Flo.create(session, simple_tool_agent)\n",
    "agent_flo.draw()\n",
    "\n",
    "print(flo.invoke(\"Print what I am saying\"))"
   ]
  },
  {
   "cell_type": "markdown",
   "metadata": {},
   "source": [
    "# Reflection Agent (reflection)\n",
    "These agents help evaluate a work based on certain criteria. In the graph you can see flo has automatically added reflection manager to handle retries and its count."
   ]
  },
  {
   "cell_type": "code",
   "execution_count": 10,
   "metadata": {},
   "outputs": [
    {
     "data": {
      "image/png": "[encoded data removed]",
      "text/plain": [
       "<IPython.core.display.Image object>"
      ]
     },
     "metadata": {},
     "output_type": "display_data"
    }
   ],
   "source": [
    "yaml_data = \"\"\"\n",
    "apiVersion: flo/alpha-v1\n",
    "kind: FloRoutedTeam\n",
    "name: adding-team\n",
    "team:\n",
    "    name: EssayTeam\n",
    "    agents:\n",
    "      - name: EssayWriter\n",
    "        kind: llm\n",
    "        job: >\n",
    "          You are an essay assistant tasked with writing excellent 300-words essays. Generate the best essay possible for the user's request. \n",
    "          If the you are provided critique view, respond with a revised version of your previous attempts. A maximum of total 100 words\n",
    "      - name: ReflectionAgent\n",
    "        kind: reflection\n",
    "        retry: 1\n",
    "        to: \n",
    "          - name: EssayWriter\n",
    "        job: >\n",
    "          You are a teacher grading an essay submission. Generate critique and recommendations for the user's submission.\n",
    "          Provide detailed recommendations, including requests for length, depth, style, etc.\n",
    "      - name: FinalEssayProducer\n",
    "        kind: llm\n",
    "        job: >\n",
    "          Generate the final assay to be returned to the user\n",
    "    router:\n",
    "      name: router\n",
    "      kind: linear\n",
    "\"\"\"\n",
    "\n",
    "input_prompt = \"\"\"\n",
    "Question: Write me an interesting blog about latest advancements in agentic AI by reasearching the internet\n",
    "\"\"\"\n",
    "\n",
    "llm = ChatOpenAI(temperature=0, model_name='gpt-4o-mini')\n",
    "session = FloSession(llm).register_tool(\n",
    "    name=\"TavilySearchResults\", \n",
    "    tool=TavilySearchResults()\n",
    ")\n",
    "\n",
    "flo: Flo = Flo.build(session, yaml=yaml_data)\n",
    "flo.draw()"
   ]
  },
  {
   "cell_type": "markdown",
   "metadata": {},
   "source": [
    "# Delegator Agent (delegator)\n",
    "\n",
    "Using these agents you can do redirects, this can help redirecting calls as well as retrying previous steps"
   ]
  },
  {
   "cell_type": "code",
   "execution_count": 11,
   "metadata": {},
   "outputs": [
    {
     "data": {
      "image/png": "[encoded data removed]",
      "text/plain": [
       "<IPython.core.display.Image object>"
      ]
     },
     "metadata": {},
     "output_type": "display_data"
    }
   ],
   "source": [
    "yaml_data = \"\"\"\n",
    "apiVersion: flo/alpha-v1\n",
    "kind: FloRoutedTeam\n",
    "name: adding-team\n",
    "team:\n",
    "    name: EssayTeam\n",
    "    agents:\n",
    "      - name: EssayWriter\n",
    "        kind: llm\n",
    "        job: >\n",
    "          You are an essay assistant tasked with writing excellent 300 words essay. Generate the best essay possible for the user's request. \n",
    "          If the you are provided critique view, respond with a revised version of your previous attempts. A maximum of total 100 words\n",
    "      - name: DelegatorAgent\n",
    "        kind: delegator\n",
    "        retry: 1\n",
    "        to: \n",
    "          - name: EssayWriter\n",
    "        job: >\n",
    "          You are a teacher grading an essay submission. Score the essay between 1 to 10, with 10 being perfect\n",
    "          If the score is greater than 7 sent it to FinalEssayProducer\n",
    "          else if its less than or equal to 7 sent it to EssayWriter with suggestions to change\n",
    "      - name: FinalEssayProducer\n",
    "        kind: llm\n",
    "        job: >\n",
    "          Generate the final assay to be returned to the user\n",
    "    router:\n",
    "      name: router\n",
    "      kind: linear\n",
    "\"\"\"\n",
    "\n",
    "input_prompt = \"\"\"\n",
    "Question: Write me an interesting blog about latest advancements in agentic AI by reasearching the internet\n",
    "\"\"\"\n",
    "\n",
    "llm = ChatOpenAI(temperature=0, model_name='gpt-4o-mini')\n",
    "session = FloSession(llm)\n",
    "\n",
    "flo: Flo = Flo.build(session, yaml=yaml_data)\n",
    "flo.draw()\n",
    "# data = flo.invoke(input_prompt)\n",
    "# print((data['messages'][-1]).content)"
   ]
  }
 ],
 "metadata": {
  "kernelspec": {
   "display_name": ".venv",
   "language": "python",
   "name": "python3"
  },
  "language_info": {
   "codemirror_mode": {
    "name": "ipython",
    "version": 3
   },
   "file_extension": ".py",
   "mimetype": "text/x-python",
   "name": "python",
   "nbconvert_exporter": "python",
   "pygments_lexer": "ipython3",
   "version": "3.10.10"
  }
 },
 "nbformat": 4,
 "nbformat_minor": 2
}
