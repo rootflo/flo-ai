{
 "cells": [
  {
   "cell_type": "markdown",
   "metadata": {},
   "source": [
    "# The Agents of FloAI\n",
    "\n",
    "This notebook shows different kinds of agents that can be built using flo-ai. These agents have their own specialities, and this notebook tries to explain them.\n",
    "\n",
    "Here are the major types of agents:\n",
    "\n",
    "1. Agentic Agents (`kind: agentic`): Any agent created in flo-ai by default tries to be an agentic agent. This agent always needs a tool, meaning an agent without a tool if specified as agentic agent whill throw an exception\n",
    "\n",
    "2. LLM Agents (`kind: llm`): These agents are simply an LLM which can answer any questions asked to it. The agents dont except tools. If tool is passed to an agent of type llm, they are ignored.\n",
    "\n",
    "3. Tool LLM (`kind: tool`): These agents are just tools or functions that can be executed on the current state. Within the tool will be given the current state as the input, meaning the history of what happened in the network right now"
   ]
  },
  {
   "cell_type": "code",
   "execution_count": 1,
   "metadata": {},
   "outputs": [
    {
     "data": {
      "text/plain": [
       "True"
      ]
     },
     "execution_count": 1,
     "metadata": {},
     "output_type": "execute_result"
    }
   ],
   "source": [
    "from flo_ai import Flo\n",
    "from flo_ai import FloSession\n",
    "from langchain_openai import ChatOpenAI, OpenAIEmbeddings\n",
    "\n",
    "from dotenv import load_dotenv\n",
    "load_dotenv()"
   ]
  },
  {
   "cell_type": "markdown",
   "metadata": {},
   "source": [
    "## Setup\n",
    "Create the Flo session, setup tools"
   ]
  },
  {
   "cell_type": "code",
   "execution_count": 2,
   "metadata": {},
   "outputs": [
    {
     "data": {
      "text/plain": [
       "<flo_ai.state.flo_session.FloSession at 0x11b44c410>"
      ]
     },
     "execution_count": 2,
     "metadata": {},
     "output_type": "execute_result"
    }
   ],
   "source": [
    "from langchain_community.tools.tavily_search.tool import TavilySearchResults\n",
    "\n",
    "llm = ChatOpenAI(temperature=0, model_name='gpt-4o-mini')\n",
    "session = FloSession(llm)\n",
    "\n",
    "session.register_tool(\n",
    "    name=\"InternetSearchTool\", \n",
    "    tool=TavilySearchResults()\n",
    ")"
   ]
  },
  {
   "cell_type": "markdown",
   "metadata": {},
   "source": [
    "## Agentic Agent (agentic)\n",
    "\n",
    "Here we are gonna create a simple weather assitant flo agent that can check the whether by an internet searching tool.\n",
    "\n",
    "As you can see the kind is `agentic`"
   ]
  },
  {
   "cell_type": "code",
   "execution_count": 3,
   "metadata": {},
   "outputs": [],
   "source": [
    "simple_weather_checking_agent = \"\"\"\n",
    "apiVersion: flo/alpha-v1\n",
    "kind: FloAgent\n",
    "name: weather-assistant\n",
    "agent:\n",
    "    name: Weather Assistant\n",
    "    kind: agentic\n",
    "    job: >\n",
    "      Given the city name you are capable of answering the latest whether this time of the year by searching the internet\n",
    "    tools:\n",
    "      - name: InternetSearchTool\n",
    "\"\"\""
   ]
  },
  {
   "cell_type": "code",
   "execution_count": 4,
   "metadata": {},
   "outputs": [
    {
     "name": "stdout",
     "output_type": "stream",
     "text": [
      "\n",
      "\n",
      "\u001b[1m> Entering new AgentExecutor chain...\u001b[0m\n",
      "\u001b[32;1m\u001b[1;3m\n",
      "Invoking: `tavily_search_results_json` with `{'query': 'California weather October 2023'}`\n",
      "\n",
      "\n",
      "\u001b[0m\u001b[36;1m\u001b[1;3m[{'url': 'https://www.weatherapi.com/', 'content': \"{'location': {'name': 'California City', 'region': 'California', 'country': 'United States of America', 'lat': 35.13, 'lon': -117.99, 'tz_id': 'America/Los_Angeles', 'localtime_epoch': 1725356198, 'localtime': '2024-09-03 02:36'}, 'current': {'last_updated_epoch': 1725355800, 'last_updated': '2024-09-03 02:30', 'temp_c': 25.3, 'temp_f': 77.5, 'is_day': 0, 'condition': {'text': 'Clear', 'icon': '//cdn.weatherapi.com/weather/64x64/night/113.png', 'code': 1000}, 'wind_mph': 3.8, 'wind_kph': 6.1, 'wind_degree': 230, 'wind_dir': 'SW', 'pressure_mb': 1016.0, 'pressure_in': 29.99, 'precip_mm': 0.0, 'precip_in': 0.0, 'humidity': 28, 'cloud': 0, 'feelslike_c': 24.9, 'feelslike_f': 76.9, 'windchill_c': 24.1, 'windchill_f': 75.4, 'heatindex_c': 24.3, 'heatindex_f': 75.7, 'dewpoint_c': 5.8, 'dewpoint_f': 42.4, 'vis_km': 16.0, 'vis_miles': 9.0, 'uv': 1.0, 'gust_mph': 9.9, 'gust_kph': 15.9}}\"}, {'url': 'https://www.timeanddate.com/weather/usa/los-angeles/historic?month=10&year=2023', 'content': 'Weather reports from October 2023 in Los Angeles, California, USA with highs and lows. Sign in. News. News Home; Astronomy News; Time Zone News; Calendar & Holiday News; Newsletter; Live events. ... High & Low Weather Summary for October 2023 Temperature Humidity Pressure; High: 92 °F (Oct 5, 11:53 am) 100% (Oct 7, 9:02 am) 30.11 \"Hg (Oct 7, 9 ...'}, {'url': 'https://world-weather.info/forecast/usa/california/october-2023/', 'content': 'Detailed ⚡ California Weather Forecast for October 2023 - day/night 🌡️ temperatures, precipitations - World-Weather.info'}, {'url': 'https://www.meteoprog.com/weather/California-california/month/october/', 'content': 'California (United States) weather in October 2023 ☀️ Accurate weather forecast for California in October ⛅ Detailed forecast By month Current temperature \"near me\" Weather news ⊳ Widget of weather ⊳ Water temperature | METEOPROG'}, {'url': 'https://www.latimes.com/environment/story/2023-10-18/california-heat-wave-2023-when-will-it-end', 'content': 'October heat wave could break records in California, but chance of rain awaits next week. Oct. 19, 2023. The unseasonably hot weather brings increased concern for heat-related illness, especially ...'}]\u001b[0m\u001b[32;1m\u001b[1;3mThe weather in California during October 2023 has been characterized by unseasonably high temperatures. For example, in Los Angeles, temperatures reached a high of 92°F (approximately 33°C) on October 5. The weather has been mostly clear, with low humidity levels and little to no precipitation reported.\n",
      "\n",
      "As of now, the current temperature in California City is about 25.3°C (77.5°F) with clear skies and a light breeze. The humidity is relatively low at 28%, and there is no precipitation expected.\n",
      "\n",
      "For more detailed forecasts and updates, you can check the following sources:\n",
      "- [Weather API](https://www.weatherapi.com/)\n",
      "- [Time and Date](https://www.timeanddate.com/weather/usa/los-angeles/historic?month=10&year=2023)\n",
      "- [World Weather Info](https://world-weather.info/forecast/usa/california/october-2023/)\u001b[0m\n",
      "\n",
      "\u001b[1m> Finished chain.\u001b[0m\n",
      "{'messages': [HumanMessage(content='Whats the whether in california')], 'output': 'The weather in California during October 2023 has been characterized by unseasonably high temperatures. For example, in Los Angeles, temperatures reached a high of 92°F (approximately 33°C) on October 5. The weather has been mostly clear, with low humidity levels and little to no precipitation reported.\\n\\nAs of now, the current temperature in California City is about 25.3°C (77.5°F) with clear skies and a light breeze. The humidity is relatively low at 28%, and there is no precipitation expected.\\n\\nFor more detailed forecasts and updates, you can check the following sources:\\n- [Weather API](https://www.weatherapi.com/)\\n- [Time and Date](https://www.timeanddate.com/weather/usa/los-angeles/historic?month=10&year=2023)\\n- [World Weather Info](https://world-weather.info/forecast/usa/california/october-2023/)'}\n"
     ]
    }
   ],
   "source": [
    "flo = Flo.build(session, simple_weather_checking_agent)\n",
    "\n",
    "print(flo.invoke(\"Whats the whether in california\"))"
   ]
  },
  {
   "cell_type": "markdown",
   "metadata": {},
   "source": [
    "## Agentic Agent (agentic)\n",
    "\n",
    "Here we are gonna create a simple llm math assitant flo agent that can check answer any math question\n",
    "\n",
    "As you can see the kind is `llm`"
   ]
  },
  {
   "cell_type": "code",
   "execution_count": 5,
   "metadata": {},
   "outputs": [],
   "source": [
    "simple_ll_agent = \"\"\"\n",
    "apiVersion: flo/alpha-v1\n",
    "kind: FloAgent\n",
    "name: llm-assistant\n",
    "agent:\n",
    "    name: Ask llm anything\n",
    "    kind: llm\n",
    "    job: >\n",
    "      You are a high school maths teacher. Answer any questions the students ask \n",
    "\"\"\""
   ]
  },
  {
   "cell_type": "code",
   "execution_count": 6,
   "metadata": {},
   "outputs": [
    {
     "name": "stdout",
     "output_type": "stream",
     "text": [
      "Pythagoras' Theorem is a fundamental principle in geometry that relates to right-angled triangles. It states that in a right triangle, the square of the length of the hypotenuse (the side opposite the right angle) is equal to the sum of the squares of the lengths of the other two sides. \n",
      "\n",
      "The theorem can be expressed with the formula:\n",
      "\n",
      "\\[ c^2 = a^2 + b^2 \\]\n",
      "\n",
      "where:\n",
      "- \\( c \\) is the length of the hypotenuse,\n",
      "- \\( a \\) and \\( b \\) are the lengths of the other two sides.\n",
      "\n",
      "This theorem is useful for calculating the length of one side of a right triangle if the lengths of the other two sides are known. Would you like to see an example of how to use it?\n"
     ]
    }
   ],
   "source": [
    "flo = Flo.build(session, simple_ll_agent)\n",
    "\n",
    "print(flo.invoke(\"What is pythagorus theorum\"))"
   ]
  },
  {
   "cell_type": "markdown",
   "metadata": {},
   "source": []
  }
 ],
 "metadata": {
  "kernelspec": {
   "display_name": ".venv",
   "language": "python",
   "name": "python3"
  },
  "language_info": {
   "codemirror_mode": {
    "name": "ipython",
    "version": 3
   },
   "file_extension": ".py",
   "mimetype": "text/x-python",
   "name": "python",
   "nbconvert_exporter": "python",
   "pygments_lexer": "ipython3",
   "version": "3.11.6"
  }
 },
 "nbformat": 4,
 "nbformat_minor": 2
}
