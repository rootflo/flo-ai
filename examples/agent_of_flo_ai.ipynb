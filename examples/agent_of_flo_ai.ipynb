{
 "cells": [
  {
   "cell_type": "markdown",
   "metadata": {},
   "source": [
    "# The Agents of FloAI\n",
    "\n",
    "This notebook shows different kinds of agents that can be built using flo-ai. These agents have their own specialities, and this notebook tries to explain them.\n",
    "\n",
    "Here are the major types of agents:\n",
    "\n",
    "1. Agentic Agents (`kind: agentic`): Any agent created in flo-ai by default tries to be an agentic agent. This agent always needs a tool, meaning an agent without a tool if specified as agentic agent whill throw an exception\n",
    "\n",
    "2. LLM Agents (`kind: llm`): These agents are simply an LLM which can answer any questions asked to it. The agents dont except tools. If tool is passed to an agent of type llm, they are ignored.\n",
    "\n",
    "3. Tool LLM (`kind: tool`): These agents are just tools or functions that can be executed on the current state. Within the tool will be given the current state as the input, meaning the history of what happened in the flo until now"
   ]
  },
  {
   "cell_type": "code",
   "execution_count": 1,
   "metadata": {},
   "outputs": [
    {
     "data": {
      "text/plain": [
       "True"
      ]
     },
     "execution_count": 1,
     "metadata": {},
     "output_type": "execute_result"
    }
   ],
   "source": [
    "from flo_ai import Flo\n",
    "from flo_ai import FloSession\n",
    "from flo_ai.common.flo_logger import get_logger\n",
    "from flo_ai.common.flo_callback_handler import FloCallbackHandler\n",
    "from langchain_openai import ChatOpenAI, OpenAIEmbeddings\n",
    "\n",
    "from dotenv import load_dotenv\n",
    "load_dotenv()"
   ]
  },
  {
   "cell_type": "markdown",
   "metadata": {},
   "source": [
    "## Setup\n",
    "Create the Flo session, setup tools"
   ]
  },
  {
   "cell_type": "code",
   "execution_count": 2,
   "metadata": {},
   "outputs": [
    {
     "name": "stderr",
     "output_type": "stream",
     "text": [
      "2024-09-17 13:57:40,859 - CustomFloSession - INFO - New FloSession created with ID: 3ec65857-96ef-40c0-8323-6f3e5cf8dbda\n",
      "2024-09-17 13:57:40,861 - CustomFloSession - INFO - Tool 'InternetSearchTool' registered for session 3ec65857-96ef-40c0-8323-6f3e5cf8dbda\n"
     ]
    },
    {
     "data": {
      "text/plain": [
       "<flo_ai.state.flo_session.FloSession at 0x10e9ac710>"
      ]
     },
     "execution_count": 2,
     "metadata": {},
     "output_type": "execute_result"
    }
   ],
   "source": [
    "from langchain_community.tools.tavily_search.tool import TavilySearchResults\n",
    "\n",
    "llm = ChatOpenAI(temperature=0, model_name='gpt-4o-mini')\n",
    "\n",
    "# Create custom logger and callback handler\n",
    "custom_logger_new = get_logger(\"CustomFloSession\", \"DEBUG\")\n",
    "custom_callback = FloCallbackHandler(\"CustomFloCallback\", \"DEBUG\")\n",
    "\n",
    "session = FloSession(\n",
    "    llm, \n",
    "    log_level=\"DEBUG\",\n",
    "    custom_logger=custom_logger_new,\n",
    "    custom_callback_handler=custom_callback\n",
    ")\n",
    "\n",
    "\n",
    "session.register_tool(\n",
    "    name=\"InternetSearchTool\", \n",
    "    tool=TavilySearchResults()\n",
    ")"
   ]
  },
  {
   "cell_type": "markdown",
   "metadata": {},
   "source": [
    "## Agentic Agent (agentic)\n",
    "\n",
    "Here we are gonna create a simple weather assitant flo agent that can check the whether by an internet searching tool.\n",
    "\n",
    "As you can see the kind is `agentic`"
   ]
  },
  {
   "cell_type": "code",
   "execution_count": 3,
   "metadata": {},
   "outputs": [],
   "source": [
    "simple_weather_checking_agent = \"\"\"\n",
    "apiVersion: flo/alpha-v1\n",
    "kind: FloAgent\n",
    "name: weather-assistant\n",
    "agent:\n",
    "    name: Weather Assistant\n",
    "    kind: agentic\n",
    "    job: >\n",
    "      Given the city name you are capable of answering the latest whether this time of the year by searching the internet\n",
    "    tools:\n",
    "      - name: InternetSearchTool\n",
    "\"\"\""
   ]
  },
  {
   "cell_type": "code",
   "execution_count": 4,
   "metadata": {},
   "outputs": [
    {
     "name": "stderr",
     "output_type": "stream",
     "text": [
      "2024-09-17 13:57:47,876 - Flo.build - INFO - Building Flo instance from YAML\n",
      "2024-09-17 13:57:48,292 - CustomFloSession - INFO - Flo instance created for session 3ec65857-96ef-40c0-8323-6f3e5cf8dbda\n",
      "2024-09-17 13:57:48,293 - CustomFloSession - INFO - Invoking query for session 3ec65857-96ef-40c0-8323-6f3e5cf8dbda: Whats the whether in california\n"
     ]
    },
    {
     "name": "stdout",
     "output_type": "stream",
     "text": [
      "\n",
      "\n",
      "\u001b[1m> Entering new AgentExecutor chain...\u001b[0m\n",
      "\u001b[32;1m\u001b[1;3m\n",
      "Invoking: `tavily_search_results_json` with `{'query': 'California weather October 2023'}`\n",
      "\n",
      "\n",
      "\u001b[0m\u001b[36;1m\u001b[1;3m[{'url': 'https://www.weatherapi.com/', 'content': \"{'location': {'name': 'California City', 'region': 'California', 'country': 'United States of America', 'lat': 35.13, 'lon': -117.99, 'tz_id': 'America/Los_Angeles', 'localtime_epoch': 1726561652, 'localtime': '2024-09-17 01:27'}, 'current': {'last_updated_epoch': 1726560900, 'last_updated': '2024-09-17 01:15', 'temp_c': 13.3, 'temp_f': 55.9, 'is_day': 0, 'condition': {'text': 'Clear', 'icon': '//cdn.weatherapi.com/weather/64x64/night/113.png', 'code': 1000}, 'wind_mph': 9.2, 'wind_kph': 14.8, 'wind_degree': 255, 'wind_dir': 'WSW', 'pressure_mb': 1013.0, 'pressure_in': 29.9, 'precip_mm': 0.0, 'precip_in': 0.0, 'humidity': 51, 'cloud': 0, 'feelslike_c': 12.0, 'feelslike_f': 53.6, 'windchill_c': 5.7, 'windchill_f': 42.3, 'heatindex_c': 8.2, 'heatindex_f': 46.7, 'dewpoint_c': 6.1, 'dewpoint_f': 43.0, 'vis_km': 16.0, 'vis_miles': 9.0, 'uv': 1.0, 'gust_mph': 16.7, 'gust_kph': 26.8}}\"}, {'url': 'https://www.timeanddate.com/weather/usa/los-angeles/historic?month=10&year=2023', 'content': 'Weather reports from October 2023 in Los Angeles, California, USA with highs and lows. Sep 17-18. Sign in. News. News Home; Astronomy News; Time Zone News; Calendar & Holiday News; Newsletter; Live events. ... High & Low Weather Summary for October 2023 Temperature Humidity Pressure; High: 92 °F (Oct 5, 11:53 am) 100% (Oct 7, 9:02 am) 30.11 ...'}, {'url': 'https://www.meteoprog.com/weather/California-california/month/october/', 'content': 'California (United States) weather in October 2023 ☀️ Accurate weather forecast for California in October ⛅ Detailed forecast By month Current temperature \"near me\" Weather news ⊳ Widget of weather ⊳ Water temperature | METEOPROG'}, {'url': 'https://world-weather.info/forecast/usa/california/october-2023/', 'content': \"Weather in California in October 2023 (Maryland) - Detailed Weather Forecast for a Month Weather Weather in California Weather in California in October 2023 California Weather Forecast for October 2023 is based on statistical data. 1 +77°+61° 2 +79°+63° 3 +79°+61° 4 +77°+59° 5 +75°+59° 6 +77°+66° 7 +64°+64° 8 +64°+52° 9 +66°+50° 10 +70°+55° 11 +72°+54° 12 +70°+54° 13 +68°+54° 14 +64°+54° 15 +63°+59° 16 +61°+50° 17 +63°+54° 18 +63°+50° 19 +70°+50° Average weather in October 2023 Weather in Washington, D.C.+79° Annapolis+77° Fairfax+77° Fredericksburg+77° Manassas+79° McLean+79° Mechanicsville+77° Vienna+77° Alexandria+79° Waldorf+77° Salisbury+75° Rockville+77° Woodmere+77° Windsor+75° world's temperature today Temperature units\"}, {'url': 'https://weatherspark.com/h/m/1828/2023/10/Historical-Weather-in-October-2023-in-Anaheim-California-United-States', 'content': 'October 2023 Weather History in Anaheim California, United States This report shows the past weather for Anaheim, providing a weather history for October 2023. It features all historical weather data series we have available, including the Anaheim temperature history for October 2023. Anaheim Temperature History October 2023 Hourly Temperature in October 2023 in Anaheim Cloud Cover in October 2023 in Anaheim Daily Precipitation in October 2023 in Anaheim Observed Weather in October 2023 in Anaheim Hours of Daylight and Twilight in October 2023 in Anaheim Solar Elevation and Azimuth in October 2023 in Anaheim Oct 2023 Humidity Comfort Levels in October 2023 in Anaheim Wind Speed in October 2023 in Anaheim Hourly Wind Speed in October 2023 in Anaheim'}]\u001b[0m\u001b[32;1m\u001b[1;3mThe weather in California during October 2023 has varied across different regions. Here are some highlights:\n",
      "\n",
      "1. **Current Weather**: As of now, in California City, the temperature is approximately 13.3°C (55.9°F) with clear skies. The wind is blowing from the west-southwest at about 9.2 mph, and the humidity is around 51%.\n",
      "\n",
      "2. **Los Angeles**: The weather reports indicate that Los Angeles experienced a high of 92°F on October 5, with humidity reaching 100% on October 7.\n",
      "\n",
      "3. **General Forecast**: Throughout October, temperatures have ranged from highs in the upper 70s to low 90s°F, with lows typically in the 50s°F. \n",
      "\n",
      "For more detailed and specific forecasts, you can check resources like [WeatherAPI](https://www.weatherapi.com/) or [Time and Date](https://www.timeanddate.com/weather/usa/los-angeles/historic?month=10&year=2023).\u001b[0m\n",
      "\n",
      "\u001b[1m> Finished chain.\u001b[0m\n"
     ]
    },
    {
     "data": {
      "text/plain": [
       "{'messages': [HumanMessage(content='Whats the whether in california')],\n",
       " 'output': 'The weather in California during October 2023 has varied across different regions. Here are some highlights:\\n\\n1. **Current Weather**: As of now, in California City, the temperature is approximately 13.3°C (55.9°F) with clear skies. The wind is blowing from the west-southwest at about 9.2 mph, and the humidity is around 51%.\\n\\n2. **Los Angeles**: The weather reports indicate that Los Angeles experienced a high of 92°F on October 5, with humidity reaching 100% on October 7.\\n\\n3. **General Forecast**: Throughout October, temperatures have ranged from highs in the upper 70s to low 90s°F, with lows typically in the 50s°F. \\n\\nFor more detailed and specific forecasts, you can check resources like [WeatherAPI](https://www.weatherapi.com/) or [Time and Date](https://www.timeanddate.com/weather/usa/los-angeles/historic?month=10&year=2023).'}"
      ]
     },
     "execution_count": 4,
     "metadata": {},
     "output_type": "execute_result"
    }
   ],
   "source": [
    "flo = Flo.build(session, simple_weather_checking_agent)\n",
    "\n",
    "flo.invoke(\"Whats the whether in california\")"
   ]
  },
  {
   "cell_type": "code",
   "execution_count": 5,
   "metadata": {},
   "outputs": [
    {
     "name": "stderr",
     "output_type": "stream",
     "text": [
      "2024-09-17 13:58:00,020 - Flo.build - INFO - Building Flo instance from YAML\n",
      "2024-09-17 13:58:00,036 - CustomFloSession - INFO - Flo instance created for session 3ec65857-96ef-40c0-8323-6f3e5cf8dbda\n",
      "2024-09-17 13:58:00,039 - CustomFloSession - INFO - Invoking query for session 3ec65857-96ef-40c0-8323-6f3e5cf8dbda: Whats the whether in california\n",
      "2024-09-17 13:58:00,046 - FloCallback - INFO - onChainStart: {'messages': [HumanMessage(content='Whats the whether in california')]}\n",
      "2024-09-17 13:58:00,073 - FloCallback - INFO - onChainStart: {'input': ''}\n",
      "2024-09-17 13:58:00,079 - FloCallback - INFO - onChainStart: {'input': ''}\n",
      "2024-09-17 13:58:00,093 - FloCallback - INFO - onChainStart: {'input': ''}\n",
      "2024-09-17 13:58:00,106 - FloCallback - INFO - onChainStart: {'input': ''}\n",
      "2024-09-17 13:58:00,108 - FloCallback - INFO - onChainEnd: []\n",
      "2024-09-17 13:58:00,110 - FloCallback - INFO - onChainEnd: {'agent_scratchpad': []}\n",
      "2024-09-17 13:58:00,112 - FloCallback - INFO - onChainEnd: {'messages': [HumanMessage(content='Whats the whether in california')], 'intermediate_steps': [], 'agent_scratchpad': []}\n",
      "2024-09-17 13:58:00,117 - FloCallback - INFO - onChainStart: {'messages': [HumanMessage(content='Whats the whether in california')], 'intermediate_steps': [], 'agent_scratchpad': []}\n",
      "2024-09-17 13:58:00,120 - FloCallback - INFO - onChainEnd: messages=[SystemMessage(content='Given the city name you are capable of answering the latest whether this time of the year by searching the internet\\n'), HumanMessage(content='Whats the whether in california')]\n",
      "2024-09-17 13:58:00,122 - FloCallback - INFO - onLLMStart: ['System: Given the city name you are capable of answering the latest whether this time of the year by searching the internet\\n\\nHuman: Whats the whether in california']\n"
     ]
    },
    {
     "name": "stdout",
     "output_type": "stream",
     "text": [
      "\n",
      "\n",
      "\u001b[1m> Entering new AgentExecutor chain...\u001b[0m\n"
     ]
    },
    {
     "name": "stderr",
     "output_type": "stream",
     "text": [
      "2024-09-17 13:58:01,034 - FloCallback - INFO - onLLMEnd: [[ChatGenerationChunk(generation_info={'finish_reason': 'tool_calls', 'model_name': 'gpt-4o-mini-2024-07-18', 'system_fingerprint': 'fp_483d39d857'}, message=AIMessageChunk(content='', additional_kwargs={'tool_calls': [{'index': 0, 'id': 'call_ynjcmGUHsAvTrXuWTuhrAP9X', 'function': {'arguments': '{\"query\":\"California weather October 2023\"}', 'name': 'tavily_search_results_json'}, 'type': 'function'}]}, response_metadata={'finish_reason': 'tool_calls', 'model_name': 'gpt-4o-mini-2024-07-18', 'system_fingerprint': 'fp_483d39d857'}, id='run-91b02103-c7e0-4c25-a978-ea86019e7a44', tool_calls=[{'name': 'tavily_search_results_json', 'args': {'query': 'California weather October 2023'}, 'id': 'call_ynjcmGUHsAvTrXuWTuhrAP9X', 'type': 'tool_call'}], tool_call_chunks=[{'name': 'tavily_search_results_json', 'args': '{\"query\":\"California weather October 2023\"}', 'id': 'call_ynjcmGUHsAvTrXuWTuhrAP9X', 'index': 0, 'type': 'tool_call_chunk'}]))]]\n",
      "2024-09-17 13:58:01,037 - FloCallback - INFO - onChainStart: content='' additional_kwargs={'tool_calls': [{'index': 0, 'id': 'call_ynjcmGUHsAvTrXuWTuhrAP9X', 'function': {'arguments': '{\"query\":\"California weather October 2023\"}', 'name': 'tavily_search_results_json'}, 'type': 'function'}]} response_metadata={'finish_reason': 'tool_calls', 'model_name': 'gpt-4o-mini-2024-07-18', 'system_fingerprint': 'fp_483d39d857'} id='run-91b02103-c7e0-4c25-a978-ea86019e7a44' tool_calls=[{'name': 'tavily_search_results_json', 'args': {'query': 'California weather October 2023'}, 'id': 'call_ynjcmGUHsAvTrXuWTuhrAP9X', 'type': 'tool_call'}] tool_call_chunks=[{'name': 'tavily_search_results_json', 'args': '{\"query\":\"California weather October 2023\"}', 'id': 'call_ynjcmGUHsAvTrXuWTuhrAP9X', 'index': 0, 'type': 'tool_call_chunk'}]\n",
      "2024-09-17 13:58:01,039 - FloCallback - INFO - onChainEnd: [ToolAgentAction(tool='tavily_search_results_json', tool_input={'query': 'California weather October 2023'}, log=\"\\nInvoking: `tavily_search_results_json` with `{'query': 'California weather October 2023'}`\\n\\n\\n\", message_log=[AIMessageChunk(content='', additional_kwargs={'tool_calls': [{'index': 0, 'id': 'call_ynjcmGUHsAvTrXuWTuhrAP9X', 'function': {'arguments': '{\"query\":\"California weather October 2023\"}', 'name': 'tavily_search_results_json'}, 'type': 'function'}]}, response_metadata={'finish_reason': 'tool_calls', 'model_name': 'gpt-4o-mini-2024-07-18', 'system_fingerprint': 'fp_483d39d857'}, id='run-91b02103-c7e0-4c25-a978-ea86019e7a44', tool_calls=[{'name': 'tavily_search_results_json', 'args': {'query': 'California weather October 2023'}, 'id': 'call_ynjcmGUHsAvTrXuWTuhrAP9X', 'type': 'tool_call'}], tool_call_chunks=[{'name': 'tavily_search_results_json', 'args': '{\"query\":\"California weather October 2023\"}', 'id': 'call_ynjcmGUHsAvTrXuWTuhrAP9X', 'index': 0, 'type': 'tool_call_chunk'}])], tool_call_id='call_ynjcmGUHsAvTrXuWTuhrAP9X')]\n",
      "2024-09-17 13:58:01,043 - FloCallback - INFO - onChainEnd: [ToolAgentAction(tool='tavily_search_results_json', tool_input={'query': 'California weather October 2023'}, log=\"\\nInvoking: `tavily_search_results_json` with `{'query': 'California weather October 2023'}`\\n\\n\\n\", message_log=[AIMessageChunk(content='', additional_kwargs={'tool_calls': [{'index': 0, 'id': 'call_ynjcmGUHsAvTrXuWTuhrAP9X', 'function': {'arguments': '{\"query\":\"California weather October 2023\"}', 'name': 'tavily_search_results_json'}, 'type': 'function'}]}, response_metadata={'finish_reason': 'tool_calls', 'model_name': 'gpt-4o-mini-2024-07-18', 'system_fingerprint': 'fp_483d39d857'}, id='run-91b02103-c7e0-4c25-a978-ea86019e7a44', tool_calls=[{'name': 'tavily_search_results_json', 'args': {'query': 'California weather October 2023'}, 'id': 'call_ynjcmGUHsAvTrXuWTuhrAP9X', 'type': 'tool_call'}], tool_call_chunks=[{'name': 'tavily_search_results_json', 'args': '{\"query\":\"California weather October 2023\"}', 'id': 'call_ynjcmGUHsAvTrXuWTuhrAP9X', 'index': 0, 'type': 'tool_call_chunk'}])], tool_call_id='call_ynjcmGUHsAvTrXuWTuhrAP9X')]\n",
      "2024-09-17 13:58:01,046 - FloCallback - INFO - onAgentAction: tavily_search_results_json - {'query': 'California weather October 2023'}\n",
      "2024-09-17 13:58:01,055 - FloCallback - INFO - onToolStart: {'query': 'California weather October 2023'}\n"
     ]
    },
    {
     "name": "stdout",
     "output_type": "stream",
     "text": [
      "\u001b[32;1m\u001b[1;3m\n",
      "Invoking: `tavily_search_results_json` with `{'query': 'California weather October 2023'}`\n",
      "\n",
      "\n",
      "\u001b[0m"
     ]
    },
    {
     "name": "stderr",
     "output_type": "stream",
     "text": [
      "2024-09-17 13:58:05,355 - FloCallback - INFO - onToolEnd: [{'url': 'https://www.weatherapi.com/', 'content': \"{'location': {'name': 'California City', 'region': 'California', 'country': 'United States of America', 'lat': 35.13, 'lon': -117.99, 'tz_id': 'America/Los_Angeles', 'localtime_epoch': 1726561652, 'localtime': '2024-09-17 01:27'}, 'current': {'last_updated_epoch': 1726560900, 'last_updated': '2024-09-17 01:15', 'temp_c': 13.3, 'temp_f': 55.9, 'is_day': 0, 'condition': {'text': 'Clear', 'icon': '//cdn.weatherapi.com/weather/64x64/night/113.png', 'code': 1000}, 'wind_mph': 9.2, 'wind_kph': 14.8, 'wind_degree': 255, 'wind_dir': 'WSW', 'pressure_mb': 1013.0, 'pressure_in': 29.9, 'precip_mm': 0.0, 'precip_in': 0.0, 'humidity': 51, 'cloud': 0, 'feelslike_c': 12.0, 'feelslike_f': 53.6, 'windchill_c': 5.7, 'windchill_f': 42.3, 'heatindex_c': 8.2, 'heatindex_f': 46.7, 'dewpoint_c': 6.1, 'dewpoint_f': 43.0, 'vis_km': 16.0, 'vis_miles': 9.0, 'uv': 1.0, 'gust_mph': 16.7, 'gust_kph': 26.8}}\"}, {'url': 'https://www.timeanddate.com/weather/usa/los-angeles/historic?month=10&year=2023', 'content': 'Weather reports from October 2023 in Los Angeles, California, USA with highs and lows. Sep 17-18. Sign in. News. News Home; Astronomy News; Time Zone News; Calendar & Holiday News; Newsletter; Live events. ... High & Low Weather Summary for October 2023 Temperature Humidity Pressure; High: 92 °F (Oct 5, 11:53 am) 100% (Oct 7, 9:02 am) 30.11 ...'}, {'url': 'https://www.meteoprog.com/weather/California-california/month/october/', 'content': 'California (United States) weather in October 2023 ☀️ Accurate weather forecast for California in October ⛅ Detailed forecast By month Current temperature \"near me\" Weather news ⊳ Widget of weather ⊳ Water temperature | METEOPROG'}, {'url': 'https://world-weather.info/forecast/usa/california/october-2023/', 'content': \"Weather in California in October 2023 (Maryland) - Detailed Weather Forecast for a Month Weather Weather in California Weather in California in October 2023 California Weather Forecast for October 2023 is based on statistical data. 1 +77°+61° 2 +79°+63° 3 +79°+61° 4 +77°+59° 5 +75°+59° 6 +77°+66° 7 +64°+64° 8 +64°+52° 9 +66°+50° 10 +70°+55° 11 +72°+54° 12 +70°+54° 13 +68°+54° 14 +64°+54° 15 +63°+59° 16 +61°+50° 17 +63°+54° 18 +63°+50° 19 +70°+50° Average weather in October 2023 Weather in Washington, D.C.+79° Annapolis+77° Fairfax+77° Fredericksburg+77° Manassas+79° McLean+79° Mechanicsville+77° Vienna+77° Alexandria+79° Waldorf+77° Salisbury+75° Rockville+77° Woodmere+77° Windsor+75° world's temperature today Temperature units\"}, {'url': 'https://weatherspark.com/h/m/1828/2023/10/Historical-Weather-in-October-2023-in-Anaheim-California-United-States', 'content': 'October 2023 Weather History in Anaheim California, United States This report shows the past weather for Anaheim, providing a weather history for October 2023. It features all historical weather data series we have available, including the Anaheim temperature history for October 2023. Anaheim Temperature History October 2023 Hourly Temperature in October 2023 in Anaheim Cloud Cover in October 2023 in Anaheim Daily Precipitation in October 2023 in Anaheim Observed Weather in October 2023 in Anaheim Hours of Daylight and Twilight in October 2023 in Anaheim Solar Elevation and Azimuth in October 2023 in Anaheim Oct 2023 Humidity Comfort Levels in October 2023 in Anaheim Wind Speed in October 2023 in Anaheim Hourly Wind Speed in October 2023 in Anaheim'}]\n",
      "2024-09-17 13:58:05,367 - FloCallback - INFO - onChainStart: {'input': ''}\n",
      "2024-09-17 13:58:05,377 - FloCallback - INFO - onChainStart: {'input': ''}\n",
      "2024-09-17 13:58:05,387 - FloCallback - INFO - onChainStart: {'input': ''}\n",
      "2024-09-17 13:58:05,392 - FloCallback - INFO - onChainStart: {'input': ''}\n",
      "2024-09-17 13:58:05,394 - FloCallback - INFO - onChainEnd: [AIMessageChunk(content='', additional_kwargs={'tool_calls': [{'index': 0, 'id': 'call_ynjcmGUHsAvTrXuWTuhrAP9X', 'function': {'arguments': '{\"query\":\"California weather October 2023\"}', 'name': 'tavily_search_results_json'}, 'type': 'function'}]}, response_metadata={'finish_reason': 'tool_calls', 'model_name': 'gpt-4o-mini-2024-07-18', 'system_fingerprint': 'fp_483d39d857'}, id='run-91b02103-c7e0-4c25-a978-ea86019e7a44', tool_calls=[{'name': 'tavily_search_results_json', 'args': {'query': 'California weather October 2023'}, 'id': 'call_ynjcmGUHsAvTrXuWTuhrAP9X', 'type': 'tool_call'}], tool_call_chunks=[{'name': 'tavily_search_results_json', 'args': '{\"query\":\"California weather October 2023\"}', 'id': 'call_ynjcmGUHsAvTrXuWTuhrAP9X', 'index': 0, 'type': 'tool_call_chunk'}]), ToolMessage(content='[{\"url\": \"https://www.weatherapi.com/\", \"content\": \"{\\'location\\': {\\'name\\': \\'California City\\', \\'region\\': \\'California\\', \\'country\\': \\'United States of America\\', \\'lat\\': 35.13, \\'lon\\': -117.99, \\'tz_id\\': \\'America/Los_Angeles\\', \\'localtime_epoch\\': 1726561652, \\'localtime\\': \\'2024-09-17 01:27\\'}, \\'current\\': {\\'last_updated_epoch\\': 1726560900, \\'last_updated\\': \\'2024-09-17 01:15\\', \\'temp_c\\': 13.3, \\'temp_f\\': 55.9, \\'is_day\\': 0, \\'condition\\': {\\'text\\': \\'Clear\\', \\'icon\\': \\'//cdn.weatherapi.com/weather/64x64/night/113.png\\', \\'code\\': 1000}, \\'wind_mph\\': 9.2, \\'wind_kph\\': 14.8, \\'wind_degree\\': 255, \\'wind_dir\\': \\'WSW\\', \\'pressure_mb\\': 1013.0, \\'pressure_in\\': 29.9, \\'precip_mm\\': 0.0, \\'precip_in\\': 0.0, \\'humidity\\': 51, \\'cloud\\': 0, \\'feelslike_c\\': 12.0, \\'feelslike_f\\': 53.6, \\'windchill_c\\': 5.7, \\'windchill_f\\': 42.3, \\'heatindex_c\\': 8.2, \\'heatindex_f\\': 46.7, \\'dewpoint_c\\': 6.1, \\'dewpoint_f\\': 43.0, \\'vis_km\\': 16.0, \\'vis_miles\\': 9.0, \\'uv\\': 1.0, \\'gust_mph\\': 16.7, \\'gust_kph\\': 26.8}}\"}, {\"url\": \"https://www.timeanddate.com/weather/usa/los-angeles/historic?month=10&year=2023\", \"content\": \"Weather reports from October 2023 in Los Angeles, California, USA with highs and lows. Sep 17-18. Sign in. News. News Home; Astronomy News; Time Zone News; Calendar & Holiday News; Newsletter; Live events. ... High & Low Weather Summary for October 2023 Temperature Humidity Pressure; High: 92 °F (Oct 5, 11:53 am) 100% (Oct 7, 9:02 am) 30.11 ...\"}, {\"url\": \"https://www.meteoprog.com/weather/California-california/month/october/\", \"content\": \"California (United States) weather in October 2023 ☀️ Accurate weather forecast for California in October ⛅ Detailed forecast By month Current temperature \\\\\"near me\\\\\" Weather news ⊳ Widget of weather ⊳ Water temperature | METEOPROG\"}, {\"url\": \"https://world-weather.info/forecast/usa/california/october-2023/\", \"content\": \"Weather in California in October 2023 (Maryland) - Detailed Weather Forecast for a Month Weather Weather in California Weather in California in October 2023 California Weather Forecast for October 2023 is based on statistical data. 1 +77°+61° 2 +79°+63° 3 +79°+61° 4 +77°+59° 5 +75°+59° 6 +77°+66° 7 +64°+64° 8 +64°+52° 9 +66°+50° 10 +70°+55° 11 +72°+54° 12 +70°+54° 13 +68°+54° 14 +64°+54° 15 +63°+59° 16 +61°+50° 17 +63°+54° 18 +63°+50° 19 +70°+50° Average weather in October 2023 Weather in Washington, D.C.+79° Annapolis+77° Fairfax+77° Fredericksburg+77° Manassas+79° McLean+79° Mechanicsville+77° Vienna+77° Alexandria+79° Waldorf+77° Salisbury+75° Rockville+77° Woodmere+77° Windsor+75° world\\'s temperature today Temperature units\"}, {\"url\": \"https://weatherspark.com/h/m/1828/2023/10/Historical-Weather-in-October-2023-in-Anaheim-California-United-States\", \"content\": \"October 2023 Weather History in Anaheim California, United States This report shows the past weather for Anaheim, providing a weather history for October 2023. It features all historical weather data series we have available, including the Anaheim temperature history for October 2023. Anaheim Temperature History October 2023 Hourly Temperature in October 2023 in Anaheim Cloud Cover in October 2023 in Anaheim Daily Precipitation in October 2023 in Anaheim Observed Weather in October 2023 in Anaheim Hours of Daylight and Twilight in October 2023 in Anaheim Solar Elevation and Azimuth in October 2023 in Anaheim Oct 2023 Humidity Comfort Levels in October 2023 in Anaheim Wind Speed in October 2023 in Anaheim Hourly Wind Speed in October 2023 in Anaheim\"}]', additional_kwargs={'name': 'tavily_search_results_json'}, tool_call_id='call_ynjcmGUHsAvTrXuWTuhrAP9X')]\n",
      "2024-09-17 13:58:05,397 - FloCallback - INFO - onChainEnd: {'agent_scratchpad': [AIMessageChunk(content='', additional_kwargs={'tool_calls': [{'index': 0, 'id': 'call_ynjcmGUHsAvTrXuWTuhrAP9X', 'function': {'arguments': '{\"query\":\"California weather October 2023\"}', 'name': 'tavily_search_results_json'}, 'type': 'function'}]}, response_metadata={'finish_reason': 'tool_calls', 'model_name': 'gpt-4o-mini-2024-07-18', 'system_fingerprint': 'fp_483d39d857'}, id='run-91b02103-c7e0-4c25-a978-ea86019e7a44', tool_calls=[{'name': 'tavily_search_results_json', 'args': {'query': 'California weather October 2023'}, 'id': 'call_ynjcmGUHsAvTrXuWTuhrAP9X', 'type': 'tool_call'}], tool_call_chunks=[{'name': 'tavily_search_results_json', 'args': '{\"query\":\"California weather October 2023\"}', 'id': 'call_ynjcmGUHsAvTrXuWTuhrAP9X', 'index': 0, 'type': 'tool_call_chunk'}]), ToolMessage(content='[{\"url\": \"https://www.weatherapi.com/\", \"content\": \"{\\'location\\': {\\'name\\': \\'California City\\', \\'region\\': \\'California\\', \\'country\\': \\'United States of America\\', \\'lat\\': 35.13, \\'lon\\': -117.99, \\'tz_id\\': \\'America/Los_Angeles\\', \\'localtime_epoch\\': 1726561652, \\'localtime\\': \\'2024-09-17 01:27\\'}, \\'current\\': {\\'last_updated_epoch\\': 1726560900, \\'last_updated\\': \\'2024-09-17 01:15\\', \\'temp_c\\': 13.3, \\'temp_f\\': 55.9, \\'is_day\\': 0, \\'condition\\': {\\'text\\': \\'Clear\\', \\'icon\\': \\'//cdn.weatherapi.com/weather/64x64/night/113.png\\', \\'code\\': 1000}, \\'wind_mph\\': 9.2, \\'wind_kph\\': 14.8, \\'wind_degree\\': 255, \\'wind_dir\\': \\'WSW\\', \\'pressure_mb\\': 1013.0, \\'pressure_in\\': 29.9, \\'precip_mm\\': 0.0, \\'precip_in\\': 0.0, \\'humidity\\': 51, \\'cloud\\': 0, \\'feelslike_c\\': 12.0, \\'feelslike_f\\': 53.6, \\'windchill_c\\': 5.7, \\'windchill_f\\': 42.3, \\'heatindex_c\\': 8.2, \\'heatindex_f\\': 46.7, \\'dewpoint_c\\': 6.1, \\'dewpoint_f\\': 43.0, \\'vis_km\\': 16.0, \\'vis_miles\\': 9.0, \\'uv\\': 1.0, \\'gust_mph\\': 16.7, \\'gust_kph\\': 26.8}}\"}, {\"url\": \"https://www.timeanddate.com/weather/usa/los-angeles/historic?month=10&year=2023\", \"content\": \"Weather reports from October 2023 in Los Angeles, California, USA with highs and lows. Sep 17-18. Sign in. News. News Home; Astronomy News; Time Zone News; Calendar & Holiday News; Newsletter; Live events. ... High & Low Weather Summary for October 2023 Temperature Humidity Pressure; High: 92 °F (Oct 5, 11:53 am) 100% (Oct 7, 9:02 am) 30.11 ...\"}, {\"url\": \"https://www.meteoprog.com/weather/California-california/month/october/\", \"content\": \"California (United States) weather in October 2023 ☀️ Accurate weather forecast for California in October ⛅ Detailed forecast By month Current temperature \\\\\"near me\\\\\" Weather news ⊳ Widget of weather ⊳ Water temperature | METEOPROG\"}, {\"url\": \"https://world-weather.info/forecast/usa/california/october-2023/\", \"content\": \"Weather in California in October 2023 (Maryland) - Detailed Weather Forecast for a Month Weather Weather in California Weather in California in October 2023 California Weather Forecast for October 2023 is based on statistical data. 1 +77°+61° 2 +79°+63° 3 +79°+61° 4 +77°+59° 5 +75°+59° 6 +77°+66° 7 +64°+64° 8 +64°+52° 9 +66°+50° 10 +70°+55° 11 +72°+54° 12 +70°+54° 13 +68°+54° 14 +64°+54° 15 +63°+59° 16 +61°+50° 17 +63°+54° 18 +63°+50° 19 +70°+50° Average weather in October 2023 Weather in Washington, D.C.+79° Annapolis+77° Fairfax+77° Fredericksburg+77° Manassas+79° McLean+79° Mechanicsville+77° Vienna+77° Alexandria+79° Waldorf+77° Salisbury+75° Rockville+77° Woodmere+77° Windsor+75° world\\'s temperature today Temperature units\"}, {\"url\": \"https://weatherspark.com/h/m/1828/2023/10/Historical-Weather-in-October-2023-in-Anaheim-California-United-States\", \"content\": \"October 2023 Weather History in Anaheim California, United States This report shows the past weather for Anaheim, providing a weather history for October 2023. It features all historical weather data series we have available, including the Anaheim temperature history for October 2023. Anaheim Temperature History October 2023 Hourly Temperature in October 2023 in Anaheim Cloud Cover in October 2023 in Anaheim Daily Precipitation in October 2023 in Anaheim Observed Weather in October 2023 in Anaheim Hours of Daylight and Twilight in October 2023 in Anaheim Solar Elevation and Azimuth in October 2023 in Anaheim Oct 2023 Humidity Comfort Levels in October 2023 in Anaheim Wind Speed in October 2023 in Anaheim Hourly Wind Speed in October 2023 in Anaheim\"}]', additional_kwargs={'name': 'tavily_search_results_json'}, tool_call_id='call_ynjcmGUHsAvTrXuWTuhrAP9X')]}\n",
      "2024-09-17 13:58:05,399 - FloCallback - INFO - onChainEnd: {'messages': [HumanMessage(content='Whats the whether in california')], 'intermediate_steps': [(ToolAgentAction(tool='tavily_search_results_json', tool_input={'query': 'California weather October 2023'}, log=\"\\nInvoking: `tavily_search_results_json` with `{'query': 'California weather October 2023'}`\\n\\n\\n\", message_log=[AIMessageChunk(content='', additional_kwargs={'tool_calls': [{'index': 0, 'id': 'call_ynjcmGUHsAvTrXuWTuhrAP9X', 'function': {'arguments': '{\"query\":\"California weather October 2023\"}', 'name': 'tavily_search_results_json'}, 'type': 'function'}]}, response_metadata={'finish_reason': 'tool_calls', 'model_name': 'gpt-4o-mini-2024-07-18', 'system_fingerprint': 'fp_483d39d857'}, id='run-91b02103-c7e0-4c25-a978-ea86019e7a44', tool_calls=[{'name': 'tavily_search_results_json', 'args': {'query': 'California weather October 2023'}, 'id': 'call_ynjcmGUHsAvTrXuWTuhrAP9X', 'type': 'tool_call'}], tool_call_chunks=[{'name': 'tavily_search_results_json', 'args': '{\"query\":\"California weather October 2023\"}', 'id': 'call_ynjcmGUHsAvTrXuWTuhrAP9X', 'index': 0, 'type': 'tool_call_chunk'}])], tool_call_id='call_ynjcmGUHsAvTrXuWTuhrAP9X'), [{'url': 'https://www.weatherapi.com/', 'content': \"{'location': {'name': 'California City', 'region': 'California', 'country': 'United States of America', 'lat': 35.13, 'lon': -117.99, 'tz_id': 'America/Los_Angeles', 'localtime_epoch': 1726561652, 'localtime': '2024-09-17 01:27'}, 'current': {'last_updated_epoch': 1726560900, 'last_updated': '2024-09-17 01:15', 'temp_c': 13.3, 'temp_f': 55.9, 'is_day': 0, 'condition': {'text': 'Clear', 'icon': '//cdn.weatherapi.com/weather/64x64/night/113.png', 'code': 1000}, 'wind_mph': 9.2, 'wind_kph': 14.8, 'wind_degree': 255, 'wind_dir': 'WSW', 'pressure_mb': 1013.0, 'pressure_in': 29.9, 'precip_mm': 0.0, 'precip_in': 0.0, 'humidity': 51, 'cloud': 0, 'feelslike_c': 12.0, 'feelslike_f': 53.6, 'windchill_c': 5.7, 'windchill_f': 42.3, 'heatindex_c': 8.2, 'heatindex_f': 46.7, 'dewpoint_c': 6.1, 'dewpoint_f': 43.0, 'vis_km': 16.0, 'vis_miles': 9.0, 'uv': 1.0, 'gust_mph': 16.7, 'gust_kph': 26.8}}\"}, {'url': 'https://www.timeanddate.com/weather/usa/los-angeles/historic?month=10&year=2023', 'content': 'Weather reports from October 2023 in Los Angeles, California, USA with highs and lows. Sep 17-18. Sign in. News. News Home; Astronomy News; Time Zone News; Calendar & Holiday News; Newsletter; Live events. ... High & Low Weather Summary for October 2023 Temperature Humidity Pressure; High: 92 °F (Oct 5, 11:53 am) 100% (Oct 7, 9:02 am) 30.11 ...'}, {'url': 'https://www.meteoprog.com/weather/California-california/month/october/', 'content': 'California (United States) weather in October 2023 ☀️ Accurate weather forecast for California in October ⛅ Detailed forecast By month Current temperature \"near me\" Weather news ⊳ Widget of weather ⊳ Water temperature | METEOPROG'}, {'url': 'https://world-weather.info/forecast/usa/california/october-2023/', 'content': \"Weather in California in October 2023 (Maryland) - Detailed Weather Forecast for a Month Weather Weather in California Weather in California in October 2023 California Weather Forecast for October 2023 is based on statistical data. 1 +77°+61° 2 +79°+63° 3 +79°+61° 4 +77°+59° 5 +75°+59° 6 +77°+66° 7 +64°+64° 8 +64°+52° 9 +66°+50° 10 +70°+55° 11 +72°+54° 12 +70°+54° 13 +68°+54° 14 +64°+54° 15 +63°+59° 16 +61°+50° 17 +63°+54° 18 +63°+50° 19 +70°+50° Average weather in October 2023 Weather in Washington, D.C.+79° Annapolis+77° Fairfax+77° Fredericksburg+77° Manassas+79° McLean+79° Mechanicsville+77° Vienna+77° Alexandria+79° Waldorf+77° Salisbury+75° Rockville+77° Woodmere+77° Windsor+75° world's temperature today Temperature units\"}, {'url': 'https://weatherspark.com/h/m/1828/2023/10/Historical-Weather-in-October-2023-in-Anaheim-California-United-States', 'content': 'October 2023 Weather History in Anaheim California, United States This report shows the past weather for Anaheim, providing a weather history for October 2023. It features all historical weather data series we have available, including the Anaheim temperature history for October 2023. Anaheim Temperature History October 2023 Hourly Temperature in October 2023 in Anaheim Cloud Cover in October 2023 in Anaheim Daily Precipitation in October 2023 in Anaheim Observed Weather in October 2023 in Anaheim Hours of Daylight and Twilight in October 2023 in Anaheim Solar Elevation and Azimuth in October 2023 in Anaheim Oct 2023 Humidity Comfort Levels in October 2023 in Anaheim Wind Speed in October 2023 in Anaheim Hourly Wind Speed in October 2023 in Anaheim'}])], 'agent_scratchpad': [AIMessageChunk(content='', additional_kwargs={'tool_calls': [{'index': 0, 'id': 'call_ynjcmGUHsAvTrXuWTuhrAP9X', 'function': {'arguments': '{\"query\":\"California weather October 2023\"}', 'name': 'tavily_search_results_json'}, 'type': 'function'}]}, response_metadata={'finish_reason': 'tool_calls', 'model_name': 'gpt-4o-mini-2024-07-18', 'system_fingerprint': 'fp_483d39d857'}, id='run-91b02103-c7e0-4c25-a978-ea86019e7a44', tool_calls=[{'name': 'tavily_search_results_json', 'args': {'query': 'California weather October 2023'}, 'id': 'call_ynjcmGUHsAvTrXuWTuhrAP9X', 'type': 'tool_call'}], tool_call_chunks=[{'name': 'tavily_search_results_json', 'args': '{\"query\":\"California weather October 2023\"}', 'id': 'call_ynjcmGUHsAvTrXuWTuhrAP9X', 'index': 0, 'type': 'tool_call_chunk'}]), ToolMessage(content='[{\"url\": \"https://www.weatherapi.com/\", \"content\": \"{\\'location\\': {\\'name\\': \\'California City\\', \\'region\\': \\'California\\', \\'country\\': \\'United States of America\\', \\'lat\\': 35.13, \\'lon\\': -117.99, \\'tz_id\\': \\'America/Los_Angeles\\', \\'localtime_epoch\\': 1726561652, \\'localtime\\': \\'2024-09-17 01:27\\'}, \\'current\\': {\\'last_updated_epoch\\': 1726560900, \\'last_updated\\': \\'2024-09-17 01:15\\', \\'temp_c\\': 13.3, \\'temp_f\\': 55.9, \\'is_day\\': 0, \\'condition\\': {\\'text\\': \\'Clear\\', \\'icon\\': \\'//cdn.weatherapi.com/weather/64x64/night/113.png\\', \\'code\\': 1000}, \\'wind_mph\\': 9.2, \\'wind_kph\\': 14.8, \\'wind_degree\\': 255, \\'wind_dir\\': \\'WSW\\', \\'pressure_mb\\': 1013.0, \\'pressure_in\\': 29.9, \\'precip_mm\\': 0.0, \\'precip_in\\': 0.0, \\'humidity\\': 51, \\'cloud\\': 0, \\'feelslike_c\\': 12.0, \\'feelslike_f\\': 53.6, \\'windchill_c\\': 5.7, \\'windchill_f\\': 42.3, \\'heatindex_c\\': 8.2, \\'heatindex_f\\': 46.7, \\'dewpoint_c\\': 6.1, \\'dewpoint_f\\': 43.0, \\'vis_km\\': 16.0, \\'vis_miles\\': 9.0, \\'uv\\': 1.0, \\'gust_mph\\': 16.7, \\'gust_kph\\': 26.8}}\"}, {\"url\": \"https://www.timeanddate.com/weather/usa/los-angeles/historic?month=10&year=2023\", \"content\": \"Weather reports from October 2023 in Los Angeles, California, USA with highs and lows. Sep 17-18. Sign in. News. News Home; Astronomy News; Time Zone News; Calendar & Holiday News; Newsletter; Live events. ... High & Low Weather Summary for October 2023 Temperature Humidity Pressure; High: 92 °F (Oct 5, 11:53 am) 100% (Oct 7, 9:02 am) 30.11 ...\"}, {\"url\": \"https://www.meteoprog.com/weather/California-california/month/october/\", \"content\": \"California (United States) weather in October 2023 ☀️ Accurate weather forecast for California in October ⛅ Detailed forecast By month Current temperature \\\\\"near me\\\\\" Weather news ⊳ Widget of weather ⊳ Water temperature | METEOPROG\"}, {\"url\": \"https://world-weather.info/forecast/usa/california/october-2023/\", \"content\": \"Weather in California in October 2023 (Maryland) - Detailed Weather Forecast for a Month Weather Weather in California Weather in California in October 2023 California Weather Forecast for October 2023 is based on statistical data. 1 +77°+61° 2 +79°+63° 3 +79°+61° 4 +77°+59° 5 +75°+59° 6 +77°+66° 7 +64°+64° 8 +64°+52° 9 +66°+50° 10 +70°+55° 11 +72°+54° 12 +70°+54° 13 +68°+54° 14 +64°+54° 15 +63°+59° 16 +61°+50° 17 +63°+54° 18 +63°+50° 19 +70°+50° Average weather in October 2023 Weather in Washington, D.C.+79° Annapolis+77° Fairfax+77° Fredericksburg+77° Manassas+79° McLean+79° Mechanicsville+77° Vienna+77° Alexandria+79° Waldorf+77° Salisbury+75° Rockville+77° Woodmere+77° Windsor+75° world\\'s temperature today Temperature units\"}, {\"url\": \"https://weatherspark.com/h/m/1828/2023/10/Historical-Weather-in-October-2023-in-Anaheim-California-United-States\", \"content\": \"October 2023 Weather History in Anaheim California, United States This report shows the past weather for Anaheim, providing a weather history for October 2023. It features all historical weather data series we have available, including the Anaheim temperature history for October 2023. Anaheim Temperature History October 2023 Hourly Temperature in October 2023 in Anaheim Cloud Cover in October 2023 in Anaheim Daily Precipitation in October 2023 in Anaheim Observed Weather in October 2023 in Anaheim Hours of Daylight and Twilight in October 2023 in Anaheim Solar Elevation and Azimuth in October 2023 in Anaheim Oct 2023 Humidity Comfort Levels in October 2023 in Anaheim Wind Speed in October 2023 in Anaheim Hourly Wind Speed in October 2023 in Anaheim\"}]', additional_kwargs={'name': 'tavily_search_results_json'}, tool_call_id='call_ynjcmGUHsAvTrXuWTuhrAP9X')]}\n",
      "2024-09-17 13:58:05,402 - FloCallback - INFO - onChainStart: {'messages': [HumanMessage(content='Whats the whether in california')], 'intermediate_steps': [(ToolAgentAction(tool='tavily_search_results_json', tool_input={'query': 'California weather October 2023'}, log=\"\\nInvoking: `tavily_search_results_json` with `{'query': 'California weather October 2023'}`\\n\\n\\n\", message_log=[AIMessageChunk(content='', additional_kwargs={'tool_calls': [{'index': 0, 'id': 'call_ynjcmGUHsAvTrXuWTuhrAP9X', 'function': {'arguments': '{\"query\":\"California weather October 2023\"}', 'name': 'tavily_search_results_json'}, 'type': 'function'}]}, response_metadata={'finish_reason': 'tool_calls', 'model_name': 'gpt-4o-mini-2024-07-18', 'system_fingerprint': 'fp_483d39d857'}, id='run-91b02103-c7e0-4c25-a978-ea86019e7a44', tool_calls=[{'name': 'tavily_search_results_json', 'args': {'query': 'California weather October 2023'}, 'id': 'call_ynjcmGUHsAvTrXuWTuhrAP9X', 'type': 'tool_call'}], tool_call_chunks=[{'name': 'tavily_search_results_json', 'args': '{\"query\":\"California weather October 2023\"}', 'id': 'call_ynjcmGUHsAvTrXuWTuhrAP9X', 'index': 0, 'type': 'tool_call_chunk'}])], tool_call_id='call_ynjcmGUHsAvTrXuWTuhrAP9X'), [{'url': 'https://www.weatherapi.com/', 'content': \"{'location': {'name': 'California City', 'region': 'California', 'country': 'United States of America', 'lat': 35.13, 'lon': -117.99, 'tz_id': 'America/Los_Angeles', 'localtime_epoch': 1726561652, 'localtime': '2024-09-17 01:27'}, 'current': {'last_updated_epoch': 1726560900, 'last_updated': '2024-09-17 01:15', 'temp_c': 13.3, 'temp_f': 55.9, 'is_day': 0, 'condition': {'text': 'Clear', 'icon': '//cdn.weatherapi.com/weather/64x64/night/113.png', 'code': 1000}, 'wind_mph': 9.2, 'wind_kph': 14.8, 'wind_degree': 255, 'wind_dir': 'WSW', 'pressure_mb': 1013.0, 'pressure_in': 29.9, 'precip_mm': 0.0, 'precip_in': 0.0, 'humidity': 51, 'cloud': 0, 'feelslike_c': 12.0, 'feelslike_f': 53.6, 'windchill_c': 5.7, 'windchill_f': 42.3, 'heatindex_c': 8.2, 'heatindex_f': 46.7, 'dewpoint_c': 6.1, 'dewpoint_f': 43.0, 'vis_km': 16.0, 'vis_miles': 9.0, 'uv': 1.0, 'gust_mph': 16.7, 'gust_kph': 26.8}}\"}, {'url': 'https://www.timeanddate.com/weather/usa/los-angeles/historic?month=10&year=2023', 'content': 'Weather reports from October 2023 in Los Angeles, California, USA with highs and lows. Sep 17-18. Sign in. News. News Home; Astronomy News; Time Zone News; Calendar & Holiday News; Newsletter; Live events. ... High & Low Weather Summary for October 2023 Temperature Humidity Pressure; High: 92 °F (Oct 5, 11:53 am) 100% (Oct 7, 9:02 am) 30.11 ...'}, {'url': 'https://www.meteoprog.com/weather/California-california/month/october/', 'content': 'California (United States) weather in October 2023 ☀️ Accurate weather forecast for California in October ⛅ Detailed forecast By month Current temperature \"near me\" Weather news ⊳ Widget of weather ⊳ Water temperature | METEOPROG'}, {'url': 'https://world-weather.info/forecast/usa/california/october-2023/', 'content': \"Weather in California in October 2023 (Maryland) - Detailed Weather Forecast for a Month Weather Weather in California Weather in California in October 2023 California Weather Forecast for October 2023 is based on statistical data. 1 +77°+61° 2 +79°+63° 3 +79°+61° 4 +77°+59° 5 +75°+59° 6 +77°+66° 7 +64°+64° 8 +64°+52° 9 +66°+50° 10 +70°+55° 11 +72°+54° 12 +70°+54° 13 +68°+54° 14 +64°+54° 15 +63°+59° 16 +61°+50° 17 +63°+54° 18 +63°+50° 19 +70°+50° Average weather in October 2023 Weather in Washington, D.C.+79° Annapolis+77° Fairfax+77° Fredericksburg+77° Manassas+79° McLean+79° Mechanicsville+77° Vienna+77° Alexandria+79° Waldorf+77° Salisbury+75° Rockville+77° Woodmere+77° Windsor+75° world's temperature today Temperature units\"}, {'url': 'https://weatherspark.com/h/m/1828/2023/10/Historical-Weather-in-October-2023-in-Anaheim-California-United-States', 'content': 'October 2023 Weather History in Anaheim California, United States This report shows the past weather for Anaheim, providing a weather history for October 2023. It features all historical weather data series we have available, including the Anaheim temperature history for October 2023. Anaheim Temperature History October 2023 Hourly Temperature in October 2023 in Anaheim Cloud Cover in October 2023 in Anaheim Daily Precipitation in October 2023 in Anaheim Observed Weather in October 2023 in Anaheim Hours of Daylight and Twilight in October 2023 in Anaheim Solar Elevation and Azimuth in October 2023 in Anaheim Oct 2023 Humidity Comfort Levels in October 2023 in Anaheim Wind Speed in October 2023 in Anaheim Hourly Wind Speed in October 2023 in Anaheim'}])], 'agent_scratchpad': [AIMessageChunk(content='', additional_kwargs={'tool_calls': [{'index': 0, 'id': 'call_ynjcmGUHsAvTrXuWTuhrAP9X', 'function': {'arguments': '{\"query\":\"California weather October 2023\"}', 'name': 'tavily_search_results_json'}, 'type': 'function'}]}, response_metadata={'finish_reason': 'tool_calls', 'model_name': 'gpt-4o-mini-2024-07-18', 'system_fingerprint': 'fp_483d39d857'}, id='run-91b02103-c7e0-4c25-a978-ea86019e7a44', tool_calls=[{'name': 'tavily_search_results_json', 'args': {'query': 'California weather October 2023'}, 'id': 'call_ynjcmGUHsAvTrXuWTuhrAP9X', 'type': 'tool_call'}], tool_call_chunks=[{'name': 'tavily_search_results_json', 'args': '{\"query\":\"California weather October 2023\"}', 'id': 'call_ynjcmGUHsAvTrXuWTuhrAP9X', 'index': 0, 'type': 'tool_call_chunk'}]), ToolMessage(content='[{\"url\": \"https://www.weatherapi.com/\", \"content\": \"{\\'location\\': {\\'name\\': \\'California City\\', \\'region\\': \\'California\\', \\'country\\': \\'United States of America\\', \\'lat\\': 35.13, \\'lon\\': -117.99, \\'tz_id\\': \\'America/Los_Angeles\\', \\'localtime_epoch\\': 1726561652, \\'localtime\\': \\'2024-09-17 01:27\\'}, \\'current\\': {\\'last_updated_epoch\\': 1726560900, \\'last_updated\\': \\'2024-09-17 01:15\\', \\'temp_c\\': 13.3, \\'temp_f\\': 55.9, \\'is_day\\': 0, \\'condition\\': {\\'text\\': \\'Clear\\', \\'icon\\': \\'//cdn.weatherapi.com/weather/64x64/night/113.png\\', \\'code\\': 1000}, \\'wind_mph\\': 9.2, \\'wind_kph\\': 14.8, \\'wind_degree\\': 255, \\'wind_dir\\': \\'WSW\\', \\'pressure_mb\\': 1013.0, \\'pressure_in\\': 29.9, \\'precip_mm\\': 0.0, \\'precip_in\\': 0.0, \\'humidity\\': 51, \\'cloud\\': 0, \\'feelslike_c\\': 12.0, \\'feelslike_f\\': 53.6, \\'windchill_c\\': 5.7, \\'windchill_f\\': 42.3, \\'heatindex_c\\': 8.2, \\'heatindex_f\\': 46.7, \\'dewpoint_c\\': 6.1, \\'dewpoint_f\\': 43.0, \\'vis_km\\': 16.0, \\'vis_miles\\': 9.0, \\'uv\\': 1.0, \\'gust_mph\\': 16.7, \\'gust_kph\\': 26.8}}\"}, {\"url\": \"https://www.timeanddate.com/weather/usa/los-angeles/historic?month=10&year=2023\", \"content\": \"Weather reports from October 2023 in Los Angeles, California, USA with highs and lows. Sep 17-18. Sign in. News. News Home; Astronomy News; Time Zone News; Calendar & Holiday News; Newsletter; Live events. ... High & Low Weather Summary for October 2023 Temperature Humidity Pressure; High: 92 °F (Oct 5, 11:53 am) 100% (Oct 7, 9:02 am) 30.11 ...\"}, {\"url\": \"https://www.meteoprog.com/weather/California-california/month/october/\", \"content\": \"California (United States) weather in October 2023 ☀️ Accurate weather forecast for California in October ⛅ Detailed forecast By month Current temperature \\\\\"near me\\\\\" Weather news ⊳ Widget of weather ⊳ Water temperature | METEOPROG\"}, {\"url\": \"https://world-weather.info/forecast/usa/california/october-2023/\", \"content\": \"Weather in California in October 2023 (Maryland) - Detailed Weather Forecast for a Month Weather Weather in California Weather in California in October 2023 California Weather Forecast for October 2023 is based on statistical data. 1 +77°+61° 2 +79°+63° 3 +79°+61° 4 +77°+59° 5 +75°+59° 6 +77°+66° 7 +64°+64° 8 +64°+52° 9 +66°+50° 10 +70°+55° 11 +72°+54° 12 +70°+54° 13 +68°+54° 14 +64°+54° 15 +63°+59° 16 +61°+50° 17 +63°+54° 18 +63°+50° 19 +70°+50° Average weather in October 2023 Weather in Washington, D.C.+79° Annapolis+77° Fairfax+77° Fredericksburg+77° Manassas+79° McLean+79° Mechanicsville+77° Vienna+77° Alexandria+79° Waldorf+77° Salisbury+75° Rockville+77° Woodmere+77° Windsor+75° world\\'s temperature today Temperature units\"}, {\"url\": \"https://weatherspark.com/h/m/1828/2023/10/Historical-Weather-in-October-2023-in-Anaheim-California-United-States\", \"content\": \"October 2023 Weather History in Anaheim California, United States This report shows the past weather for Anaheim, providing a weather history for October 2023. It features all historical weather data series we have available, including the Anaheim temperature history for October 2023. Anaheim Temperature History October 2023 Hourly Temperature in October 2023 in Anaheim Cloud Cover in October 2023 in Anaheim Daily Precipitation in October 2023 in Anaheim Observed Weather in October 2023 in Anaheim Hours of Daylight and Twilight in October 2023 in Anaheim Solar Elevation and Azimuth in October 2023 in Anaheim Oct 2023 Humidity Comfort Levels in October 2023 in Anaheim Wind Speed in October 2023 in Anaheim Hourly Wind Speed in October 2023 in Anaheim\"}]', additional_kwargs={'name': 'tavily_search_results_json'}, tool_call_id='call_ynjcmGUHsAvTrXuWTuhrAP9X')]}\n",
      "2024-09-17 13:58:05,405 - FloCallback - INFO - onChainEnd: messages=[SystemMessage(content='Given the city name you are capable of answering the latest whether this time of the year by searching the internet\\n'), HumanMessage(content='Whats the whether in california'), AIMessageChunk(content='', additional_kwargs={'tool_calls': [{'index': 0, 'id': 'call_ynjcmGUHsAvTrXuWTuhrAP9X', 'function': {'arguments': '{\"query\":\"California weather October 2023\"}', 'name': 'tavily_search_results_json'}, 'type': 'function'}]}, response_metadata={'finish_reason': 'tool_calls', 'model_name': 'gpt-4o-mini-2024-07-18', 'system_fingerprint': 'fp_483d39d857'}, id='run-91b02103-c7e0-4c25-a978-ea86019e7a44', tool_calls=[{'name': 'tavily_search_results_json', 'args': {'query': 'California weather October 2023'}, 'id': 'call_ynjcmGUHsAvTrXuWTuhrAP9X', 'type': 'tool_call'}], tool_call_chunks=[{'name': 'tavily_search_results_json', 'args': '{\"query\":\"California weather October 2023\"}', 'id': 'call_ynjcmGUHsAvTrXuWTuhrAP9X', 'index': 0, 'type': 'tool_call_chunk'}]), ToolMessage(content='[{\"url\": \"https://www.weatherapi.com/\", \"content\": \"{\\'location\\': {\\'name\\': \\'California City\\', \\'region\\': \\'California\\', \\'country\\': \\'United States of America\\', \\'lat\\': 35.13, \\'lon\\': -117.99, \\'tz_id\\': \\'America/Los_Angeles\\', \\'localtime_epoch\\': 1726561652, \\'localtime\\': \\'2024-09-17 01:27\\'}, \\'current\\': {\\'last_updated_epoch\\': 1726560900, \\'last_updated\\': \\'2024-09-17 01:15\\', \\'temp_c\\': 13.3, \\'temp_f\\': 55.9, \\'is_day\\': 0, \\'condition\\': {\\'text\\': \\'Clear\\', \\'icon\\': \\'//cdn.weatherapi.com/weather/64x64/night/113.png\\', \\'code\\': 1000}, \\'wind_mph\\': 9.2, \\'wind_kph\\': 14.8, \\'wind_degree\\': 255, \\'wind_dir\\': \\'WSW\\', \\'pressure_mb\\': 1013.0, \\'pressure_in\\': 29.9, \\'precip_mm\\': 0.0, \\'precip_in\\': 0.0, \\'humidity\\': 51, \\'cloud\\': 0, \\'feelslike_c\\': 12.0, \\'feelslike_f\\': 53.6, \\'windchill_c\\': 5.7, \\'windchill_f\\': 42.3, \\'heatindex_c\\': 8.2, \\'heatindex_f\\': 46.7, \\'dewpoint_c\\': 6.1, \\'dewpoint_f\\': 43.0, \\'vis_km\\': 16.0, \\'vis_miles\\': 9.0, \\'uv\\': 1.0, \\'gust_mph\\': 16.7, \\'gust_kph\\': 26.8}}\"}, {\"url\": \"https://www.timeanddate.com/weather/usa/los-angeles/historic?month=10&year=2023\", \"content\": \"Weather reports from October 2023 in Los Angeles, California, USA with highs and lows. Sep 17-18. Sign in. News. News Home; Astronomy News; Time Zone News; Calendar & Holiday News; Newsletter; Live events. ... High & Low Weather Summary for October 2023 Temperature Humidity Pressure; High: 92 °F (Oct 5, 11:53 am) 100% (Oct 7, 9:02 am) 30.11 ...\"}, {\"url\": \"https://www.meteoprog.com/weather/California-california/month/october/\", \"content\": \"California (United States) weather in October 2023 ☀️ Accurate weather forecast for California in October ⛅ Detailed forecast By month Current temperature \\\\\"near me\\\\\" Weather news ⊳ Widget of weather ⊳ Water temperature | METEOPROG\"}, {\"url\": \"https://world-weather.info/forecast/usa/california/october-2023/\", \"content\": \"Weather in California in October 2023 (Maryland) - Detailed Weather Forecast for a Month Weather Weather in California Weather in California in October 2023 California Weather Forecast for October 2023 is based on statistical data. 1 +77°+61° 2 +79°+63° 3 +79°+61° 4 +77°+59° 5 +75°+59° 6 +77°+66° 7 +64°+64° 8 +64°+52° 9 +66°+50° 10 +70°+55° 11 +72°+54° 12 +70°+54° 13 +68°+54° 14 +64°+54° 15 +63°+59° 16 +61°+50° 17 +63°+54° 18 +63°+50° 19 +70°+50° Average weather in October 2023 Weather in Washington, D.C.+79° Annapolis+77° Fairfax+77° Fredericksburg+77° Manassas+79° McLean+79° Mechanicsville+77° Vienna+77° Alexandria+79° Waldorf+77° Salisbury+75° Rockville+77° Woodmere+77° Windsor+75° world\\'s temperature today Temperature units\"}, {\"url\": \"https://weatherspark.com/h/m/1828/2023/10/Historical-Weather-in-October-2023-in-Anaheim-California-United-States\", \"content\": \"October 2023 Weather History in Anaheim California, United States This report shows the past weather for Anaheim, providing a weather history for October 2023. It features all historical weather data series we have available, including the Anaheim temperature history for October 2023. Anaheim Temperature History October 2023 Hourly Temperature in October 2023 in Anaheim Cloud Cover in October 2023 in Anaheim Daily Precipitation in October 2023 in Anaheim Observed Weather in October 2023 in Anaheim Hours of Daylight and Twilight in October 2023 in Anaheim Solar Elevation and Azimuth in October 2023 in Anaheim Oct 2023 Humidity Comfort Levels in October 2023 in Anaheim Wind Speed in October 2023 in Anaheim Hourly Wind Speed in October 2023 in Anaheim\"}]', additional_kwargs={'name': 'tavily_search_results_json'}, tool_call_id='call_ynjcmGUHsAvTrXuWTuhrAP9X')]\n",
      "2024-09-17 13:58:05,407 - FloCallback - INFO - onLLMStart: ['System: Given the city name you are capable of answering the latest whether this time of the year by searching the internet\\n\\nHuman: Whats the whether in california\\nAI: \\nTool: [{\"url\": \"https://www.weatherapi.com/\", \"content\": \"{\\'location\\': {\\'name\\': \\'California City\\', \\'region\\': \\'California\\', \\'country\\': \\'United States of America\\', \\'lat\\': 35.13, \\'lon\\': -117.99, \\'tz_id\\': \\'America/Los_Angeles\\', \\'localtime_epoch\\': 1726561652, \\'localtime\\': \\'2024-09-17 01:27\\'}, \\'current\\': {\\'last_updated_epoch\\': 1726560900, \\'last_updated\\': \\'2024-09-17 01:15\\', \\'temp_c\\': 13.3, \\'temp_f\\': 55.9, \\'is_day\\': 0, \\'condition\\': {\\'text\\': \\'Clear\\', \\'icon\\': \\'//cdn.weatherapi.com/weather/64x64/night/113.png\\', \\'code\\': 1000}, \\'wind_mph\\': 9.2, \\'wind_kph\\': 14.8, \\'wind_degree\\': 255, \\'wind_dir\\': \\'WSW\\', \\'pressure_mb\\': 1013.0, \\'pressure_in\\': 29.9, \\'precip_mm\\': 0.0, \\'precip_in\\': 0.0, \\'humidity\\': 51, \\'cloud\\': 0, \\'feelslike_c\\': 12.0, \\'feelslike_f\\': 53.6, \\'windchill_c\\': 5.7, \\'windchill_f\\': 42.3, \\'heatindex_c\\': 8.2, \\'heatindex_f\\': 46.7, \\'dewpoint_c\\': 6.1, \\'dewpoint_f\\': 43.0, \\'vis_km\\': 16.0, \\'vis_miles\\': 9.0, \\'uv\\': 1.0, \\'gust_mph\\': 16.7, \\'gust_kph\\': 26.8}}\"}, {\"url\": \"https://www.timeanddate.com/weather/usa/los-angeles/historic?month=10&year=2023\", \"content\": \"Weather reports from October 2023 in Los Angeles, California, USA with highs and lows. Sep 17-18. Sign in. News. News Home; Astronomy News; Time Zone News; Calendar & Holiday News; Newsletter; Live events. ... High & Low Weather Summary for October 2023 Temperature Humidity Pressure; High: 92 °F (Oct 5, 11:53 am) 100% (Oct 7, 9:02 am) 30.11 ...\"}, {\"url\": \"https://www.meteoprog.com/weather/California-california/month/october/\", \"content\": \"California (United States) weather in October 2023 ☀️ Accurate weather forecast for California in October ⛅ Detailed forecast By month Current temperature \\\\\"near me\\\\\" Weather news ⊳ Widget of weather ⊳ Water temperature | METEOPROG\"}, {\"url\": \"https://world-weather.info/forecast/usa/california/october-2023/\", \"content\": \"Weather in California in October 2023 (Maryland) - Detailed Weather Forecast for a Month Weather Weather in California Weather in California in October 2023 California Weather Forecast for October 2023 is based on statistical data. 1 +77°+61° 2 +79°+63° 3 +79°+61° 4 +77°+59° 5 +75°+59° 6 +77°+66° 7 +64°+64° 8 +64°+52° 9 +66°+50° 10 +70°+55° 11 +72°+54° 12 +70°+54° 13 +68°+54° 14 +64°+54° 15 +63°+59° 16 +61°+50° 17 +63°+54° 18 +63°+50° 19 +70°+50° Average weather in October 2023 Weather in Washington, D.C.+79° Annapolis+77° Fairfax+77° Fredericksburg+77° Manassas+79° McLean+79° Mechanicsville+77° Vienna+77° Alexandria+79° Waldorf+77° Salisbury+75° Rockville+77° Woodmere+77° Windsor+75° world\\'s temperature today Temperature units\"}, {\"url\": \"https://weatherspark.com/h/m/1828/2023/10/Historical-Weather-in-October-2023-in-Anaheim-California-United-States\", \"content\": \"October 2023 Weather History in Anaheim California, United States This report shows the past weather for Anaheim, providing a weather history for October 2023. It features all historical weather data series we have available, including the Anaheim temperature history for October 2023. Anaheim Temperature History October 2023 Hourly Temperature in October 2023 in Anaheim Cloud Cover in October 2023 in Anaheim Daily Precipitation in October 2023 in Anaheim Observed Weather in October 2023 in Anaheim Hours of Daylight and Twilight in October 2023 in Anaheim Solar Elevation and Azimuth in October 2023 in Anaheim Oct 2023 Humidity Comfort Levels in October 2023 in Anaheim Wind Speed in October 2023 in Anaheim Hourly Wind Speed in October 2023 in Anaheim\"}]']\n"
     ]
    },
    {
     "name": "stdout",
     "output_type": "stream",
     "text": [
      "\u001b[36;1m\u001b[1;3m[{'url': 'https://www.weatherapi.com/', 'content': \"{'location': {'name': 'California City', 'region': 'California', 'country': 'United States of America', 'lat': 35.13, 'lon': -117.99, 'tz_id': 'America/Los_Angeles', 'localtime_epoch': 1726561652, 'localtime': '2024-09-17 01:27'}, 'current': {'last_updated_epoch': 1726560900, 'last_updated': '2024-09-17 01:15', 'temp_c': 13.3, 'temp_f': 55.9, 'is_day': 0, 'condition': {'text': 'Clear', 'icon': '//cdn.weatherapi.com/weather/64x64/night/113.png', 'code': 1000}, 'wind_mph': 9.2, 'wind_kph': 14.8, 'wind_degree': 255, 'wind_dir': 'WSW', 'pressure_mb': 1013.0, 'pressure_in': 29.9, 'precip_mm': 0.0, 'precip_in': 0.0, 'humidity': 51, 'cloud': 0, 'feelslike_c': 12.0, 'feelslike_f': 53.6, 'windchill_c': 5.7, 'windchill_f': 42.3, 'heatindex_c': 8.2, 'heatindex_f': 46.7, 'dewpoint_c': 6.1, 'dewpoint_f': 43.0, 'vis_km': 16.0, 'vis_miles': 9.0, 'uv': 1.0, 'gust_mph': 16.7, 'gust_kph': 26.8}}\"}, {'url': 'https://www.timeanddate.com/weather/usa/los-angeles/historic?month=10&year=2023', 'content': 'Weather reports from October 2023 in Los Angeles, California, USA with highs and lows. Sep 17-18. Sign in. News. News Home; Astronomy News; Time Zone News; Calendar & Holiday News; Newsletter; Live events. ... High & Low Weather Summary for October 2023 Temperature Humidity Pressure; High: 92 °F (Oct 5, 11:53 am) 100% (Oct 7, 9:02 am) 30.11 ...'}, {'url': 'https://www.meteoprog.com/weather/California-california/month/october/', 'content': 'California (United States) weather in October 2023 ☀️ Accurate weather forecast for California in October ⛅ Detailed forecast By month Current temperature \"near me\" Weather news ⊳ Widget of weather ⊳ Water temperature | METEOPROG'}, {'url': 'https://world-weather.info/forecast/usa/california/october-2023/', 'content': \"Weather in California in October 2023 (Maryland) - Detailed Weather Forecast for a Month Weather Weather in California Weather in California in October 2023 California Weather Forecast for October 2023 is based on statistical data. 1 +77°+61° 2 +79°+63° 3 +79°+61° 4 +77°+59° 5 +75°+59° 6 +77°+66° 7 +64°+64° 8 +64°+52° 9 +66°+50° 10 +70°+55° 11 +72°+54° 12 +70°+54° 13 +68°+54° 14 +64°+54° 15 +63°+59° 16 +61°+50° 17 +63°+54° 18 +63°+50° 19 +70°+50° Average weather in October 2023 Weather in Washington, D.C.+79° Annapolis+77° Fairfax+77° Fredericksburg+77° Manassas+79° McLean+79° Mechanicsville+77° Vienna+77° Alexandria+79° Waldorf+77° Salisbury+75° Rockville+77° Woodmere+77° Windsor+75° world's temperature today Temperature units\"}, {'url': 'https://weatherspark.com/h/m/1828/2023/10/Historical-Weather-in-October-2023-in-Anaheim-California-United-States', 'content': 'October 2023 Weather History in Anaheim California, United States This report shows the past weather for Anaheim, providing a weather history for October 2023. It features all historical weather data series we have available, including the Anaheim temperature history for October 2023. Anaheim Temperature History October 2023 Hourly Temperature in October 2023 in Anaheim Cloud Cover in October 2023 in Anaheim Daily Precipitation in October 2023 in Anaheim Observed Weather in October 2023 in Anaheim Hours of Daylight and Twilight in October 2023 in Anaheim Solar Elevation and Azimuth in October 2023 in Anaheim Oct 2023 Humidity Comfort Levels in October 2023 in Anaheim Wind Speed in October 2023 in Anaheim Hourly Wind Speed in October 2023 in Anaheim'}]\u001b[0m"
     ]
    },
    {
     "name": "stderr",
     "output_type": "stream",
     "text": [
      "2024-09-17 13:58:08,478 - FloCallback - INFO - onLLMEnd: [[ChatGenerationChunk(text='The weather in California during October 2023 has varied across different regions. Here are some highlights:\\n\\n1. **Current Weather**: As of now, in California City, the temperature is approximately 13.3°C (55.9°F) with clear skies. The wind is blowing from the west-southwest at about 9.2 mph, and the humidity is around 51%.\\n\\n2. **Los Angeles**: The weather reports indicate that Los Angeles experienced a high of 92°F on October 5, with humidity reaching 100% on October 7.\\n\\n3. **General Forecast**: Throughout October, temperatures have ranged from highs in the upper 70s to low 90s°F, with lows typically in the 50s°F. \\n\\nFor more detailed and specific forecasts, you can check resources like [WeatherAPI](https://www.weatherapi.com/) or [Time and Date](https://www.timeanddate.com/weather/usa/los-angeles/historic?month=10&year=2023).', generation_info={'finish_reason': 'stop', 'model_name': 'gpt-4o-mini-2024-07-18', 'system_fingerprint': 'fp_483d39d857'}, message=AIMessageChunk(content='The weather in California during October 2023 has varied across different regions. Here are some highlights:\\n\\n1. **Current Weather**: As of now, in California City, the temperature is approximately 13.3°C (55.9°F) with clear skies. The wind is blowing from the west-southwest at about 9.2 mph, and the humidity is around 51%.\\n\\n2. **Los Angeles**: The weather reports indicate that Los Angeles experienced a high of 92°F on October 5, with humidity reaching 100% on October 7.\\n\\n3. **General Forecast**: Throughout October, temperatures have ranged from highs in the upper 70s to low 90s°F, with lows typically in the 50s°F. \\n\\nFor more detailed and specific forecasts, you can check resources like [WeatherAPI](https://www.weatherapi.com/) or [Time and Date](https://www.timeanddate.com/weather/usa/los-angeles/historic?month=10&year=2023).', response_metadata={'finish_reason': 'stop', 'model_name': 'gpt-4o-mini-2024-07-18', 'system_fingerprint': 'fp_483d39d857'}, id='run-0d8ede73-41e1-496d-96bd-54ccb79a911a'))]]\n",
      "2024-09-17 13:58:08,481 - FloCallback - INFO - onChainStart: content='The weather in California during October 2023 has varied across different regions. Here are some highlights:\\n\\n1. **Current Weather**: As of now, in California City, the temperature is approximately 13.3°C (55.9°F) with clear skies. The wind is blowing from the west-southwest at about 9.2 mph, and the humidity is around 51%.\\n\\n2. **Los Angeles**: The weather reports indicate that Los Angeles experienced a high of 92°F on October 5, with humidity reaching 100% on October 7.\\n\\n3. **General Forecast**: Throughout October, temperatures have ranged from highs in the upper 70s to low 90s°F, with lows typically in the 50s°F. \\n\\nFor more detailed and specific forecasts, you can check resources like [WeatherAPI](https://www.weatherapi.com/) or [Time and Date](https://www.timeanddate.com/weather/usa/los-angeles/historic?month=10&year=2023).' response_metadata={'finish_reason': 'stop', 'model_name': 'gpt-4o-mini-2024-07-18', 'system_fingerprint': 'fp_483d39d857'} id='run-0d8ede73-41e1-496d-96bd-54ccb79a911a'\n",
      "2024-09-17 13:58:08,483 - FloCallback - INFO - onChainEnd: return_values={'output': 'The weather in California during October 2023 has varied across different regions. Here are some highlights:\\n\\n1. **Current Weather**: As of now, in California City, the temperature is approximately 13.3°C (55.9°F) with clear skies. The wind is blowing from the west-southwest at about 9.2 mph, and the humidity is around 51%.\\n\\n2. **Los Angeles**: The weather reports indicate that Los Angeles experienced a high of 92°F on October 5, with humidity reaching 100% on October 7.\\n\\n3. **General Forecast**: Throughout October, temperatures have ranged from highs in the upper 70s to low 90s°F, with lows typically in the 50s°F. \\n\\nFor more detailed and specific forecasts, you can check resources like [WeatherAPI](https://www.weatherapi.com/) or [Time and Date](https://www.timeanddate.com/weather/usa/los-angeles/historic?month=10&year=2023).'} log='The weather in California during October 2023 has varied across different regions. Here are some highlights:\\n\\n1. **Current Weather**: As of now, in California City, the temperature is approximately 13.3°C (55.9°F) with clear skies. The wind is blowing from the west-southwest at about 9.2 mph, and the humidity is around 51%.\\n\\n2. **Los Angeles**: The weather reports indicate that Los Angeles experienced a high of 92°F on October 5, with humidity reaching 100% on October 7.\\n\\n3. **General Forecast**: Throughout October, temperatures have ranged from highs in the upper 70s to low 90s°F, with lows typically in the 50s°F. \\n\\nFor more detailed and specific forecasts, you can check resources like [WeatherAPI](https://www.weatherapi.com/) or [Time and Date](https://www.timeanddate.com/weather/usa/los-angeles/historic?month=10&year=2023).'\n",
      "2024-09-17 13:58:08,485 - FloCallback - INFO - onChainEnd: return_values={'output': 'The weather in California during October 2023 has varied across different regions. Here are some highlights:\\n\\n1. **Current Weather**: As of now, in California City, the temperature is approximately 13.3°C (55.9°F) with clear skies. The wind is blowing from the west-southwest at about 9.2 mph, and the humidity is around 51%.\\n\\n2. **Los Angeles**: The weather reports indicate that Los Angeles experienced a high of 92°F on October 5, with humidity reaching 100% on October 7.\\n\\n3. **General Forecast**: Throughout October, temperatures have ranged from highs in the upper 70s to low 90s°F, with lows typically in the 50s°F. \\n\\nFor more detailed and specific forecasts, you can check resources like [WeatherAPI](https://www.weatherapi.com/) or [Time and Date](https://www.timeanddate.com/weather/usa/los-angeles/historic?month=10&year=2023).'} log='The weather in California during October 2023 has varied across different regions. Here are some highlights:\\n\\n1. **Current Weather**: As of now, in California City, the temperature is approximately 13.3°C (55.9°F) with clear skies. The wind is blowing from the west-southwest at about 9.2 mph, and the humidity is around 51%.\\n\\n2. **Los Angeles**: The weather reports indicate that Los Angeles experienced a high of 92°F on October 5, with humidity reaching 100% on October 7.\\n\\n3. **General Forecast**: Throughout October, temperatures have ranged from highs in the upper 70s to low 90s°F, with lows typically in the 50s°F. \\n\\nFor more detailed and specific forecasts, you can check resources like [WeatherAPI](https://www.weatherapi.com/) or [Time and Date](https://www.timeanddate.com/weather/usa/los-angeles/historic?month=10&year=2023).'\n",
      "2024-09-17 13:58:08,487 - FloCallback - INFO - onAgentFinish: {'output': 'The weather in California during October 2023 has varied across different regions. Here are some highlights:\\n\\n1. **Current Weather**: As of now, in California City, the temperature is approximately 13.3°C (55.9°F) with clear skies. The wind is blowing from the west-southwest at about 9.2 mph, and the humidity is around 51%.\\n\\n2. **Los Angeles**: The weather reports indicate that Los Angeles experienced a high of 92°F on October 5, with humidity reaching 100% on October 7.\\n\\n3. **General Forecast**: Throughout October, temperatures have ranged from highs in the upper 70s to low 90s°F, with lows typically in the 50s°F. \\n\\nFor more detailed and specific forecasts, you can check resources like [WeatherAPI](https://www.weatherapi.com/) or [Time and Date](https://www.timeanddate.com/weather/usa/los-angeles/historic?month=10&year=2023).'}\n",
      "2024-09-17 13:58:08,489 - FloCallback - INFO - onChainEnd: {'output': 'The weather in California during October 2023 has varied across different regions. Here are some highlights:\\n\\n1. **Current Weather**: As of now, in California City, the temperature is approximately 13.3°C (55.9°F) with clear skies. The wind is blowing from the west-southwest at about 9.2 mph, and the humidity is around 51%.\\n\\n2. **Los Angeles**: The weather reports indicate that Los Angeles experienced a high of 92°F on October 5, with humidity reaching 100% on October 7.\\n\\n3. **General Forecast**: Throughout October, temperatures have ranged from highs in the upper 70s to low 90s°F, with lows typically in the 50s°F. \\n\\nFor more detailed and specific forecasts, you can check resources like [WeatherAPI](https://www.weatherapi.com/) or [Time and Date](https://www.timeanddate.com/weather/usa/los-angeles/historic?month=10&year=2023).'}\n"
     ]
    },
    {
     "name": "stdout",
     "output_type": "stream",
     "text": [
      "\u001b[32;1m\u001b[1;3mThe weather in California during October 2023 has varied across different regions. Here are some highlights:\n",
      "\n",
      "1. **Current Weather**: As of now, in California City, the temperature is approximately 13.3°C (55.9°F) with clear skies. The wind is blowing from the west-southwest at about 9.2 mph, and the humidity is around 51%.\n",
      "\n",
      "2. **Los Angeles**: The weather reports indicate that Los Angeles experienced a high of 92°F on October 5, with humidity reaching 100% on October 7.\n",
      "\n",
      "3. **General Forecast**: Throughout October, temperatures have ranged from highs in the upper 70s to low 90s°F, with lows typically in the 50s°F. \n",
      "\n",
      "For more detailed and specific forecasts, you can check resources like [WeatherAPI](https://www.weatherapi.com/) or [Time and Date](https://www.timeanddate.com/weather/usa/los-angeles/historic?month=10&year=2023).\u001b[0m\n",
      "\n",
      "\u001b[1m> Finished chain.\u001b[0m\n"
     ]
    },
    {
     "data": {
      "text/plain": [
       "{'messages': [HumanMessage(content='Whats the whether in california')],\n",
       " 'output': 'The weather in California during October 2023 has varied across different regions. Here are some highlights:\\n\\n1. **Current Weather**: As of now, in California City, the temperature is approximately 13.3°C (55.9°F) with clear skies. The wind is blowing from the west-southwest at about 9.2 mph, and the humidity is around 51%.\\n\\n2. **Los Angeles**: The weather reports indicate that Los Angeles experienced a high of 92°F on October 5, with humidity reaching 100% on October 7.\\n\\n3. **General Forecast**: Throughout October, temperatures have ranged from highs in the upper 70s to low 90s°F, with lows typically in the 50s°F. \\n\\nFor more detailed and specific forecasts, you can check resources like [WeatherAPI](https://www.weatherapi.com/) or [Time and Date](https://www.timeanddate.com/weather/usa/los-angeles/historic?month=10&year=2023).'}"
      ]
     },
     "execution_count": 5,
     "metadata": {},
     "output_type": "execute_result"
    }
   ],
   "source": [
    "# with logging\n",
    "\n",
    "from flo_ai.common.flo_callback_handler import FloCallbackHandler\n",
    "\n",
    "flo = Flo.build(session, simple_weather_checking_agent)\n",
    "\n",
    "handler = FloCallbackHandler(log_level=\"INFO\")\n",
    "\n",
    "config = {\n",
    "    'callbacks' : [handler]\n",
    "}\n",
    "\n",
    "query=\"Whats the whether in california\"\n",
    "\n",
    "flo.invoke(query=query, config=config)"
   ]
  },
  {
   "cell_type": "markdown",
   "metadata": {},
   "source": [
    "## LLM Agent (agentic)\n",
    "\n",
    "Here we are gonna create a simple llm math assitant flo agent that can check answer any math question\n",
    "\n",
    "As you can see the kind is `llm`"
   ]
  },
  {
   "cell_type": "code",
   "execution_count": 6,
   "metadata": {},
   "outputs": [],
   "source": [
    "simple_llm_agent = \"\"\"\n",
    "apiVersion: flo/alpha-v1\n",
    "kind: FloAgent\n",
    "name: llm-assistant\n",
    "agent:\n",
    "    name: Ask llm anything\n",
    "    kind: llm\n",
    "    job: >\n",
    "      You are a high school maths teacher. Answer any questions the students ask \n",
    "\"\"\""
   ]
  },
  {
   "cell_type": "code",
   "execution_count": 7,
   "metadata": {},
   "outputs": [
    {
     "name": "stderr",
     "output_type": "stream",
     "text": [
      "2024-09-17 14:00:37,552 - Flo.build - INFO - Building Flo instance from YAML\n"
     ]
    },
    {
     "name": "stderr",
     "output_type": "stream",
     "text": [
      "2024-09-17 14:00:37,585 - CustomFloSession - INFO - Flo instance created for session 3ec65857-96ef-40c0-8323-6f3e5cf8dbda\n",
      "2024-09-17 14:00:37,588 - CustomFloSession - INFO - Invoking query for session 3ec65857-96ef-40c0-8323-6f3e5cf8dbda: What is pythagorus theorum\n"
     ]
    },
    {
     "data": {
      "text/plain": [
       "\"Pythagoras' Theorem is a fundamental principle in geometry that relates to right-angled triangles. It states that in a right triangle, the square of the length of the hypotenuse (the side opposite the right angle) is equal to the sum of the squares of the lengths of the other two sides. \\n\\nThe theorem can be expressed with the formula:\\n\\n\\\\[ c^2 = a^2 + b^2 \\\\]\\n\\nwhere:\\n- \\\\( c \\\\) is the length of the hypotenuse,\\n- \\\\( a \\\\) and \\\\( b \\\\) are the lengths of the other two sides.\\n\\nThis theorem is very useful for calculating distances and for solving various problems in geometry. If you have any specific questions or examples you'd like to go through, feel free to ask!\""
      ]
     },
     "execution_count": 7,
     "metadata": {},
     "output_type": "execute_result"
    }
   ],
   "source": [
    "flo = Flo.build(session, simple_llm_agent)\n",
    "\n",
    "flo.invoke(\"What is pythagorus theorum\")\n",
    "# print(flo.invoke(\"What is pythagorus theorum\"))"
   ]
  },
  {
   "cell_type": "markdown",
   "metadata": {},
   "source": [
    "#"
   ]
  },
  {
   "cell_type": "code",
   "execution_count": 8,
   "metadata": {},
   "outputs": [
    {
     "name": "stderr",
     "output_type": "stream",
     "text": [
      "2024-09-17 14:00:42,750 - CustomFloSession - INFO - Tool 'printStateTool' registered for session 3ec65857-96ef-40c0-8323-6f3e5cf8dbda\n",
      "2024-09-17 14:00:42,754 - Flo.build - INFO - Building Flo instance from YAML\n",
      "2024-09-17 14:00:42,763 - CustomFloSession - INFO - Flo instance created for session 3ec65857-96ef-40c0-8323-6f3e5cf8dbda\n",
      "2024-09-17 14:00:42,768 - CustomFloSession - INFO - Invoking query for session 3ec65857-96ef-40c0-8323-6f3e5cf8dbda: Print what I am saying\n"
     ]
    },
    {
     "name": "stdout",
     "output_type": "stream",
     "text": [
      "{'messages': [HumanMessage(content='Print what I am saying')]}\n"
     ]
    },
    {
     "data": {
      "text/plain": [
       "'Tool call success'"
      ]
     },
     "execution_count": 8,
     "metadata": {},
     "output_type": "execute_result"
    }
   ],
   "source": [
    "from typing import Optional, Type\n",
    "from langchain.pydantic_v1 import BaseModel, Field\n",
    "from langchain.tools import BaseTool, StructuredTool, tool\n",
    "\n",
    "class PrintStateTool(BaseTool):\n",
    "    name = \"printStateTool\"\n",
    "    description = \"Just print the state\"\n",
    "\n",
    "    def _run(\n",
    "        self, **kwargs\n",
    "    ) -> str:\n",
    "        print(kwargs)\n",
    "        return \"Tool call success\"\n",
    "    \n",
    "session.register_tool(\n",
    "    name=\"printStateTool\", \n",
    "    tool=PrintStateTool()\n",
    ")\n",
    "    \n",
    "simple_tool_agent = \"\"\"\n",
    "apiVersion: flo/alpha-v1\n",
    "kind: FloAgent\n",
    "name: llm-assistant\n",
    "agent:\n",
    "    name: tool-to-print-state\n",
    "    kind: tool\n",
    "    tools:\n",
    "        - name: printStateTool\n",
    "\"\"\"\n",
    "\n",
    "flo = Flo.build(session, simple_tool_agent)\n",
    "\n",
    "flo.invoke(\"Print what I am saying\")"
   ]
  }
 ],
 "metadata": {
  "kernelspec": {
   "display_name": ".venv",
   "language": "python",
   "name": "python3"
  },
  "language_info": {
   "codemirror_mode": {
    "name": "ipython",
    "version": 3
   },
   "file_extension": ".py",
   "mimetype": "text/x-python",
   "name": "python",
   "nbconvert_exporter": "python",
   "pygments_lexer": "ipython3",
   "version": "3.11.6"
  }
 },
 "nbformat": 4,
 "nbformat_minor": 2
}
