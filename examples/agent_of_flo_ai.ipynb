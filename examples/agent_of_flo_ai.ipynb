{
 "cells": [
  {
   "cell_type": "markdown",
   "metadata": {},
   "source": [
    "# The Agents of FloAI\n",
    "\n",
    "This notebook shows different kinds of agents that can be built using flo-ai. These agents have their own specialities, and this notebook tries to explain them.\n",
    "\n",
    "Here are the major types of agents:\n",
    "\n",
    "1. Agentic Agents (`kind: agentic`): Any agent created in flo-ai by default tries to be an agentic agent. This agent always needs a tool, meaning an agent without a tool if specified as agentic agent whill throw an exception\n",
    "\n",
    "2. LLM Agents (`kind: llm`): These agents are simply an LLM which can answer any questions asked to it. The agents dont except tools. If tool is passed to an agent of type llm, they are ignored.\n",
    "\n",
    "3. Tool LLM (`kind: tool`): These agents are just tools or functions that can be executed on the current state. Within the tool will be given the current state as the input, meaning the history of what happened in the flo until now"
   ]
  },
  {
   "cell_type": "code",
   "execution_count": 8,
   "metadata": {},
   "outputs": [
    {
     "name": "stdout",
     "output_type": "stream",
     "text": [
      "Current working directory: /Users/thomas/Documents/projects/flo-4/flo-ai/examples\n",
      "Python path: ['/Library/Frameworks/Python.framework/Versions/3.11/lib/python311.zip', '/Library/Frameworks/Python.framework/Versions/3.11/lib/python3.11', '/Library/Frameworks/Python.framework/Versions/3.11/lib/python3.11/lib-dynload', '', '/Users/thomas/Documents/projects/flo-4/flo-ai/flo4/lib/python3.11/site-packages', '/Users/thomas/Documents/projects/flo-4/flo-ai']\n",
      "Successfully imported get_logger\n"
     ]
    }
   ],
   "source": [
    "import os , sys\n",
    "print(\"Current working directory:\", os.getcwd())\n",
    "print(\"Python path:\", sys.path)\n",
    "try:\n",
    "    from flo_ai.common.flo_logger import get_logger\n",
    "    print(\"Successfully imported get_logger\")\n",
    "except ImportError as e:\n",
    "    print(\"Failed to import get_logger:\", str(e))\n",
    "    # You can add more debugging information here"
   ]
  },
  {
   "cell_type": "code",
   "execution_count": 1,
   "metadata": {},
   "outputs": [
    {
     "data": {
      "text/plain": [
       "True"
      ]
     },
     "execution_count": 1,
     "metadata": {},
     "output_type": "execute_result"
    }
   ],
   "source": [
    "from flo_ai import Flo\n",
    "from flo_ai import FloSession\n",
    "from langchain_openai import ChatOpenAI, OpenAIEmbeddings\n",
    "\n",
    "from dotenv import load_dotenv\n",
    "load_dotenv()"
   ]
  },
  {
   "cell_type": "code",
   "execution_count": 10,
   "metadata": {},
   "outputs": [
    {
     "name": "stderr",
     "output_type": "stream",
     "text": [
      "2024-09-12 13:58:30,392 - __main__ - ERROR - This is an error message.\n"
     ]
    }
   ],
   "source": [
    "from flo_ai.common.flo_logger import FloLogger\n",
    "logger1=FloLogger.get_logger(__name__)\n",
    "logger1.error(\"This is an error message.\")"
   ]
  },
  {
   "cell_type": "code",
   "execution_count": 16,
   "metadata": {},
   "outputs": [
    {
     "name": "stderr",
     "output_type": "stream",
     "text": [
      "WARNING:root:Something went wrong!\n"
     ]
    }
   ],
   "source": [
    "import logging\n",
    "# logging.warning(\"Remain calm!\")\n",
    "logging.basicConfig(\n",
    "    filename=\"app.log\",\n",
    "    encoding=\"utf-8\",\n",
    "    filemode=\"a\",\n",
    "    format=\"{asctime} - {levelname} - {message}\",\n",
    "    style=\"{\",\n",
    "    datefmt=\"%Y-%m-%d %H:%M\",\n",
    "    # level=logging.WARNING\n",
    ")\n",
    "logging.warning(\"Something went wrong!\")"
   ]
  },
  {
   "cell_type": "markdown",
   "metadata": {},
   "source": [
    "## Setup\n",
    "Create the Flo session, setup tools"
   ]
  },
  {
   "cell_type": "code",
   "execution_count": 2,
   "metadata": {},
   "outputs": [
    {
     "data": {
      "text/plain": [
       "<flo_ai.state.flo_session.FloSession at 0x115b3cb50>"
      ]
     },
     "execution_count": 2,
     "metadata": {},
     "output_type": "execute_result"
    }
   ],
   "source": [
    "from langchain_community.tools.tavily_search.tool import TavilySearchResults\n",
    "\n",
    "llm = ChatOpenAI(temperature=0, model_name='gpt-4o-mini')\n",
    "session = FloSession(llm)\n",
    "\n",
    "session.register_tool(\n",
    "    name=\"InternetSearchTool\", \n",
    "    tool=TavilySearchResults()\n",
    ")"
   ]
  },
  {
   "cell_type": "markdown",
   "metadata": {},
   "source": [
    "## Agentic Agent (agentic)\n",
    "\n",
    "Here we are gonna create a simple weather assitant flo agent that can check the whether by an internet searching tool.\n",
    "\n",
    "As you can see the kind is `agentic`"
   ]
  },
  {
   "cell_type": "code",
   "execution_count": 3,
   "metadata": {},
   "outputs": [],
   "source": [
    "simple_weather_checking_agent = \"\"\"\n",
    "apiVersion: flo/alpha-v1\n",
    "kind: FloAgent\n",
    "name: weather-assistant\n",
    "agent:\n",
    "    name: Weather Assistant\n",
    "    kind: agentic\n",
    "    job: >\n",
    "      Given the city name you are capable of answering the latest whether this time of the year by searching the internet\n",
    "    tools:\n",
    "      - name: InternetSearchTool\n",
    "\"\"\""
   ]
  },
  {
   "cell_type": "code",
   "execution_count": null,
   "metadata": {},
   "outputs": [],
   "source": []
  },
  {
   "cell_type": "code",
   "execution_count": null,
   "metadata": {},
   "outputs": [],
   "source": [
    "from langchain_core.callbacks import BaseCallbackHandler\n",
    "from langchain_core.prompts import ChatPromptTemplate\n",
    "from langchain_openai import ChatOpenAI\n",
    "flo = Flo.build(session, simple_weather_checking_agent)\n",
    "\n",
    "\n",
    "class MyCustomHandler(BaseCallbackHandler):\n",
    "    def on_llm_new_token(self, token: str, **kwargs) -> None:\n",
    "        print(f\"My custom handler, token: {token}\")\n",
    "\n",
    "\n",
    "handler = MyCustomHandler()\n",
    "config = {\n",
    "    'callbacks' : [handler]\n",
    "}\n",
    "\n",
    "query=\"Whats the whether in california\"\n",
    "\n",
    "flo.invoke(query=query, config=config)\n",
    "\n",
    "    def on_agent_action(self, action: AgentAction, **kwargs: Any) -> Any:\n",
    "        \"\"\"Run on agent action.\"\"\"\n",
    "        \n",
    "# prompt = ChatPromptTemplate.from_messages([\"Tell me a joke about {animal}\"])\n",
    "\n",
    "# To enable streaming, we pass in `streaming=True` to the ChatModel constructor\n",
    "# Additionally, we pass in our custom handler as a list to the callbacks parameter\n",
    "# model = ChatOpenAI(streaming=True, callbacks=[MyCustomHandler()])\n",
    "\n",
    "# chain = prompt | model\n",
    "\n",
    "# response = chain.invoke({\"animal\": \"bears\"})"
   ]
  },
  {
   "cell_type": "code",
   "execution_count": 4,
   "metadata": {},
   "outputs": [
    {
     "name": "stderr",
     "output_type": "stream",
     "text": [
      "2024-09-13 01:15:31,867 - FloCallback - INFO - Chain started. Inputs: {'messages': [HumanMessage(content='Whats the whether in california')]}\n",
      "2024-09-13 01:15:31,900 - FloCallback - INFO - Chain started. Inputs: {'input': ''}\n",
      "2024-09-13 01:15:31,913 - FloCallback - INFO - Chain started. Inputs: {'input': ''}\n",
      "2024-09-13 01:15:31,921 - FloCallback - INFO - Chain started. Inputs: {'input': ''}\n",
      "2024-09-13 01:15:31,926 - FloCallback - INFO - Chain started. Inputs: {'input': ''}\n",
      "2024-09-13 01:15:31,930 - FloCallback - INFO - Chain ended. Outputs: []\n",
      "2024-09-13 01:15:31,932 - FloCallback - INFO - Chain ended. Outputs: {'agent_scratchpad': []}\n",
      "2024-09-13 01:15:31,935 - FloCallback - INFO - Chain ended. Outputs: {'messages': [HumanMessage(content='Whats the whether in california')], 'intermediate_steps': [], 'agent_scratchpad': []}\n",
      "2024-09-13 01:15:31,937 - FloCallback - INFO - Chain started. Inputs: {'messages': [HumanMessage(content='Whats the whether in california')], 'intermediate_steps': [], 'agent_scratchpad': []}\n",
      "2024-09-13 01:15:31,939 - FloCallback - INFO - Chain ended. Outputs: messages=[SystemMessage(content='Given the city name you are capable of answering the latest whether this time of the year by searching the internet\\n'), HumanMessage(content='Whats the whether in california')]\n",
      "2024-09-13 01:15:31,942 - FloCallback - INFO - LLM started. Prompts: ['System: Given the city name you are capable of answering the latest whether this time of the year by searching the internet\\n\\nHuman: Whats the whether in california']\n"
     ]
    },
    {
     "name": "stdout",
     "output_type": "stream",
     "text": [
      "\n",
      "\n",
      "\u001b[1m> Entering new AgentExecutor chain...\u001b[0m\n"
     ]
    },
    {
     "name": "stderr",
     "output_type": "stream",
     "text": [
      "2024-09-13 01:15:33,913 - FloCallback - INFO - LLM ended. Output: [[ChatGenerationChunk(generation_info={'finish_reason': 'tool_calls', 'model_name': 'gpt-4o-mini-2024-07-18', 'system_fingerprint': 'fp_483d39d857'}, message=AIMessageChunk(content='', additional_kwargs={'tool_calls': [{'index': 0, 'id': 'call_uQzFA7BzlZZef6l75Zn6E2og', 'function': {'arguments': '{\"query\":\"California weather October 2023\"}', 'name': 'tavily_search_results_json'}, 'type': 'function'}]}, response_metadata={'finish_reason': 'tool_calls', 'model_name': 'gpt-4o-mini-2024-07-18', 'system_fingerprint': 'fp_483d39d857'}, id='run-25eea023-57c1-4693-a62b-d99c2208555d', tool_calls=[{'name': 'tavily_search_results_json', 'args': {'query': 'California weather October 2023'}, 'id': 'call_uQzFA7BzlZZef6l75Zn6E2og', 'type': 'tool_call'}], tool_call_chunks=[{'name': 'tavily_search_results_json', 'args': '{\"query\":\"California weather October 2023\"}', 'id': 'call_uQzFA7BzlZZef6l75Zn6E2og', 'index': 0, 'type': 'tool_call_chunk'}]))]]\n",
      "2024-09-13 01:15:33,917 - FloCallback - INFO - Chain started. Inputs: content='' additional_kwargs={'tool_calls': [{'index': 0, 'id': 'call_uQzFA7BzlZZef6l75Zn6E2og', 'function': {'arguments': '{\"query\":\"California weather October 2023\"}', 'name': 'tavily_search_results_json'}, 'type': 'function'}]} response_metadata={'finish_reason': 'tool_calls', 'model_name': 'gpt-4o-mini-2024-07-18', 'system_fingerprint': 'fp_483d39d857'} id='run-25eea023-57c1-4693-a62b-d99c2208555d' tool_calls=[{'name': 'tavily_search_results_json', 'args': {'query': 'California weather October 2023'}, 'id': 'call_uQzFA7BzlZZef6l75Zn6E2og', 'type': 'tool_call'}] tool_call_chunks=[{'name': 'tavily_search_results_json', 'args': '{\"query\":\"California weather October 2023\"}', 'id': 'call_uQzFA7BzlZZef6l75Zn6E2og', 'index': 0, 'type': 'tool_call_chunk'}]\n",
      "2024-09-13 01:15:33,919 - FloCallback - INFO - Chain ended. Outputs: [ToolAgentAction(tool='tavily_search_results_json', tool_input={'query': 'California weather October 2023'}, log=\"\\nInvoking: `tavily_search_results_json` with `{'query': 'California weather October 2023'}`\\n\\n\\n\", message_log=[AIMessageChunk(content='', additional_kwargs={'tool_calls': [{'index': 0, 'id': 'call_uQzFA7BzlZZef6l75Zn6E2og', 'function': {'arguments': '{\"query\":\"California weather October 2023\"}', 'name': 'tavily_search_results_json'}, 'type': 'function'}]}, response_metadata={'finish_reason': 'tool_calls', 'model_name': 'gpt-4o-mini-2024-07-18', 'system_fingerprint': 'fp_483d39d857'}, id='run-25eea023-57c1-4693-a62b-d99c2208555d', tool_calls=[{'name': 'tavily_search_results_json', 'args': {'query': 'California weather October 2023'}, 'id': 'call_uQzFA7BzlZZef6l75Zn6E2og', 'type': 'tool_call'}], tool_call_chunks=[{'name': 'tavily_search_results_json', 'args': '{\"query\":\"California weather October 2023\"}', 'id': 'call_uQzFA7BzlZZef6l75Zn6E2og', 'index': 0, 'type': 'tool_call_chunk'}])], tool_call_id='call_uQzFA7BzlZZef6l75Zn6E2og')]\n",
      "2024-09-13 01:15:33,921 - FloCallback - INFO - Chain ended. Outputs: [ToolAgentAction(tool='tavily_search_results_json', tool_input={'query': 'California weather October 2023'}, log=\"\\nInvoking: `tavily_search_results_json` with `{'query': 'California weather October 2023'}`\\n\\n\\n\", message_log=[AIMessageChunk(content='', additional_kwargs={'tool_calls': [{'index': 0, 'id': 'call_uQzFA7BzlZZef6l75Zn6E2og', 'function': {'arguments': '{\"query\":\"California weather October 2023\"}', 'name': 'tavily_search_results_json'}, 'type': 'function'}]}, response_metadata={'finish_reason': 'tool_calls', 'model_name': 'gpt-4o-mini-2024-07-18', 'system_fingerprint': 'fp_483d39d857'}, id='run-25eea023-57c1-4693-a62b-d99c2208555d', tool_calls=[{'name': 'tavily_search_results_json', 'args': {'query': 'California weather October 2023'}, 'id': 'call_uQzFA7BzlZZef6l75Zn6E2og', 'type': 'tool_call'}], tool_call_chunks=[{'name': 'tavily_search_results_json', 'args': '{\"query\":\"California weather October 2023\"}', 'id': 'call_uQzFA7BzlZZef6l75Zn6E2og', 'index': 0, 'type': 'tool_call_chunk'}])], tool_call_id='call_uQzFA7BzlZZef6l75Zn6E2og')]\n",
      "2024-09-13 01:15:33,922 - FloCallback - INFO - Agent action: tavily_search_results_json - {'query': 'California weather October 2023'}\n",
      "2024-09-13 01:15:33,924 - FloCallback - INFO - Tool started. Input: {'query': 'California weather October 2023'}\n"
     ]
    },
    {
     "name": "stdout",
     "output_type": "stream",
     "text": [
      "\u001b[32;1m\u001b[1;3m\n",
      "Invoking: `tavily_search_results_json` with `{'query': 'California weather October 2023'}`\n",
      "\n",
      "\n",
      "\u001b[0m"
     ]
    },
    {
     "name": "stderr",
     "output_type": "stream",
     "text": [
      "2024-09-13 01:15:38,441 - FloCallback - INFO - Tool ended. Output: [{'url': 'https://www.weatherapi.com/', 'content': \"{'location': {'name': 'California City', 'region': 'California', 'country': 'United States of America', 'lat': 35.13, 'lon': -117.99, 'tz_id': 'America/Los_Angeles', 'localtime_epoch': 1726170321, 'localtime': '2024-09-12 12:45'}, 'current': {'last_updated_epoch': 1726170300, 'last_updated': '2024-09-12 12:45', 'temp_c': 29.1, 'temp_f': 84.4, 'is_day': 1, 'condition': {'text': 'Sunny', 'icon': '//cdn.weatherapi.com/weather/64x64/day/113.png', 'code': 1000}, 'wind_mph': 2.2, 'wind_kph': 3.6, 'wind_degree': 10, 'wind_dir': 'N', 'pressure_mb': 1008.0, 'pressure_in': 29.77, 'precip_mm': 0.0, 'precip_in': 0.0, 'humidity': 11, 'cloud': 0, 'feelslike_c': 27.0, 'feelslike_f': 80.5, 'windchill_c': 26.0, 'windchill_f': 78.7, 'heatindex_c': 24.7, 'heatindex_f': 76.4, 'dewpoint_c': 1.0, 'dewpoint_f': 33.8, 'vis_km': 16.0, 'vis_miles': 9.0, 'uv': 7.0, 'gust_mph': 6.7, 'gust_kph': 10.8}}\"}, {'url': 'https://www.timeanddate.com/weather/usa/los-angeles/historic?month=10&year=2023', 'content': 'Weather reports from October 2023 in Los Angeles, California, USA with highs and lows. Sign in. News. News Home; Astronomy News; Time Zone News; Calendar & Holiday News; Newsletter; Live events. ... High & Low Weather Summary for October 2023 Temperature Humidity Pressure; High: 92 °F (Oct 5, 11:53 am) 100% (Oct 7, 9:02 am) 30.11 \"Hg (Oct 7, 9 ...'}, {'url': 'https://www.meteoprog.com/weather/California-california/month/october/', 'content': 'California (United States) weather in October 2023 ☀️ Accurate weather forecast for California in October ⛅ Detailed forecast By month Current temperature \"near me\" Weather news ⊳ Widget of weather ⊳ Water temperature | METEOPROG'}, {'url': 'https://world-weather.info/forecast/usa/california/october-2023/', 'content': \"Weather in California in October 2023 (Maryland) - Detailed Weather Forecast for a Month Weather Weather in California Weather in California in October 2023 California Weather Forecast for October 2023 is based on statistical data. 1 +77°+61° 2 +79°+63° 3 +79°+61° 4 +77°+59° 5 +75°+59° 6 +77°+66° 7 +64°+64° 8 +64°+52° 9 +66°+50° 10 +70°+55° 11 +72°+54° 12 +70°+54° 13 +68°+54° 14 +64°+54° 15 +63°+59° 16 +61°+50° 17 +63°+54° 18 +63°+50° 19 +70°+50° Average weather in October 2023 Weather in Washington, D.C.+79° Annapolis+77° Fairfax+77° Fredericksburg+77° Manassas+79° McLean+79° Mechanicsville+77° Vienna+77° Alexandria+79° Waldorf+77° Salisbury+75° Rockville+77° Woodmere+77° Windsor+75° world's temperature today Temperature units\"}, {'url': 'https://world-weather.info/forecast/usa/los_angeles/october-2023/', 'content': 'Extended weather forecast in Los Angeles. Hourly Week 10 days 14 days 30 days Year. Detailed ⚡ Los Angeles Weather Forecast for October 2023 - day/night 🌡️ temperatures, precipitations - World-Weather.info.'}]\n",
      "2024-09-13 01:15:38,454 - FloCallback - INFO - Chain started. Inputs: {'input': ''}\n",
      "2024-09-13 01:15:38,468 - FloCallback - INFO - Chain started. Inputs: {'input': ''}\n",
      "2024-09-13 01:15:38,475 - FloCallback - INFO - Chain started. Inputs: {'input': ''}\n",
      "2024-09-13 01:15:38,480 - FloCallback - INFO - Chain started. Inputs: {'input': ''}\n",
      "2024-09-13 01:15:38,485 - FloCallback - INFO - Chain ended. Outputs: [AIMessageChunk(content='', additional_kwargs={'tool_calls': [{'index': 0, 'id': 'call_uQzFA7BzlZZef6l75Zn6E2og', 'function': {'arguments': '{\"query\":\"California weather October 2023\"}', 'name': 'tavily_search_results_json'}, 'type': 'function'}]}, response_metadata={'finish_reason': 'tool_calls', 'model_name': 'gpt-4o-mini-2024-07-18', 'system_fingerprint': 'fp_483d39d857'}, id='run-25eea023-57c1-4693-a62b-d99c2208555d', tool_calls=[{'name': 'tavily_search_results_json', 'args': {'query': 'California weather October 2023'}, 'id': 'call_uQzFA7BzlZZef6l75Zn6E2og', 'type': 'tool_call'}], tool_call_chunks=[{'name': 'tavily_search_results_json', 'args': '{\"query\":\"California weather October 2023\"}', 'id': 'call_uQzFA7BzlZZef6l75Zn6E2og', 'index': 0, 'type': 'tool_call_chunk'}]), ToolMessage(content='[{\"url\": \"https://www.weatherapi.com/\", \"content\": \"{\\'location\\': {\\'name\\': \\'California City\\', \\'region\\': \\'California\\', \\'country\\': \\'United States of America\\', \\'lat\\': 35.13, \\'lon\\': -117.99, \\'tz_id\\': \\'America/Los_Angeles\\', \\'localtime_epoch\\': 1726170321, \\'localtime\\': \\'2024-09-12 12:45\\'}, \\'current\\': {\\'last_updated_epoch\\': 1726170300, \\'last_updated\\': \\'2024-09-12 12:45\\', \\'temp_c\\': 29.1, \\'temp_f\\': 84.4, \\'is_day\\': 1, \\'condition\\': {\\'text\\': \\'Sunny\\', \\'icon\\': \\'//cdn.weatherapi.com/weather/64x64/day/113.png\\', \\'code\\': 1000}, \\'wind_mph\\': 2.2, \\'wind_kph\\': 3.6, \\'wind_degree\\': 10, \\'wind_dir\\': \\'N\\', \\'pressure_mb\\': 1008.0, \\'pressure_in\\': 29.77, \\'precip_mm\\': 0.0, \\'precip_in\\': 0.0, \\'humidity\\': 11, \\'cloud\\': 0, \\'feelslike_c\\': 27.0, \\'feelslike_f\\': 80.5, \\'windchill_c\\': 26.0, \\'windchill_f\\': 78.7, \\'heatindex_c\\': 24.7, \\'heatindex_f\\': 76.4, \\'dewpoint_c\\': 1.0, \\'dewpoint_f\\': 33.8, \\'vis_km\\': 16.0, \\'vis_miles\\': 9.0, \\'uv\\': 7.0, \\'gust_mph\\': 6.7, \\'gust_kph\\': 10.8}}\"}, {\"url\": \"https://www.timeanddate.com/weather/usa/los-angeles/historic?month=10&year=2023\", \"content\": \"Weather reports from October 2023 in Los Angeles, California, USA with highs and lows. Sign in. News. News Home; Astronomy News; Time Zone News; Calendar & Holiday News; Newsletter; Live events. ... High & Low Weather Summary for October 2023 Temperature Humidity Pressure; High: 92 °F (Oct 5, 11:53 am) 100% (Oct 7, 9:02 am) 30.11 \\\\\"Hg (Oct 7, 9 ...\"}, {\"url\": \"https://www.meteoprog.com/weather/California-california/month/october/\", \"content\": \"California (United States) weather in October 2023 ☀️ Accurate weather forecast for California in October ⛅ Detailed forecast By month Current temperature \\\\\"near me\\\\\" Weather news ⊳ Widget of weather ⊳ Water temperature | METEOPROG\"}, {\"url\": \"https://world-weather.info/forecast/usa/california/october-2023/\", \"content\": \"Weather in California in October 2023 (Maryland) - Detailed Weather Forecast for a Month Weather Weather in California Weather in California in October 2023 California Weather Forecast for October 2023 is based on statistical data. 1 +77°+61° 2 +79°+63° 3 +79°+61° 4 +77°+59° 5 +75°+59° 6 +77°+66° 7 +64°+64° 8 +64°+52° 9 +66°+50° 10 +70°+55° 11 +72°+54° 12 +70°+54° 13 +68°+54° 14 +64°+54° 15 +63°+59° 16 +61°+50° 17 +63°+54° 18 +63°+50° 19 +70°+50° Average weather in October 2023 Weather in Washington, D.C.+79° Annapolis+77° Fairfax+77° Fredericksburg+77° Manassas+79° McLean+79° Mechanicsville+77° Vienna+77° Alexandria+79° Waldorf+77° Salisbury+75° Rockville+77° Woodmere+77° Windsor+75° world\\'s temperature today Temperature units\"}, {\"url\": \"https://world-weather.info/forecast/usa/los_angeles/october-2023/\", \"content\": \"Extended weather forecast in Los Angeles. Hourly Week 10 days 14 days 30 days Year. Detailed ⚡ Los Angeles Weather Forecast for October 2023 - day/night 🌡️ temperatures, precipitations - World-Weather.info.\"}]', additional_kwargs={'name': 'tavily_search_results_json'}, tool_call_id='call_uQzFA7BzlZZef6l75Zn6E2og')]\n",
      "2024-09-13 01:15:38,487 - FloCallback - INFO - Chain ended. Outputs: {'agent_scratchpad': [AIMessageChunk(content='', additional_kwargs={'tool_calls': [{'index': 0, 'id': 'call_uQzFA7BzlZZef6l75Zn6E2og', 'function': {'arguments': '{\"query\":\"California weather October 2023\"}', 'name': 'tavily_search_results_json'}, 'type': 'function'}]}, response_metadata={'finish_reason': 'tool_calls', 'model_name': 'gpt-4o-mini-2024-07-18', 'system_fingerprint': 'fp_483d39d857'}, id='run-25eea023-57c1-4693-a62b-d99c2208555d', tool_calls=[{'name': 'tavily_search_results_json', 'args': {'query': 'California weather October 2023'}, 'id': 'call_uQzFA7BzlZZef6l75Zn6E2og', 'type': 'tool_call'}], tool_call_chunks=[{'name': 'tavily_search_results_json', 'args': '{\"query\":\"California weather October 2023\"}', 'id': 'call_uQzFA7BzlZZef6l75Zn6E2og', 'index': 0, 'type': 'tool_call_chunk'}]), ToolMessage(content='[{\"url\": \"https://www.weatherapi.com/\", \"content\": \"{\\'location\\': {\\'name\\': \\'California City\\', \\'region\\': \\'California\\', \\'country\\': \\'United States of America\\', \\'lat\\': 35.13, \\'lon\\': -117.99, \\'tz_id\\': \\'America/Los_Angeles\\', \\'localtime_epoch\\': 1726170321, \\'localtime\\': \\'2024-09-12 12:45\\'}, \\'current\\': {\\'last_updated_epoch\\': 1726170300, \\'last_updated\\': \\'2024-09-12 12:45\\', \\'temp_c\\': 29.1, \\'temp_f\\': 84.4, \\'is_day\\': 1, \\'condition\\': {\\'text\\': \\'Sunny\\', \\'icon\\': \\'//cdn.weatherapi.com/weather/64x64/day/113.png\\', \\'code\\': 1000}, \\'wind_mph\\': 2.2, \\'wind_kph\\': 3.6, \\'wind_degree\\': 10, \\'wind_dir\\': \\'N\\', \\'pressure_mb\\': 1008.0, \\'pressure_in\\': 29.77, \\'precip_mm\\': 0.0, \\'precip_in\\': 0.0, \\'humidity\\': 11, \\'cloud\\': 0, \\'feelslike_c\\': 27.0, \\'feelslike_f\\': 80.5, \\'windchill_c\\': 26.0, \\'windchill_f\\': 78.7, \\'heatindex_c\\': 24.7, \\'heatindex_f\\': 76.4, \\'dewpoint_c\\': 1.0, \\'dewpoint_f\\': 33.8, \\'vis_km\\': 16.0, \\'vis_miles\\': 9.0, \\'uv\\': 7.0, \\'gust_mph\\': 6.7, \\'gust_kph\\': 10.8}}\"}, {\"url\": \"https://www.timeanddate.com/weather/usa/los-angeles/historic?month=10&year=2023\", \"content\": \"Weather reports from October 2023 in Los Angeles, California, USA with highs and lows. Sign in. News. News Home; Astronomy News; Time Zone News; Calendar & Holiday News; Newsletter; Live events. ... High & Low Weather Summary for October 2023 Temperature Humidity Pressure; High: 92 °F (Oct 5, 11:53 am) 100% (Oct 7, 9:02 am) 30.11 \\\\\"Hg (Oct 7, 9 ...\"}, {\"url\": \"https://www.meteoprog.com/weather/California-california/month/october/\", \"content\": \"California (United States) weather in October 2023 ☀️ Accurate weather forecast for California in October ⛅ Detailed forecast By month Current temperature \\\\\"near me\\\\\" Weather news ⊳ Widget of weather ⊳ Water temperature | METEOPROG\"}, {\"url\": \"https://world-weather.info/forecast/usa/california/october-2023/\", \"content\": \"Weather in California in October 2023 (Maryland) - Detailed Weather Forecast for a Month Weather Weather in California Weather in California in October 2023 California Weather Forecast for October 2023 is based on statistical data. 1 +77°+61° 2 +79°+63° 3 +79°+61° 4 +77°+59° 5 +75°+59° 6 +77°+66° 7 +64°+64° 8 +64°+52° 9 +66°+50° 10 +70°+55° 11 +72°+54° 12 +70°+54° 13 +68°+54° 14 +64°+54° 15 +63°+59° 16 +61°+50° 17 +63°+54° 18 +63°+50° 19 +70°+50° Average weather in October 2023 Weather in Washington, D.C.+79° Annapolis+77° Fairfax+77° Fredericksburg+77° Manassas+79° McLean+79° Mechanicsville+77° Vienna+77° Alexandria+79° Waldorf+77° Salisbury+75° Rockville+77° Woodmere+77° Windsor+75° world\\'s temperature today Temperature units\"}, {\"url\": \"https://world-weather.info/forecast/usa/los_angeles/october-2023/\", \"content\": \"Extended weather forecast in Los Angeles. Hourly Week 10 days 14 days 30 days Year. Detailed ⚡ Los Angeles Weather Forecast for October 2023 - day/night 🌡️ temperatures, precipitations - World-Weather.info.\"}]', additional_kwargs={'name': 'tavily_search_results_json'}, tool_call_id='call_uQzFA7BzlZZef6l75Zn6E2og')]}\n",
      "2024-09-13 01:15:38,489 - FloCallback - INFO - Chain ended. Outputs: {'messages': [HumanMessage(content='Whats the whether in california')], 'intermediate_steps': [(ToolAgentAction(tool='tavily_search_results_json', tool_input={'query': 'California weather October 2023'}, log=\"\\nInvoking: `tavily_search_results_json` with `{'query': 'California weather October 2023'}`\\n\\n\\n\", message_log=[AIMessageChunk(content='', additional_kwargs={'tool_calls': [{'index': 0, 'id': 'call_uQzFA7BzlZZef6l75Zn6E2og', 'function': {'arguments': '{\"query\":\"California weather October 2023\"}', 'name': 'tavily_search_results_json'}, 'type': 'function'}]}, response_metadata={'finish_reason': 'tool_calls', 'model_name': 'gpt-4o-mini-2024-07-18', 'system_fingerprint': 'fp_483d39d857'}, id='run-25eea023-57c1-4693-a62b-d99c2208555d', tool_calls=[{'name': 'tavily_search_results_json', 'args': {'query': 'California weather October 2023'}, 'id': 'call_uQzFA7BzlZZef6l75Zn6E2og', 'type': 'tool_call'}], tool_call_chunks=[{'name': 'tavily_search_results_json', 'args': '{\"query\":\"California weather October 2023\"}', 'id': 'call_uQzFA7BzlZZef6l75Zn6E2og', 'index': 0, 'type': 'tool_call_chunk'}])], tool_call_id='call_uQzFA7BzlZZef6l75Zn6E2og'), [{'url': 'https://www.weatherapi.com/', 'content': \"{'location': {'name': 'California City', 'region': 'California', 'country': 'United States of America', 'lat': 35.13, 'lon': -117.99, 'tz_id': 'America/Los_Angeles', 'localtime_epoch': 1726170321, 'localtime': '2024-09-12 12:45'}, 'current': {'last_updated_epoch': 1726170300, 'last_updated': '2024-09-12 12:45', 'temp_c': 29.1, 'temp_f': 84.4, 'is_day': 1, 'condition': {'text': 'Sunny', 'icon': '//cdn.weatherapi.com/weather/64x64/day/113.png', 'code': 1000}, 'wind_mph': 2.2, 'wind_kph': 3.6, 'wind_degree': 10, 'wind_dir': 'N', 'pressure_mb': 1008.0, 'pressure_in': 29.77, 'precip_mm': 0.0, 'precip_in': 0.0, 'humidity': 11, 'cloud': 0, 'feelslike_c': 27.0, 'feelslike_f': 80.5, 'windchill_c': 26.0, 'windchill_f': 78.7, 'heatindex_c': 24.7, 'heatindex_f': 76.4, 'dewpoint_c': 1.0, 'dewpoint_f': 33.8, 'vis_km': 16.0, 'vis_miles': 9.0, 'uv': 7.0, 'gust_mph': 6.7, 'gust_kph': 10.8}}\"}, {'url': 'https://www.timeanddate.com/weather/usa/los-angeles/historic?month=10&year=2023', 'content': 'Weather reports from October 2023 in Los Angeles, California, USA with highs and lows. Sign in. News. News Home; Astronomy News; Time Zone News; Calendar & Holiday News; Newsletter; Live events. ... High & Low Weather Summary for October 2023 Temperature Humidity Pressure; High: 92 °F (Oct 5, 11:53 am) 100% (Oct 7, 9:02 am) 30.11 \"Hg (Oct 7, 9 ...'}, {'url': 'https://www.meteoprog.com/weather/California-california/month/october/', 'content': 'California (United States) weather in October 2023 ☀️ Accurate weather forecast for California in October ⛅ Detailed forecast By month Current temperature \"near me\" Weather news ⊳ Widget of weather ⊳ Water temperature | METEOPROG'}, {'url': 'https://world-weather.info/forecast/usa/california/october-2023/', 'content': \"Weather in California in October 2023 (Maryland) - Detailed Weather Forecast for a Month Weather Weather in California Weather in California in October 2023 California Weather Forecast for October 2023 is based on statistical data. 1 +77°+61° 2 +79°+63° 3 +79°+61° 4 +77°+59° 5 +75°+59° 6 +77°+66° 7 +64°+64° 8 +64°+52° 9 +66°+50° 10 +70°+55° 11 +72°+54° 12 +70°+54° 13 +68°+54° 14 +64°+54° 15 +63°+59° 16 +61°+50° 17 +63°+54° 18 +63°+50° 19 +70°+50° Average weather in October 2023 Weather in Washington, D.C.+79° Annapolis+77° Fairfax+77° Fredericksburg+77° Manassas+79° McLean+79° Mechanicsville+77° Vienna+77° Alexandria+79° Waldorf+77° Salisbury+75° Rockville+77° Woodmere+77° Windsor+75° world's temperature today Temperature units\"}, {'url': 'https://world-weather.info/forecast/usa/los_angeles/october-2023/', 'content': 'Extended weather forecast in Los Angeles. Hourly Week 10 days 14 days 30 days Year. Detailed ⚡ Los Angeles Weather Forecast for October 2023 - day/night 🌡️ temperatures, precipitations - World-Weather.info.'}])], 'agent_scratchpad': [AIMessageChunk(content='', additional_kwargs={'tool_calls': [{'index': 0, 'id': 'call_uQzFA7BzlZZef6l75Zn6E2og', 'function': {'arguments': '{\"query\":\"California weather October 2023\"}', 'name': 'tavily_search_results_json'}, 'type': 'function'}]}, response_metadata={'finish_reason': 'tool_calls', 'model_name': 'gpt-4o-mini-2024-07-18', 'system_fingerprint': 'fp_483d39d857'}, id='run-25eea023-57c1-4693-a62b-d99c2208555d', tool_calls=[{'name': 'tavily_search_results_json', 'args': {'query': 'California weather October 2023'}, 'id': 'call_uQzFA7BzlZZef6l75Zn6E2og', 'type': 'tool_call'}], tool_call_chunks=[{'name': 'tavily_search_results_json', 'args': '{\"query\":\"California weather October 2023\"}', 'id': 'call_uQzFA7BzlZZef6l75Zn6E2og', 'index': 0, 'type': 'tool_call_chunk'}]), ToolMessage(content='[{\"url\": \"https://www.weatherapi.com/\", \"content\": \"{\\'location\\': {\\'name\\': \\'California City\\', \\'region\\': \\'California\\', \\'country\\': \\'United States of America\\', \\'lat\\': 35.13, \\'lon\\': -117.99, \\'tz_id\\': \\'America/Los_Angeles\\', \\'localtime_epoch\\': 1726170321, \\'localtime\\': \\'2024-09-12 12:45\\'}, \\'current\\': {\\'last_updated_epoch\\': 1726170300, \\'last_updated\\': \\'2024-09-12 12:45\\', \\'temp_c\\': 29.1, \\'temp_f\\': 84.4, \\'is_day\\': 1, \\'condition\\': {\\'text\\': \\'Sunny\\', \\'icon\\': \\'//cdn.weatherapi.com/weather/64x64/day/113.png\\', \\'code\\': 1000}, \\'wind_mph\\': 2.2, \\'wind_kph\\': 3.6, \\'wind_degree\\': 10, \\'wind_dir\\': \\'N\\', \\'pressure_mb\\': 1008.0, \\'pressure_in\\': 29.77, \\'precip_mm\\': 0.0, \\'precip_in\\': 0.0, \\'humidity\\': 11, \\'cloud\\': 0, \\'feelslike_c\\': 27.0, \\'feelslike_f\\': 80.5, \\'windchill_c\\': 26.0, \\'windchill_f\\': 78.7, \\'heatindex_c\\': 24.7, \\'heatindex_f\\': 76.4, \\'dewpoint_c\\': 1.0, \\'dewpoint_f\\': 33.8, \\'vis_km\\': 16.0, \\'vis_miles\\': 9.0, \\'uv\\': 7.0, \\'gust_mph\\': 6.7, \\'gust_kph\\': 10.8}}\"}, {\"url\": \"https://www.timeanddate.com/weather/usa/los-angeles/historic?month=10&year=2023\", \"content\": \"Weather reports from October 2023 in Los Angeles, California, USA with highs and lows. Sign in. News. News Home; Astronomy News; Time Zone News; Calendar & Holiday News; Newsletter; Live events. ... High & Low Weather Summary for October 2023 Temperature Humidity Pressure; High: 92 °F (Oct 5, 11:53 am) 100% (Oct 7, 9:02 am) 30.11 \\\\\"Hg (Oct 7, 9 ...\"}, {\"url\": \"https://www.meteoprog.com/weather/California-california/month/october/\", \"content\": \"California (United States) weather in October 2023 ☀️ Accurate weather forecast for California in October ⛅ Detailed forecast By month Current temperature \\\\\"near me\\\\\" Weather news ⊳ Widget of weather ⊳ Water temperature | METEOPROG\"}, {\"url\": \"https://world-weather.info/forecast/usa/california/october-2023/\", \"content\": \"Weather in California in October 2023 (Maryland) - Detailed Weather Forecast for a Month Weather Weather in California Weather in California in October 2023 California Weather Forecast for October 2023 is based on statistical data. 1 +77°+61° 2 +79°+63° 3 +79°+61° 4 +77°+59° 5 +75°+59° 6 +77°+66° 7 +64°+64° 8 +64°+52° 9 +66°+50° 10 +70°+55° 11 +72°+54° 12 +70°+54° 13 +68°+54° 14 +64°+54° 15 +63°+59° 16 +61°+50° 17 +63°+54° 18 +63°+50° 19 +70°+50° Average weather in October 2023 Weather in Washington, D.C.+79° Annapolis+77° Fairfax+77° Fredericksburg+77° Manassas+79° McLean+79° Mechanicsville+77° Vienna+77° Alexandria+79° Waldorf+77° Salisbury+75° Rockville+77° Woodmere+77° Windsor+75° world\\'s temperature today Temperature units\"}, {\"url\": \"https://world-weather.info/forecast/usa/los_angeles/october-2023/\", \"content\": \"Extended weather forecast in Los Angeles. Hourly Week 10 days 14 days 30 days Year. Detailed ⚡ Los Angeles Weather Forecast for October 2023 - day/night 🌡️ temperatures, precipitations - World-Weather.info.\"}]', additional_kwargs={'name': 'tavily_search_results_json'}, tool_call_id='call_uQzFA7BzlZZef6l75Zn6E2og')]}\n",
      "2024-09-13 01:15:38,494 - FloCallback - INFO - Chain started. Inputs: {'messages': [HumanMessage(content='Whats the whether in california')], 'intermediate_steps': [(ToolAgentAction(tool='tavily_search_results_json', tool_input={'query': 'California weather October 2023'}, log=\"\\nInvoking: `tavily_search_results_json` with `{'query': 'California weather October 2023'}`\\n\\n\\n\", message_log=[AIMessageChunk(content='', additional_kwargs={'tool_calls': [{'index': 0, 'id': 'call_uQzFA7BzlZZef6l75Zn6E2og', 'function': {'arguments': '{\"query\":\"California weather October 2023\"}', 'name': 'tavily_search_results_json'}, 'type': 'function'}]}, response_metadata={'finish_reason': 'tool_calls', 'model_name': 'gpt-4o-mini-2024-07-18', 'system_fingerprint': 'fp_483d39d857'}, id='run-25eea023-57c1-4693-a62b-d99c2208555d', tool_calls=[{'name': 'tavily_search_results_json', 'args': {'query': 'California weather October 2023'}, 'id': 'call_uQzFA7BzlZZef6l75Zn6E2og', 'type': 'tool_call'}], tool_call_chunks=[{'name': 'tavily_search_results_json', 'args': '{\"query\":\"California weather October 2023\"}', 'id': 'call_uQzFA7BzlZZef6l75Zn6E2og', 'index': 0, 'type': 'tool_call_chunk'}])], tool_call_id='call_uQzFA7BzlZZef6l75Zn6E2og'), [{'url': 'https://www.weatherapi.com/', 'content': \"{'location': {'name': 'California City', 'region': 'California', 'country': 'United States of America', 'lat': 35.13, 'lon': -117.99, 'tz_id': 'America/Los_Angeles', 'localtime_epoch': 1726170321, 'localtime': '2024-09-12 12:45'}, 'current': {'last_updated_epoch': 1726170300, 'last_updated': '2024-09-12 12:45', 'temp_c': 29.1, 'temp_f': 84.4, 'is_day': 1, 'condition': {'text': 'Sunny', 'icon': '//cdn.weatherapi.com/weather/64x64/day/113.png', 'code': 1000}, 'wind_mph': 2.2, 'wind_kph': 3.6, 'wind_degree': 10, 'wind_dir': 'N', 'pressure_mb': 1008.0, 'pressure_in': 29.77, 'precip_mm': 0.0, 'precip_in': 0.0, 'humidity': 11, 'cloud': 0, 'feelslike_c': 27.0, 'feelslike_f': 80.5, 'windchill_c': 26.0, 'windchill_f': 78.7, 'heatindex_c': 24.7, 'heatindex_f': 76.4, 'dewpoint_c': 1.0, 'dewpoint_f': 33.8, 'vis_km': 16.0, 'vis_miles': 9.0, 'uv': 7.0, 'gust_mph': 6.7, 'gust_kph': 10.8}}\"}, {'url': 'https://www.timeanddate.com/weather/usa/los-angeles/historic?month=10&year=2023', 'content': 'Weather reports from October 2023 in Los Angeles, California, USA with highs and lows. Sign in. News. News Home; Astronomy News; Time Zone News; Calendar & Holiday News; Newsletter; Live events. ... High & Low Weather Summary for October 2023 Temperature Humidity Pressure; High: 92 °F (Oct 5, 11:53 am) 100% (Oct 7, 9:02 am) 30.11 \"Hg (Oct 7, 9 ...'}, {'url': 'https://www.meteoprog.com/weather/California-california/month/october/', 'content': 'California (United States) weather in October 2023 ☀️ Accurate weather forecast for California in October ⛅ Detailed forecast By month Current temperature \"near me\" Weather news ⊳ Widget of weather ⊳ Water temperature | METEOPROG'}, {'url': 'https://world-weather.info/forecast/usa/california/october-2023/', 'content': \"Weather in California in October 2023 (Maryland) - Detailed Weather Forecast for a Month Weather Weather in California Weather in California in October 2023 California Weather Forecast for October 2023 is based on statistical data. 1 +77°+61° 2 +79°+63° 3 +79°+61° 4 +77°+59° 5 +75°+59° 6 +77°+66° 7 +64°+64° 8 +64°+52° 9 +66°+50° 10 +70°+55° 11 +72°+54° 12 +70°+54° 13 +68°+54° 14 +64°+54° 15 +63°+59° 16 +61°+50° 17 +63°+54° 18 +63°+50° 19 +70°+50° Average weather in October 2023 Weather in Washington, D.C.+79° Annapolis+77° Fairfax+77° Fredericksburg+77° Manassas+79° McLean+79° Mechanicsville+77° Vienna+77° Alexandria+79° Waldorf+77° Salisbury+75° Rockville+77° Woodmere+77° Windsor+75° world's temperature today Temperature units\"}, {'url': 'https://world-weather.info/forecast/usa/los_angeles/october-2023/', 'content': 'Extended weather forecast in Los Angeles. Hourly Week 10 days 14 days 30 days Year. Detailed ⚡ Los Angeles Weather Forecast for October 2023 - day/night 🌡️ temperatures, precipitations - World-Weather.info.'}])], 'agent_scratchpad': [AIMessageChunk(content='', additional_kwargs={'tool_calls': [{'index': 0, 'id': 'call_uQzFA7BzlZZef6l75Zn6E2og', 'function': {'arguments': '{\"query\":\"California weather October 2023\"}', 'name': 'tavily_search_results_json'}, 'type': 'function'}]}, response_metadata={'finish_reason': 'tool_calls', 'model_name': 'gpt-4o-mini-2024-07-18', 'system_fingerprint': 'fp_483d39d857'}, id='run-25eea023-57c1-4693-a62b-d99c2208555d', tool_calls=[{'name': 'tavily_search_results_json', 'args': {'query': 'California weather October 2023'}, 'id': 'call_uQzFA7BzlZZef6l75Zn6E2og', 'type': 'tool_call'}], tool_call_chunks=[{'name': 'tavily_search_results_json', 'args': '{\"query\":\"California weather October 2023\"}', 'id': 'call_uQzFA7BzlZZef6l75Zn6E2og', 'index': 0, 'type': 'tool_call_chunk'}]), ToolMessage(content='[{\"url\": \"https://www.weatherapi.com/\", \"content\": \"{\\'location\\': {\\'name\\': \\'California City\\', \\'region\\': \\'California\\', \\'country\\': \\'United States of America\\', \\'lat\\': 35.13, \\'lon\\': -117.99, \\'tz_id\\': \\'America/Los_Angeles\\', \\'localtime_epoch\\': 1726170321, \\'localtime\\': \\'2024-09-12 12:45\\'}, \\'current\\': {\\'last_updated_epoch\\': 1726170300, \\'last_updated\\': \\'2024-09-12 12:45\\', \\'temp_c\\': 29.1, \\'temp_f\\': 84.4, \\'is_day\\': 1, \\'condition\\': {\\'text\\': \\'Sunny\\', \\'icon\\': \\'//cdn.weatherapi.com/weather/64x64/day/113.png\\', \\'code\\': 1000}, \\'wind_mph\\': 2.2, \\'wind_kph\\': 3.6, \\'wind_degree\\': 10, \\'wind_dir\\': \\'N\\', \\'pressure_mb\\': 1008.0, \\'pressure_in\\': 29.77, \\'precip_mm\\': 0.0, \\'precip_in\\': 0.0, \\'humidity\\': 11, \\'cloud\\': 0, \\'feelslike_c\\': 27.0, \\'feelslike_f\\': 80.5, \\'windchill_c\\': 26.0, \\'windchill_f\\': 78.7, \\'heatindex_c\\': 24.7, \\'heatindex_f\\': 76.4, \\'dewpoint_c\\': 1.0, \\'dewpoint_f\\': 33.8, \\'vis_km\\': 16.0, \\'vis_miles\\': 9.0, \\'uv\\': 7.0, \\'gust_mph\\': 6.7, \\'gust_kph\\': 10.8}}\"}, {\"url\": \"https://www.timeanddate.com/weather/usa/los-angeles/historic?month=10&year=2023\", \"content\": \"Weather reports from October 2023 in Los Angeles, California, USA with highs and lows. Sign in. News. News Home; Astronomy News; Time Zone News; Calendar & Holiday News; Newsletter; Live events. ... High & Low Weather Summary for October 2023 Temperature Humidity Pressure; High: 92 °F (Oct 5, 11:53 am) 100% (Oct 7, 9:02 am) 30.11 \\\\\"Hg (Oct 7, 9 ...\"}, {\"url\": \"https://www.meteoprog.com/weather/California-california/month/october/\", \"content\": \"California (United States) weather in October 2023 ☀️ Accurate weather forecast for California in October ⛅ Detailed forecast By month Current temperature \\\\\"near me\\\\\" Weather news ⊳ Widget of weather ⊳ Water temperature | METEOPROG\"}, {\"url\": \"https://world-weather.info/forecast/usa/california/october-2023/\", \"content\": \"Weather in California in October 2023 (Maryland) - Detailed Weather Forecast for a Month Weather Weather in California Weather in California in October 2023 California Weather Forecast for October 2023 is based on statistical data. 1 +77°+61° 2 +79°+63° 3 +79°+61° 4 +77°+59° 5 +75°+59° 6 +77°+66° 7 +64°+64° 8 +64°+52° 9 +66°+50° 10 +70°+55° 11 +72°+54° 12 +70°+54° 13 +68°+54° 14 +64°+54° 15 +63°+59° 16 +61°+50° 17 +63°+54° 18 +63°+50° 19 +70°+50° Average weather in October 2023 Weather in Washington, D.C.+79° Annapolis+77° Fairfax+77° Fredericksburg+77° Manassas+79° McLean+79° Mechanicsville+77° Vienna+77° Alexandria+79° Waldorf+77° Salisbury+75° Rockville+77° Woodmere+77° Windsor+75° world\\'s temperature today Temperature units\"}, {\"url\": \"https://world-weather.info/forecast/usa/los_angeles/october-2023/\", \"content\": \"Extended weather forecast in Los Angeles. Hourly Week 10 days 14 days 30 days Year. Detailed ⚡ Los Angeles Weather Forecast for October 2023 - day/night 🌡️ temperatures, precipitations - World-Weather.info.\"}]', additional_kwargs={'name': 'tavily_search_results_json'}, tool_call_id='call_uQzFA7BzlZZef6l75Zn6E2og')]}\n",
      "2024-09-13 01:15:38,502 - FloCallback - INFO - Chain ended. Outputs: messages=[SystemMessage(content='Given the city name you are capable of answering the latest whether this time of the year by searching the internet\\n'), HumanMessage(content='Whats the whether in california'), AIMessageChunk(content='', additional_kwargs={'tool_calls': [{'index': 0, 'id': 'call_uQzFA7BzlZZef6l75Zn6E2og', 'function': {'arguments': '{\"query\":\"California weather October 2023\"}', 'name': 'tavily_search_results_json'}, 'type': 'function'}]}, response_metadata={'finish_reason': 'tool_calls', 'model_name': 'gpt-4o-mini-2024-07-18', 'system_fingerprint': 'fp_483d39d857'}, id='run-25eea023-57c1-4693-a62b-d99c2208555d', tool_calls=[{'name': 'tavily_search_results_json', 'args': {'query': 'California weather October 2023'}, 'id': 'call_uQzFA7BzlZZef6l75Zn6E2og', 'type': 'tool_call'}], tool_call_chunks=[{'name': 'tavily_search_results_json', 'args': '{\"query\":\"California weather October 2023\"}', 'id': 'call_uQzFA7BzlZZef6l75Zn6E2og', 'index': 0, 'type': 'tool_call_chunk'}]), ToolMessage(content='[{\"url\": \"https://www.weatherapi.com/\", \"content\": \"{\\'location\\': {\\'name\\': \\'California City\\', \\'region\\': \\'California\\', \\'country\\': \\'United States of America\\', \\'lat\\': 35.13, \\'lon\\': -117.99, \\'tz_id\\': \\'America/Los_Angeles\\', \\'localtime_epoch\\': 1726170321, \\'localtime\\': \\'2024-09-12 12:45\\'}, \\'current\\': {\\'last_updated_epoch\\': 1726170300, \\'last_updated\\': \\'2024-09-12 12:45\\', \\'temp_c\\': 29.1, \\'temp_f\\': 84.4, \\'is_day\\': 1, \\'condition\\': {\\'text\\': \\'Sunny\\', \\'icon\\': \\'//cdn.weatherapi.com/weather/64x64/day/113.png\\', \\'code\\': 1000}, \\'wind_mph\\': 2.2, \\'wind_kph\\': 3.6, \\'wind_degree\\': 10, \\'wind_dir\\': \\'N\\', \\'pressure_mb\\': 1008.0, \\'pressure_in\\': 29.77, \\'precip_mm\\': 0.0, \\'precip_in\\': 0.0, \\'humidity\\': 11, \\'cloud\\': 0, \\'feelslike_c\\': 27.0, \\'feelslike_f\\': 80.5, \\'windchill_c\\': 26.0, \\'windchill_f\\': 78.7, \\'heatindex_c\\': 24.7, \\'heatindex_f\\': 76.4, \\'dewpoint_c\\': 1.0, \\'dewpoint_f\\': 33.8, \\'vis_km\\': 16.0, \\'vis_miles\\': 9.0, \\'uv\\': 7.0, \\'gust_mph\\': 6.7, \\'gust_kph\\': 10.8}}\"}, {\"url\": \"https://www.timeanddate.com/weather/usa/los-angeles/historic?month=10&year=2023\", \"content\": \"Weather reports from October 2023 in Los Angeles, California, USA with highs and lows. Sign in. News. News Home; Astronomy News; Time Zone News; Calendar & Holiday News; Newsletter; Live events. ... High & Low Weather Summary for October 2023 Temperature Humidity Pressure; High: 92 °F (Oct 5, 11:53 am) 100% (Oct 7, 9:02 am) 30.11 \\\\\"Hg (Oct 7, 9 ...\"}, {\"url\": \"https://www.meteoprog.com/weather/California-california/month/october/\", \"content\": \"California (United States) weather in October 2023 ☀️ Accurate weather forecast for California in October ⛅ Detailed forecast By month Current temperature \\\\\"near me\\\\\" Weather news ⊳ Widget of weather ⊳ Water temperature | METEOPROG\"}, {\"url\": \"https://world-weather.info/forecast/usa/california/october-2023/\", \"content\": \"Weather in California in October 2023 (Maryland) - Detailed Weather Forecast for a Month Weather Weather in California Weather in California in October 2023 California Weather Forecast for October 2023 is based on statistical data. 1 +77°+61° 2 +79°+63° 3 +79°+61° 4 +77°+59° 5 +75°+59° 6 +77°+66° 7 +64°+64° 8 +64°+52° 9 +66°+50° 10 +70°+55° 11 +72°+54° 12 +70°+54° 13 +68°+54° 14 +64°+54° 15 +63°+59° 16 +61°+50° 17 +63°+54° 18 +63°+50° 19 +70°+50° Average weather in October 2023 Weather in Washington, D.C.+79° Annapolis+77° Fairfax+77° Fredericksburg+77° Manassas+79° McLean+79° Mechanicsville+77° Vienna+77° Alexandria+79° Waldorf+77° Salisbury+75° Rockville+77° Woodmere+77° Windsor+75° world\\'s temperature today Temperature units\"}, {\"url\": \"https://world-weather.info/forecast/usa/los_angeles/october-2023/\", \"content\": \"Extended weather forecast in Los Angeles. Hourly Week 10 days 14 days 30 days Year. Detailed ⚡ Los Angeles Weather Forecast for October 2023 - day/night 🌡️ temperatures, precipitations - World-Weather.info.\"}]', additional_kwargs={'name': 'tavily_search_results_json'}, tool_call_id='call_uQzFA7BzlZZef6l75Zn6E2og')]\n",
      "2024-09-13 01:15:38,506 - FloCallback - INFO - LLM started. Prompts: ['System: Given the city name you are capable of answering the latest whether this time of the year by searching the internet\\n\\nHuman: Whats the whether in california\\nAI: \\nTool: [{\"url\": \"https://www.weatherapi.com/\", \"content\": \"{\\'location\\': {\\'name\\': \\'California City\\', \\'region\\': \\'California\\', \\'country\\': \\'United States of America\\', \\'lat\\': 35.13, \\'lon\\': -117.99, \\'tz_id\\': \\'America/Los_Angeles\\', \\'localtime_epoch\\': 1726170321, \\'localtime\\': \\'2024-09-12 12:45\\'}, \\'current\\': {\\'last_updated_epoch\\': 1726170300, \\'last_updated\\': \\'2024-09-12 12:45\\', \\'temp_c\\': 29.1, \\'temp_f\\': 84.4, \\'is_day\\': 1, \\'condition\\': {\\'text\\': \\'Sunny\\', \\'icon\\': \\'//cdn.weatherapi.com/weather/64x64/day/113.png\\', \\'code\\': 1000}, \\'wind_mph\\': 2.2, \\'wind_kph\\': 3.6, \\'wind_degree\\': 10, \\'wind_dir\\': \\'N\\', \\'pressure_mb\\': 1008.0, \\'pressure_in\\': 29.77, \\'precip_mm\\': 0.0, \\'precip_in\\': 0.0, \\'humidity\\': 11, \\'cloud\\': 0, \\'feelslike_c\\': 27.0, \\'feelslike_f\\': 80.5, \\'windchill_c\\': 26.0, \\'windchill_f\\': 78.7, \\'heatindex_c\\': 24.7, \\'heatindex_f\\': 76.4, \\'dewpoint_c\\': 1.0, \\'dewpoint_f\\': 33.8, \\'vis_km\\': 16.0, \\'vis_miles\\': 9.0, \\'uv\\': 7.0, \\'gust_mph\\': 6.7, \\'gust_kph\\': 10.8}}\"}, {\"url\": \"https://www.timeanddate.com/weather/usa/los-angeles/historic?month=10&year=2023\", \"content\": \"Weather reports from October 2023 in Los Angeles, California, USA with highs and lows. Sign in. News. News Home; Astronomy News; Time Zone News; Calendar & Holiday News; Newsletter; Live events. ... High & Low Weather Summary for October 2023 Temperature Humidity Pressure; High: 92 °F (Oct 5, 11:53 am) 100% (Oct 7, 9:02 am) 30.11 \\\\\"Hg (Oct 7, 9 ...\"}, {\"url\": \"https://www.meteoprog.com/weather/California-california/month/october/\", \"content\": \"California (United States) weather in October 2023 ☀️ Accurate weather forecast for California in October ⛅ Detailed forecast By month Current temperature \\\\\"near me\\\\\" Weather news ⊳ Widget of weather ⊳ Water temperature | METEOPROG\"}, {\"url\": \"https://world-weather.info/forecast/usa/california/october-2023/\", \"content\": \"Weather in California in October 2023 (Maryland) - Detailed Weather Forecast for a Month Weather Weather in California Weather in California in October 2023 California Weather Forecast for October 2023 is based on statistical data. 1 +77°+61° 2 +79°+63° 3 +79°+61° 4 +77°+59° 5 +75°+59° 6 +77°+66° 7 +64°+64° 8 +64°+52° 9 +66°+50° 10 +70°+55° 11 +72°+54° 12 +70°+54° 13 +68°+54° 14 +64°+54° 15 +63°+59° 16 +61°+50° 17 +63°+54° 18 +63°+50° 19 +70°+50° Average weather in October 2023 Weather in Washington, D.C.+79° Annapolis+77° Fairfax+77° Fredericksburg+77° Manassas+79° McLean+79° Mechanicsville+77° Vienna+77° Alexandria+79° Waldorf+77° Salisbury+75° Rockville+77° Woodmere+77° Windsor+75° world\\'s temperature today Temperature units\"}, {\"url\": \"https://world-weather.info/forecast/usa/los_angeles/october-2023/\", \"content\": \"Extended weather forecast in Los Angeles. Hourly Week 10 days 14 days 30 days Year. Detailed ⚡ Los Angeles Weather Forecast for October 2023 - day/night 🌡️ temperatures, precipitations - World-Weather.info.\"}]']\n"
     ]
    },
    {
     "name": "stdout",
     "output_type": "stream",
     "text": [
      "\u001b[36;1m\u001b[1;3m[{'url': 'https://www.weatherapi.com/', 'content': \"{'location': {'name': 'California City', 'region': 'California', 'country': 'United States of America', 'lat': 35.13, 'lon': -117.99, 'tz_id': 'America/Los_Angeles', 'localtime_epoch': 1726170321, 'localtime': '2024-09-12 12:45'}, 'current': {'last_updated_epoch': 1726170300, 'last_updated': '2024-09-12 12:45', 'temp_c': 29.1, 'temp_f': 84.4, 'is_day': 1, 'condition': {'text': 'Sunny', 'icon': '//cdn.weatherapi.com/weather/64x64/day/113.png', 'code': 1000}, 'wind_mph': 2.2, 'wind_kph': 3.6, 'wind_degree': 10, 'wind_dir': 'N', 'pressure_mb': 1008.0, 'pressure_in': 29.77, 'precip_mm': 0.0, 'precip_in': 0.0, 'humidity': 11, 'cloud': 0, 'feelslike_c': 27.0, 'feelslike_f': 80.5, 'windchill_c': 26.0, 'windchill_f': 78.7, 'heatindex_c': 24.7, 'heatindex_f': 76.4, 'dewpoint_c': 1.0, 'dewpoint_f': 33.8, 'vis_km': 16.0, 'vis_miles': 9.0, 'uv': 7.0, 'gust_mph': 6.7, 'gust_kph': 10.8}}\"}, {'url': 'https://www.timeanddate.com/weather/usa/los-angeles/historic?month=10&year=2023', 'content': 'Weather reports from October 2023 in Los Angeles, California, USA with highs and lows. Sign in. News. News Home; Astronomy News; Time Zone News; Calendar & Holiday News; Newsletter; Live events. ... High & Low Weather Summary for October 2023 Temperature Humidity Pressure; High: 92 °F (Oct 5, 11:53 am) 100% (Oct 7, 9:02 am) 30.11 \"Hg (Oct 7, 9 ...'}, {'url': 'https://www.meteoprog.com/weather/California-california/month/october/', 'content': 'California (United States) weather in October 2023 ☀️ Accurate weather forecast for California in October ⛅ Detailed forecast By month Current temperature \"near me\" Weather news ⊳ Widget of weather ⊳ Water temperature | METEOPROG'}, {'url': 'https://world-weather.info/forecast/usa/california/october-2023/', 'content': \"Weather in California in October 2023 (Maryland) - Detailed Weather Forecast for a Month Weather Weather in California Weather in California in October 2023 California Weather Forecast for October 2023 is based on statistical data. 1 +77°+61° 2 +79°+63° 3 +79°+61° 4 +77°+59° 5 +75°+59° 6 +77°+66° 7 +64°+64° 8 +64°+52° 9 +66°+50° 10 +70°+55° 11 +72°+54° 12 +70°+54° 13 +68°+54° 14 +64°+54° 15 +63°+59° 16 +61°+50° 17 +63°+54° 18 +63°+50° 19 +70°+50° Average weather in October 2023 Weather in Washington, D.C.+79° Annapolis+77° Fairfax+77° Fredericksburg+77° Manassas+79° McLean+79° Mechanicsville+77° Vienna+77° Alexandria+79° Waldorf+77° Salisbury+75° Rockville+77° Woodmere+77° Windsor+75° world's temperature today Temperature units\"}, {'url': 'https://world-weather.info/forecast/usa/los_angeles/october-2023/', 'content': 'Extended weather forecast in Los Angeles. Hourly Week 10 days 14 days 30 days Year. Detailed ⚡ Los Angeles Weather Forecast for October 2023 - day/night 🌡️ temperatures, precipitations - World-Weather.info.'}]\u001b[0m"
     ]
    },
    {
     "name": "stderr",
     "output_type": "stream",
     "text": [
      "2024-09-13 01:15:40,497 - FloCallback - INFO - LLM ended. Output: [[ChatGenerationChunk(text='The current weather in California is sunny with a temperature of approximately 29.1°C (84.4°F). The humidity is low at 11%, and there is no precipitation. Winds are light, coming from the north at about 2.2 mph.\\n\\nFor a broader overview of October 2023, temperatures in California have varied, with highs reaching up to 92°F on October 5. The weather has generally been warm, typical for this time of year.\\n\\nFor more detailed forecasts and historical data, you can check the following sources:\\n- [Weather API](https://www.weatherapi.com/)\\n- [Time and Date](https://www.timeanddate.com/weather/usa/los-angeles/historic?month=10&year=2023)\\n- [Meteoprog](https://www.meteoprog.com/weather/California-california/month/october/)\\n- [World Weather](https://world-weather.info/forecast/usa/california/october-2023/)', generation_info={'finish_reason': 'stop', 'model_name': 'gpt-4o-mini-2024-07-18', 'system_fingerprint': 'fp_483d39d857'}, message=AIMessageChunk(content='The current weather in California is sunny with a temperature of approximately 29.1°C (84.4°F). The humidity is low at 11%, and there is no precipitation. Winds are light, coming from the north at about 2.2 mph.\\n\\nFor a broader overview of October 2023, temperatures in California have varied, with highs reaching up to 92°F on October 5. The weather has generally been warm, typical for this time of year.\\n\\nFor more detailed forecasts and historical data, you can check the following sources:\\n- [Weather API](https://www.weatherapi.com/)\\n- [Time and Date](https://www.timeanddate.com/weather/usa/los-angeles/historic?month=10&year=2023)\\n- [Meteoprog](https://www.meteoprog.com/weather/California-california/month/october/)\\n- [World Weather](https://world-weather.info/forecast/usa/california/october-2023/)', response_metadata={'finish_reason': 'stop', 'model_name': 'gpt-4o-mini-2024-07-18', 'system_fingerprint': 'fp_483d39d857'}, id='run-fd912116-3bcd-4807-afed-0c3335d27d11'))]]\n",
      "2024-09-13 01:15:40,500 - FloCallback - INFO - Chain started. Inputs: content='The current weather in California is sunny with a temperature of approximately 29.1°C (84.4°F). The humidity is low at 11%, and there is no precipitation. Winds are light, coming from the north at about 2.2 mph.\\n\\nFor a broader overview of October 2023, temperatures in California have varied, with highs reaching up to 92°F on October 5. The weather has generally been warm, typical for this time of year.\\n\\nFor more detailed forecasts and historical data, you can check the following sources:\\n- [Weather API](https://www.weatherapi.com/)\\n- [Time and Date](https://www.timeanddate.com/weather/usa/los-angeles/historic?month=10&year=2023)\\n- [Meteoprog](https://www.meteoprog.com/weather/California-california/month/october/)\\n- [World Weather](https://world-weather.info/forecast/usa/california/october-2023/)' response_metadata={'finish_reason': 'stop', 'model_name': 'gpt-4o-mini-2024-07-18', 'system_fingerprint': 'fp_483d39d857'} id='run-fd912116-3bcd-4807-afed-0c3335d27d11'\n",
      "2024-09-13 01:15:40,502 - FloCallback - INFO - Chain ended. Outputs: return_values={'output': 'The current weather in California is sunny with a temperature of approximately 29.1°C (84.4°F). The humidity is low at 11%, and there is no precipitation. Winds are light, coming from the north at about 2.2 mph.\\n\\nFor a broader overview of October 2023, temperatures in California have varied, with highs reaching up to 92°F on October 5. The weather has generally been warm, typical for this time of year.\\n\\nFor more detailed forecasts and historical data, you can check the following sources:\\n- [Weather API](https://www.weatherapi.com/)\\n- [Time and Date](https://www.timeanddate.com/weather/usa/los-angeles/historic?month=10&year=2023)\\n- [Meteoprog](https://www.meteoprog.com/weather/California-california/month/october/)\\n- [World Weather](https://world-weather.info/forecast/usa/california/october-2023/)'} log='The current weather in California is sunny with a temperature of approximately 29.1°C (84.4°F). The humidity is low at 11%, and there is no precipitation. Winds are light, coming from the north at about 2.2 mph.\\n\\nFor a broader overview of October 2023, temperatures in California have varied, with highs reaching up to 92°F on October 5. The weather has generally been warm, typical for this time of year.\\n\\nFor more detailed forecasts and historical data, you can check the following sources:\\n- [Weather API](https://www.weatherapi.com/)\\n- [Time and Date](https://www.timeanddate.com/weather/usa/los-angeles/historic?month=10&year=2023)\\n- [Meteoprog](https://www.meteoprog.com/weather/California-california/month/october/)\\n- [World Weather](https://world-weather.info/forecast/usa/california/october-2023/)'\n",
      "2024-09-13 01:15:40,504 - FloCallback - INFO - Chain ended. Outputs: return_values={'output': 'The current weather in California is sunny with a temperature of approximately 29.1°C (84.4°F). The humidity is low at 11%, and there is no precipitation. Winds are light, coming from the north at about 2.2 mph.\\n\\nFor a broader overview of October 2023, temperatures in California have varied, with highs reaching up to 92°F on October 5. The weather has generally been warm, typical for this time of year.\\n\\nFor more detailed forecasts and historical data, you can check the following sources:\\n- [Weather API](https://www.weatherapi.com/)\\n- [Time and Date](https://www.timeanddate.com/weather/usa/los-angeles/historic?month=10&year=2023)\\n- [Meteoprog](https://www.meteoprog.com/weather/California-california/month/october/)\\n- [World Weather](https://world-weather.info/forecast/usa/california/october-2023/)'} log='The current weather in California is sunny with a temperature of approximately 29.1°C (84.4°F). The humidity is low at 11%, and there is no precipitation. Winds are light, coming from the north at about 2.2 mph.\\n\\nFor a broader overview of October 2023, temperatures in California have varied, with highs reaching up to 92°F on October 5. The weather has generally been warm, typical for this time of year.\\n\\nFor more detailed forecasts and historical data, you can check the following sources:\\n- [Weather API](https://www.weatherapi.com/)\\n- [Time and Date](https://www.timeanddate.com/weather/usa/los-angeles/historic?month=10&year=2023)\\n- [Meteoprog](https://www.meteoprog.com/weather/California-california/month/october/)\\n- [World Weather](https://world-weather.info/forecast/usa/california/october-2023/)'\n",
      "2024-09-13 01:15:40,505 - FloCallback - INFO - Agent finished. Output: {'output': 'The current weather in California is sunny with a temperature of approximately 29.1°C (84.4°F). The humidity is low at 11%, and there is no precipitation. Winds are light, coming from the north at about 2.2 mph.\\n\\nFor a broader overview of October 2023, temperatures in California have varied, with highs reaching up to 92°F on October 5. The weather has generally been warm, typical for this time of year.\\n\\nFor more detailed forecasts and historical data, you can check the following sources:\\n- [Weather API](https://www.weatherapi.com/)\\n- [Time and Date](https://www.timeanddate.com/weather/usa/los-angeles/historic?month=10&year=2023)\\n- [Meteoprog](https://www.meteoprog.com/weather/California-california/month/october/)\\n- [World Weather](https://world-weather.info/forecast/usa/california/october-2023/)'}\n",
      "2024-09-13 01:15:40,507 - FloCallback - INFO - Chain ended. Outputs: {'output': 'The current weather in California is sunny with a temperature of approximately 29.1°C (84.4°F). The humidity is low at 11%, and there is no precipitation. Winds are light, coming from the north at about 2.2 mph.\\n\\nFor a broader overview of October 2023, temperatures in California have varied, with highs reaching up to 92°F on October 5. The weather has generally been warm, typical for this time of year.\\n\\nFor more detailed forecasts and historical data, you can check the following sources:\\n- [Weather API](https://www.weatherapi.com/)\\n- [Time and Date](https://www.timeanddate.com/weather/usa/los-angeles/historic?month=10&year=2023)\\n- [Meteoprog](https://www.meteoprog.com/weather/California-california/month/october/)\\n- [World Weather](https://world-weather.info/forecast/usa/california/october-2023/)'}\n"
     ]
    },
    {
     "name": "stdout",
     "output_type": "stream",
     "text": [
      "\u001b[32;1m\u001b[1;3mThe current weather in California is sunny with a temperature of approximately 29.1°C (84.4°F). The humidity is low at 11%, and there is no precipitation. Winds are light, coming from the north at about 2.2 mph.\n",
      "\n",
      "For a broader overview of October 2023, temperatures in California have varied, with highs reaching up to 92°F on October 5. The weather has generally been warm, typical for this time of year.\n",
      "\n",
      "For more detailed forecasts and historical data, you can check the following sources:\n",
      "- [Weather API](https://www.weatherapi.com/)\n",
      "- [Time and Date](https://www.timeanddate.com/weather/usa/los-angeles/historic?month=10&year=2023)\n",
      "- [Meteoprog](https://www.meteoprog.com/weather/California-california/month/october/)\n",
      "- [World Weather](https://world-weather.info/forecast/usa/california/october-2023/)\u001b[0m\n",
      "\n",
      "\u001b[1m> Finished chain.\u001b[0m\n"
     ]
    },
    {
     "data": {
      "text/plain": [
       "{'messages': [HumanMessage(content='Whats the whether in california')],\n",
       " 'output': 'The current weather in California is sunny with a temperature of approximately 29.1°C (84.4°F). The humidity is low at 11%, and there is no precipitation. Winds are light, coming from the north at about 2.2 mph.\\n\\nFor a broader overview of October 2023, temperatures in California have varied, with highs reaching up to 92°F on October 5. The weather has generally been warm, typical for this time of year.\\n\\nFor more detailed forecasts and historical data, you can check the following sources:\\n- [Weather API](https://www.weatherapi.com/)\\n- [Time and Date](https://www.timeanddate.com/weather/usa/los-angeles/historic?month=10&year=2023)\\n- [Meteoprog](https://www.meteoprog.com/weather/California-california/month/october/)\\n- [World Weather](https://world-weather.info/forecast/usa/california/october-2023/)'}"
      ]
     },
     "execution_count": 4,
     "metadata": {},
     "output_type": "execute_result"
    }
   ],
   "source": [
    "# from langchain_core.callbacks import StdOutCallbackHandler\n",
    "# handler = StdOutCallbackHandler()\n",
    "\n",
    "from flo_ai.common.flo_callback_handler import FloCallbackHandler\n",
    "\n",
    "flo = Flo.build(session, simple_weather_checking_agent)\n",
    "\n",
    "handler = FloCallbackHandler(log_level=\"INFO\")\n",
    "\n",
    "config = {\n",
    "    'callbacks' : [handler]\n",
    "}\n",
    "\n",
    "query=\"Whats the whether in california\"\n",
    "\n",
    "flo.invoke(query=query, config=config)"
   ]
  },
  {
   "cell_type": "markdown",
   "metadata": {},
   "source": [
    "## LLM Agent (agentic)\n",
    "\n",
    "Here we are gonna create a simple llm math assitant flo agent that can check answer any math question\n",
    "\n",
    "As you can see the kind is `llm`"
   ]
  },
  {
   "cell_type": "code",
   "execution_count": 15,
   "metadata": {},
   "outputs": [],
   "source": [
    "simple_llm_agent = \"\"\"\n",
    "apiVersion: flo/alpha-v1\n",
    "kind: FloAgent\n",
    "name: llm-assistant\n",
    "agent:\n",
    "    name: Ask llm anything\n",
    "    kind: llm\n",
    "    job: >\n",
    "      You are a high school maths teacher. Answer any questions the students ask \n",
    "\"\"\""
   ]
  },
  {
   "cell_type": "code",
   "execution_count": 17,
   "metadata": {},
   "outputs": [
    {
     "name": "stderr",
     "output_type": "stream",
     "text": [
      "2024-09-12 23:10:45,889 - Flo.build - INFO - Building Flo instance from YAML\n",
      "2024-09-12 23:10:45,889 - Flo.build - INFO - Building Flo instance from YAML\n",
      "2024-09-12 23:10:45,905 - Flo - INFO - Invoking query: What is pythagorus theorum\n"
     ]
    },
    {
     "data": {
      "text/plain": [
       "\"Pythagoras' Theorem is a fundamental principle in geometry that relates to right-angled triangles. It states that in a right triangle, the square of the length of the hypotenuse (the side opposite the right angle) is equal to the sum of the squares of the lengths of the other two sides. \\n\\nThe theorem can be expressed with the formula:\\n\\n\\\\[ c^2 = a^2 + b^2 \\\\]\\n\\nwhere:\\n- \\\\( c \\\\) is the length of the hypotenuse,\\n- \\\\( a \\\\) and \\\\( b \\\\) are the lengths of the other two sides.\\n\\nThis theorem is useful for calculating the length of one side of a right triangle if the lengths of the other two sides are known. Would you like to see an example of how to use it?\""
      ]
     },
     "execution_count": 17,
     "metadata": {},
     "output_type": "execute_result"
    }
   ],
   "source": [
    "flo = Flo.build(session, simple_llm_agent)\n",
    "\n",
    "flo.invoke(\"What is pythagorus theorum\")\n",
    "# print(flo.invoke(\"What is pythagorus theorum\"))"
   ]
  },
  {
   "cell_type": "markdown",
   "metadata": {},
   "source": [
    "#"
   ]
  },
  {
   "cell_type": "code",
   "execution_count": 7,
   "metadata": {},
   "outputs": [
    {
     "name": "stderr",
     "output_type": "stream",
     "text": [
      "2024-09-12 15:51:43,357 - Flo.build - INFO - Building Flo instance from YAML\n",
      "2024-09-12 15:51:43,357 - Flo.build - INFO - Building Flo instance from YAML\n",
      "2024-09-12 15:51:43,361 - Flo - INFO - Invoking query: Print what I am saying\n"
     ]
    },
    {
     "name": "stdout",
     "output_type": "stream",
     "text": [
      "{'messages': [HumanMessage(content='Print what I am saying')]}\n",
      "Tool call success\n"
     ]
    }
   ],
   "source": [
    "from typing import Optional, Type\n",
    "from langchain.pydantic_v1 import BaseModel, Field\n",
    "from langchain.tools import BaseTool, StructuredTool, tool\n",
    "\n",
    "class PrintStateTool(BaseTool):\n",
    "    name = \"printStateTool\"\n",
    "    description = \"Just print the state\"\n",
    "\n",
    "    def _run(\n",
    "        self, **kwargs\n",
    "    ) -> str:\n",
    "        print(kwargs)\n",
    "        return \"Tool call success\"\n",
    "    \n",
    "session.register_tool(\n",
    "    name=\"printStateTool\", \n",
    "    tool=PrintStateTool()\n",
    ")\n",
    "    \n",
    "simple_tool_agent = \"\"\"\n",
    "apiVersion: flo/alpha-v1\n",
    "kind: FloAgent\n",
    "name: llm-assistant\n",
    "agent:\n",
    "    name: tool-to-print-state\n",
    "    kind: tool\n",
    "    tools:\n",
    "        - name: printStateTool\n",
    "\"\"\"\n",
    "\n",
    "flo = Flo.build(session, simple_tool_agent)\n",
    "\n",
    "print(flo.invoke(\"Print what I am saying\"))"
   ]
  }
 ],
 "metadata": {
  "kernelspec": {
   "display_name": ".venv",
   "language": "python",
   "name": "python3"
  },
  "language_info": {
   "codemirror_mode": {
    "name": "ipython",
    "version": 3
   },
   "file_extension": ".py",
   "mimetype": "text/x-python",
   "name": "python",
   "nbconvert_exporter": "python",
   "pygments_lexer": "ipython3",
   "version": "3.11.6"
  }
 },
 "nbformat": 4,
 "nbformat_minor": 2
}
