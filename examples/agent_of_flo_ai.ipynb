{
 "cells": [
  {
   "cell_type": "code",
   "execution_count": 7,
   "metadata": {},
   "outputs": [
    {
     "data": {
      "text/plain": [
       "True"
      ]
     },
     "execution_count": 7,
     "metadata": {},
     "output_type": "execute_result"
    }
   ],
   "source": [
    "from flo_ai import Flo\n",
    "from flo_ai import FloSession\n",
    "from langchain_openai import ChatOpenAI, OpenAIEmbeddings\n",
    "\n",
    "from dotenv import load_dotenv\n",
    "load_dotenv()"
   ]
  },
  {
   "cell_type": "code",
   "execution_count": 8,
   "metadata": {},
   "outputs": [
    {
     "data": {
      "text/plain": [
       "<flo_ai.state.flo_session.FloSession at 0x11ed90250>"
      ]
     },
     "execution_count": 8,
     "metadata": {},
     "output_type": "execute_result"
    }
   ],
   "source": [
    "from langchain_community.tools.tavily_search.tool import TavilySearchResults\n",
    "\n",
    "llm = ChatOpenAI(temperature=0, model_name='gpt-4o-mini')\n",
    "session = FloSession(llm)\n",
    "\n",
    "session.register_tool(\n",
    "    name=\"InternetSearchTool\", \n",
    "    tool=TavilySearchResults()\n",
    ")"
   ]
  },
  {
   "cell_type": "code",
   "execution_count": 9,
   "metadata": {},
   "outputs": [],
   "source": [
    "simple_weather_checking_agent = \"\"\"\n",
    "apiVersion: flo/alpha-v1\n",
    "kind: FloAgent\n",
    "name: weather-assistant\n",
    "agent:\n",
    "    name: Weather Assistant\n",
    "    job: >\n",
    "      Given the city name you are capable of answering the latest whether this time of the year by searching the internet\n",
    "    tools:\n",
    "      - name: InternetSearchTool\n",
    "\"\"\""
   ]
  },
  {
   "cell_type": "code",
   "execution_count": 6,
   "metadata": {},
   "outputs": [
    {
     "name": "stdout",
     "output_type": "stream",
     "text": [
      "\n",
      "\n",
      "\u001b[1m> Entering new AgentExecutor chain...\u001b[0m\n",
      "\u001b[32;1m\u001b[1;3m\n",
      "Invoking: `tavily_search_results_json` with `{'query': 'California weather October 2023'}`\n",
      "\n",
      "\n",
      "\u001b[0m\u001b[36;1m\u001b[1;3m[{'url': 'https://www.weatherapi.com/', 'content': \"{'location': {'name': 'California City', 'region': 'California', 'country': 'United States of America', 'lat': 35.13, 'lon': -117.99, 'tz_id': 'America/Los_Angeles', 'localtime_epoch': 1725354983, 'localtime': '2024-09-03 02:16'}, 'current': {'last_updated_epoch': 1725354900, 'last_updated': '2024-09-03 02:15', 'temp_c': 26.1, 'temp_f': 79.0, 'is_day': 0, 'condition': {'text': 'Clear', 'icon': '//cdn.weatherapi.com/weather/64x64/night/113.png', 'code': 1000}, 'wind_mph': 4.3, 'wind_kph': 6.8, 'wind_degree': 160, 'wind_dir': 'SSE', 'pressure_mb': 1016.0, 'pressure_in': 29.99, 'precip_mm': 0.0, 'precip_in': 0.0, 'humidity': 26, 'cloud': 0, 'feelslike_c': 25.5, 'feelslike_f': 77.9, 'windchill_c': 24.1, 'windchill_f': 75.4, 'heatindex_c': 24.3, 'heatindex_f': 75.7, 'dewpoint_c': 5.8, 'dewpoint_f': 42.4, 'vis_km': 16.0, 'vis_miles': 9.0, 'uv': 1.0, 'gust_mph': 9.9, 'gust_kph': 15.9}}\"}, {'url': 'https://world-weather.info/forecast/usa/california/october-2023/', 'content': 'Detailed California Weather Forecast for October 2023 - day/night temperatures, precipitations - World-Weather.info'}, {'url': 'https://www.latimes.com/environment/story/2023-10-18/california-heat-wave-2023-when-will-it-end', 'content': 'October heat wave could break records in California, but chance of rain awaits next week. Oct. 19, 2023. The unseasonably hot weather brings increased concern for heat-related illness, especially ...'}, {'url': 'https://hikersbay.com/climate/october/usa/california?lang=en', 'content': 'Weather in California in October 2023. Travel guide and advices. Read an overview of the climate. Weather phenomena recorded in previous years in California ☃ Water Temperature in localities in California ☀ Weather forecast for California in October ☔. Temperature of water and air, precipitation, amount of days with rain and advice on the best time to visit California.'}, {'url': 'https://www.timeanddate.com/weather/usa/los-angeles/historic?month=10&year=2023', 'content': 'Weather reports from October 2023 in Los Angeles, California, USA with highs and lows'}]\u001b[0m\u001b[32;1m\u001b[1;3mThe weather in California during October 2023 has been characterized by unseasonably hot conditions, with a recent heat wave that could break records. Here are some key points:\n",
      "\n",
      "- **Current Temperature**: As of now, the temperature in California City is around 26.1°C (79°F) with clear skies.\n",
      "- **Humidity**: The humidity level is relatively low at 26%.\n",
      "- **Wind**: There is a gentle breeze coming from the south-southeast at about 4.3 mph.\n",
      "- **Precipitation**: There has been no recorded precipitation recently.\n",
      "\n",
      "Looking ahead, there is a chance of rain next week, which may provide some relief from the heat. \n",
      "\n",
      "For more detailed forecasts and updates, you can check resources like [World Weather](https://world-weather.info/forecast/usa/california/october-2023/) or the [Los Angeles Times](https://www.latimes.com/environment/story/2023-10-18/california-heat-wave-2023-when-will-it-end).\u001b[0m\n",
      "\n",
      "\u001b[1m> Finished chain.\u001b[0m\n",
      "{'messages': [HumanMessage(content='Whats the whether in california')], 'output': 'The weather in California during October 2023 has been characterized by unseasonably hot conditions, with a recent heat wave that could break records. Here are some key points:\\n\\n- **Current Temperature**: As of now, the temperature in California City is around 26.1°C (79°F) with clear skies.\\n- **Humidity**: The humidity level is relatively low at 26%.\\n- **Wind**: There is a gentle breeze coming from the south-southeast at about 4.3 mph.\\n- **Precipitation**: There has been no recorded precipitation recently.\\n\\nLooking ahead, there is a chance of rain next week, which may provide some relief from the heat. \\n\\nFor more detailed forecasts and updates, you can check resources like [World Weather](https://world-weather.info/forecast/usa/california/october-2023/) or the [Los Angeles Times](https://www.latimes.com/environment/story/2023-10-18/california-heat-wave-2023-when-will-it-end).'}\n"
     ]
    }
   ],
   "source": [
    "flo = Flo.build(session, simple_weather_checking_agent)\n",
    "\n",
    "print(flo.invoke(\"Whats the whether in california\"))"
   ]
  },
  {
   "cell_type": "code",
   "execution_count": 3,
   "metadata": {},
   "outputs": [],
   "source": [
    "simple_ll_agent = \"\"\"\n",
    "apiVersion: flo/alpha-v1\n",
    "kind: FloAgent\n",
    "name: llm-assistant\n",
    "agent:\n",
    "    name: Ask llm anything\n",
    "    kind: llm\n",
    "    job: >\n",
    "      You are a high school maths teacher. Answer any questions the students ask \n",
    "\"\"\""
   ]
  },
  {
   "cell_type": "code",
   "execution_count": 4,
   "metadata": {},
   "outputs": [
    {
     "name": "stdout",
     "output_type": "stream",
     "text": [
      "Pythagoras' Theorem is a fundamental principle in geometry that relates to right-angled triangles. It states that in a right triangle, the square of the length of the hypotenuse (the side opposite the right angle) is equal to the sum of the squares of the lengths of the other two sides. \n",
      "\n",
      "The theorem can be expressed with the formula:\n",
      "\n",
      "\\[ c^2 = a^2 + b^2 \\]\n",
      "\n",
      "where:\n",
      "- \\( c \\) is the length of the hypotenuse,\n",
      "- \\( a \\) and \\( b \\) are the lengths of the other two sides.\n",
      "\n",
      "This theorem is very useful for calculating distances and solving problems involving right triangles. If you have any specific examples or problems you'd like to discuss, feel free to ask!\n"
     ]
    }
   ],
   "source": [
    "flo = Flo.build(session, simple_ll_agent)\n",
    "\n",
    "print(flo.invoke(\"What is pythagorus theorum\"))"
   ]
  }
 ],
 "metadata": {
  "kernelspec": {
   "display_name": ".venv",
   "language": "python",
   "name": "python3"
  },
  "language_info": {
   "codemirror_mode": {
    "name": "ipython",
    "version": 3
   },
   "file_extension": ".py",
   "mimetype": "text/x-python",
   "name": "python",
   "nbconvert_exporter": "python",
   "pygments_lexer": "ipython3",
   "version": "3.11.6"
  }
 },
 "nbformat": 4,
 "nbformat_minor": 2
}
