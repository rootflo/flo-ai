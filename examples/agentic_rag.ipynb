{
 "cells": [
  {
   "cell_type": "code",
   "execution_count": 1,
   "metadata": {},
   "outputs": [
    {
     "data": {
      "text/plain": [
       "True"
      ]
     },
     "execution_count": 1,
     "metadata": {},
     "output_type": "execute_result"
    }
   ],
   "source": [
    "from flo_ai import Flo\n",
    "from flo_ai import FloSession\n",
    "from langchain_openai import ChatOpenAI, OpenAIEmbeddings\n",
    "from langchain_chroma import Chroma\n",
    "from langchain_community.document_loaders import TextLoader\n",
    "from langchain_community.embeddings.sentence_transformer import (\n",
    "    SentenceTransformerEmbeddings,\n",
    ")\n",
    "from langchain_text_splitters import CharacterTextSplitter\n",
    "\n",
    "from dotenv import load_dotenv\n",
    "load_dotenv()"
   ]
  },
  {
   "cell_type": "code",
   "execution_count": 2,
   "metadata": {},
   "outputs": [
    {
     "name": "stderr",
     "output_type": "stream",
     "text": [
      "/Users/vizsatiz/Documents/hub/flo/.venv/lib/python3.11/site-packages/sentence_transformers/cross_encoder/CrossEncoder.py:11: TqdmWarning: IProgress not found. Please update jupyter and ipywidgets. See https://ipywidgets.readthedocs.io/en/stable/user_install.html\n",
      "  from tqdm.autonotebook import tqdm, trange\n",
      "/Users/vizsatiz/Documents/hub/flo/.venv/lib/python3.11/site-packages/transformers/tokenization_utils_base.py:1601: FutureWarning: `clean_up_tokenization_spaces` was not set. It will be set to `True` by default. This behavior will be depracted in transformers v4.45, and will be then set to `False` by default. For more details check this issue: https://github.com/huggingface/transformers/issues/31884\n",
      "  warnings.warn(\n"
     ]
    }
   ],
   "source": [
    "# load the document and split it into chunks\n",
    "loader = TextLoader(\"./rag_document.txt\")\n",
    "documents = loader.load()\n",
    "\n",
    "# split it into chunks\n",
    "text_splitter = CharacterTextSplitter(chunk_size=1000, chunk_overlap=0)\n",
    "docs = text_splitter.split_documents(documents)\n",
    "\n",
    "# create the open-source embedding function\n",
    "embedding_function = SentenceTransformerEmbeddings(model_name=\"all-MiniLM-L6-v2\")\n",
    "\n",
    "# load it into Chroma\n",
    "db = Chroma.from_documents(docs, embedding_function)"
   ]
  },
  {
   "cell_type": "code",
   "execution_count": 3,
   "metadata": {},
   "outputs": [
    {
     "name": "stderr",
     "output_type": "stream",
     "text": [
      "2024-09-22 16:42:53,250 - SESSION - INFO - New FloSession created with ID: f931f117-6901-49b2-a69e-5d9c48416320\n",
      "2024-09-22 16:42:53,336 - SESSION - INFO - Tool 'HousingLoanTool' registered for session f931f117-6901-49b2-a69e-5d9c48416320\n"
     ]
    },
    {
     "data": {
      "text/plain": [
       "<flo_ai.state.flo_session.FloSession at 0x15e7c1190>"
      ]
     },
     "execution_count": 3,
     "metadata": {},
     "output_type": "execute_result"
    }
   ],
   "source": [
    "from flo_ai.retrievers.flo_retriever import FloRagBuilder\n",
    "from flo_ai.retrievers.flo_compression_pipeline import FloCompressionPipeline\n",
    "\n",
    "llm = ChatOpenAI(temperature=0, model_name='gpt-4o-mini')\n",
    "session = FloSession(llm)\n",
    "builder = FloRagBuilder(session, db.as_retriever())\n",
    "compression_pipeline = FloCompressionPipeline(OpenAIEmbeddings(model=\"text-embedding-3-small\"))\n",
    "compression_pipeline.add_embedding_reduntant_filter()\n",
    "compression_pipeline.add_embedding_relevant_filter()\n",
    "# Reranking\n",
    "\n",
    "retriever_tool = builder.with_compression(compression_pipeline).build_retriever_tool(name=\"HousingLoanRetreiver\",\n",
    "                                                                                               description=\"Tool to fetch data around housing loans\")\n",
    "session.register_tool(name=\"HousingLoanTool\", tool=retriever_tool)"
   ]
  },
  {
   "cell_type": "code",
   "execution_count": 10,
   "metadata": {},
   "outputs": [
    {
     "name": "stderr",
     "output_type": "stream",
     "text": [
      "2024-09-22 16:52:46,167 - BUILDER - INFO - Building Flo instance from YAML\n",
      "2024-09-22 16:52:46,177 - COMMON - INFO - Flo instance created for session f931f117-6901-49b2-a69e-5d9c48416320\n"
     ]
    },
    {
     "data": {
      "image/jpeg": "[encoded data removed]",
      "text/plain": [
       "<IPython.core.display.Image object>"
      ]
     },
     "metadata": {},
     "output_type": "display_data"
    }
   ],
   "source": [
    "agent_yaml = \"\"\"\n",
    "apiVersion: flo/alpha-v1\n",
    "kind: FloRoutedTeam\n",
    "name: agentic-rag\n",
    "team:\n",
    "    name: AgenticRAGTeam\n",
    "    router:\n",
    "        name: SupportSupervisor\n",
    "        kind: linear\n",
    "    agents:\n",
    "      - name: HousingLoanRetriver\n",
    "        job: Fetching the loan information from the loan tool\n",
    "        tools:\n",
    "          - name: HousingLoanTool\n",
    "\"\"\"\n",
    "\n",
    "flo = Flo.build(session, agent_yaml)\n",
    "\n",
    "flo.draw()"
   ]
  },
  {
   "cell_type": "code",
   "execution_count": 11,
   "metadata": {},
   "outputs": [
    {
     "name": "stderr",
     "output_type": "stream",
     "text": [
      "2024-09-22 16:52:49,141 - COMMON - INFO - Invoking query for session f931f117-6901-49b2-a69e-5d9c48416320: Whats the interest rate for housing loan ?\n",
      "huggingface/tokenizers: The current process just got forked, after parallelism has already been used. Disabling parallelism to avoid deadlocks...\n",
      "To disable this warning, you can either:\n",
      "\t- Avoid using `tokenizers` before the fork if possible\n",
      "\t- Explicitly set the environment variable TOKENIZERS_PARALLELISM=(true | false)\n"
     ]
    },
    {
     "name": "stdout",
     "output_type": "stream",
     "text": [
      "\n",
      "\n",
      "\u001b[1m> Entering new AgentExecutor chain...\u001b[0m\n",
      "\u001b[32;1m\u001b[1;3m\n",
      "Invoking: `HousingLoanRetreiver` with `{'query': 'interest rate for housing loan'}`\n",
      "\n",
      "\n",
      "\u001b[0m\u001b[36;1m\u001b[1;3mYou can use any one of the ways to repay the loan:\n",
      " \n",
      "  Cheques\n",
      "  Standing instructions at your branch\n",
      "  FedNet - Internet Banking\n",
      "  Automated Payment through ECS\n",
      "  Mobile Banking\n",
      "\n",
      "  Housing loan interest rates will change subject to the changes made by Bank/RBI from time to time. \n",
      "\n",
      "Present Repo Rate\t 6.50%  (p.a)\n",
      " \n",
      "\n",
      "Loan scheme\n",
      "\n",
      "Interest Rate (%) * \n",
      "\n",
      "Home Loan  \n",
      "\n",
      "8.80 (Repo Rate+ 2.30) Onwards \n",
      "\n",
      "*T&C Apply\n",
      "\n",
      "Housing Loan\n",
      "\n",
      "Your dream home is never far away! Get hassle free home loans from Federal Bank to turn your dream home into reality. We assist you to realize your dream home. Avail your Housing Loan from us at competitive interest rates. The loan scheme assists borrowers for construction of house, acquisition of land & construction of house, repairs / renovation / remodeling / extension of house, reimbursement of debt incurred for construction / purchase / furnishing / beautification / purchase of flat / villa / house plots / takeover of housing loans / supplementary housing loan to employees of well-run companies / purchase of house plot for subsequent construction of house etc.\n",
      "\n",
      "NRI individuals including salaried people, self-employed and business persons are eligible for Housing Loan.\n",
      "Persons of Indian Origin (PIO) are also eligible for Housing Loan subject to following conditions:\n",
      "The loan is covered by primary / collateral security of immovable property in India in the name of PIO.\n",
      "The PIO should hold a valid PIO Card accompanied by a valid foreign passport.\n",
      "A close relative (as defined in Companies Act) residing in India should join as co-obligant to the loan.\n",
      "Age of the borrower should not exceed 55 years at the end of loan tenure.\n",
      "Monthly income should be not less than Rs. 50000/-.\n",
      "To avail the loan, you can apply online in simple steps. After submitting the application, bank will process your application and will be informing further details. You can track the progress of application too.\n",
      "\n",
      "\n",
      "Repayment of the loan is made as Equated Monthly Installments (EMI).\n",
      "\n",
      "Maximum funding for your dream house -85% of the project cost.\n",
      "Loan amount up to Rs. 1500 Lakhs \n",
      "Longer repayment period up to 360 months\n",
      "Repayment holiday up to 36 months.\n",
      "Loan can be availed in overdraft format\n",
      "Minimal paperwork\n",
      "Speedy loan approval\n",
      "No pre closure charges\n",
      "Low processing fees\n",
      "Optional funding for life insurance \n",
      "Easy top up loans in future.\n",
      "Repayment of the loan is made as Equated Monthly Installments (EMI).\n",
      "\n",
      "\n",
      "Eligibility\n",
      "For Residents:\n",
      "\n",
      " \n",
      "\n",
      "For NRIs:\u001b[0m\u001b[32;1m\u001b[1;3mThe current interest rate for housing loans starts at **8.80%** (which is the Repo Rate of **6.50%** plus an additional **2.30%**). \n",
      "\n",
      "Please note that interest rates may vary based on changes made by the bank or the Reserve Bank of India (RBI) over time.\u001b[0m\n",
      "\n",
      "\u001b[1m> Finished chain.\u001b[0m\n",
      "{'messages': [HumanMessage(content='Whats the interest rate for housing loan ?'), HumanMessage(content='The current interest rate for housing loans starts at **8.80%** (which is the Repo Rate of **6.50%** plus an additional **2.30%**). \\n\\nPlease note that interest rates may vary based on changes made by the bank or the Reserve Bank of India (RBI) over time.', name='HousingLoanRetriver')]}\n"
     ]
    }
   ],
   "source": [
    "print(flo.invoke(\"Whats the interest rate for housing loan ?\"))"
   ]
  }
 ],
 "metadata": {
  "kernelspec": {
   "display_name": "Python 3",
   "language": "python",
   "name": "python3"
  },
  "language_info": {
   "codemirror_mode": {
    "name": "ipython",
    "version": 3
   },
   "file_extension": ".py",
   "mimetype": "text/x-python",
   "name": "python",
   "nbconvert_exporter": "python",
   "pygments_lexer": "ipython3",
   "version": "3.11.6"
  }
 },
 "nbformat": 4,
 "nbformat_minor": 2
}
