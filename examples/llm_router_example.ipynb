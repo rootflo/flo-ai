{
 "cells": [
  {
   "cell_type": "code",
   "execution_count": 1,
   "metadata": {},
   "outputs": [
    {
     "data": {
      "text/plain": [
       "True"
      ]
     },
     "execution_count": 1,
     "metadata": {},
     "output_type": "execute_result"
    }
   ],
   "source": [
    "from flo_ai import Flo\n",
    "from flo_ai import FloSession\n",
    "from langchain_openai import ChatOpenAI, OpenAIEmbeddings\n",
    "\n",
    "from dotenv import load_dotenv\n",
    "load_dotenv()"
   ]
  },
  {
   "cell_type": "code",
   "execution_count": 2,
   "metadata": {},
   "outputs": [],
   "source": [
    "from langchain_community.tools.tavily_search.tool import TavilySearchResults\n",
    "\n",
    "llm = ChatOpenAI(temperature=0, model_name='gpt-4o-mini')\n",
    "session = FloSession(llm)\n"
   ]
  },
  {
   "cell_type": "code",
   "execution_count": 3,
   "metadata": {},
   "outputs": [],
   "source": [
    "agent_yaml = \"\"\"\n",
    "apiVersion: flo/alpha-v1\n",
    "kind: FloRoutedTeam\n",
    "name: adding-team\n",
    "team:\n",
    "    name: AddingTeam1\n",
    "    router:\n",
    "        name: router\n",
    "        kind: llm\n",
    "        job: Sent to the next member which was not called\n",
    "    agents:\n",
    "      - name: Agent1\n",
    "        kind: llm\n",
    "        role: Expert mathematician\n",
    "        job: You are an expert in mathematics. Add one to the number given to you. And pass the result to the next agent\n",
    "      - name: Agent2\n",
    "        kind: llm\n",
    "        role: Expert mathematician\n",
    "        job: You are an expert in mathematics. Add one to the number given to you. And pass the result to the next agent\n",
    "      - name: Agent3\n",
    "        kind: llm\n",
    "        role: Expert mathematician\n",
    "        job: You are an expert in mathematics. Add one to the number given to you. And pass the result to the next agent\n",
    "\"\"\""
   ]
  },
  {
   "cell_type": "code",
   "execution_count": 4,
   "metadata": {},
   "outputs": [
    {
     "name": "stdout",
     "output_type": "stream",
     "text": [
      "{'messages': [HumanMessage(content='Start with number 7'), HumanMessage(content='The result is 8.', name='Agent1-rzQ1B'), HumanMessage(content='The result is 9.', name='Agent2-izmIo'), HumanMessage(content='The result is 10.', name='Agent3-WgTbh')], 'next': 'FINISH'}\n"
     ]
    }
   ],
   "source": [
    "flo = Flo.build(session, agent_yaml)\n",
    "flo.draw_to_file(\"aasd.png\")\n",
    "\n",
    "print(flo.invoke(\"Start with number 7\"))"
   ]
  }
 ],
 "metadata": {
  "kernelspec": {
   "display_name": ".venv",
   "language": "python",
   "name": "python3"
  },
  "language_info": {
   "codemirror_mode": {
    "name": "ipython",
    "version": 3
   },
   "file_extension": ".py",
   "mimetype": "text/x-python",
   "name": "python",
   "nbconvert_exporter": "python",
   "pygments_lexer": "ipython3",
   "version": "3.11.6"
  }
 },
 "nbformat": 4,
 "nbformat_minor": 2
}
